{
  "nbformat": 4,
  "nbformat_minor": 0,
  "metadata": {
    "colab": {
      "name": "Computation_Mid_Testing_Dataset.ipynb",
      "provenance": []
    },
    "kernelspec": {
      "name": "python2",
      "display_name": "Python 2"
    },
    "accelerator": "GPU",
    "widgets": {
      "application/vnd.jupyter.widget-state+json": {
        "b025e6d973be4a53a48bd0ecd0db20b0": {
          "model_module": "@jupyter-widgets/controls",
          "model_name": "HBoxModel",
          "state": {
            "_view_name": "HBoxView",
            "_dom_classes": [],
            "_model_name": "HBoxModel",
            "_view_module": "@jupyter-widgets/controls",
            "_model_module_version": "1.5.0",
            "_view_count": null,
            "_view_module_version": "1.5.0",
            "box_style": "",
            "layout": "IPY_MODEL_17ad7b6c19ad4fbfa0588ad5bfc8076e",
            "_model_module": "@jupyter-widgets/controls",
            "children": [
              "IPY_MODEL_0c9b12a6616943b4b22e2f41e139df4b",
              "IPY_MODEL_797eac52a1624144bd4d676be266bd15"
            ]
          }
        },
        "17ad7b6c19ad4fbfa0588ad5bfc8076e": {
          "model_module": "@jupyter-widgets/base",
          "model_name": "LayoutModel",
          "state": {
            "_view_name": "LayoutView",
            "grid_template_rows": null,
            "right": null,
            "justify_content": null,
            "_view_module": "@jupyter-widgets/base",
            "_model_module_version": "1.2.0",
            "_view_count": null,
            "flex_flow": null,
            "min_width": null,
            "border": null,
            "align_items": null,
            "bottom": null,
            "_model_module": "@jupyter-widgets/base",
            "top": null,
            "grid_column": null,
            "width": null,
            "overflow_x": null,
            "grid_auto_flow": null,
            "grid_area": null,
            "grid_template_columns": null,
            "flex": null,
            "_model_name": "LayoutModel",
            "justify_items": null,
            "grid_row": null,
            "max_height": null,
            "align_content": null,
            "visibility": null,
            "overflow": null,
            "height": null,
            "min_height": null,
            "padding": null,
            "grid_auto_rows": null,
            "grid_gap": null,
            "overflow_y": null,
            "max_width": null,
            "order": null,
            "_view_module_version": "1.2.0",
            "align_self": null,
            "grid_template_areas": null,
            "object_position": null,
            "object_fit": null,
            "grid_auto_columns": null,
            "margin": null,
            "display": null,
            "left": null
          }
        },
        "0c9b12a6616943b4b22e2f41e139df4b": {
          "model_module": "@jupyter-widgets/controls",
          "model_name": "IntProgressModel",
          "state": {
            "_view_name": "ProgressView",
            "style": "IPY_MODEL_107c7e9cdfe6429db61639ed97113537",
            "_view_module": "@jupyter-widgets/controls",
            "_dom_classes": [],
            "orientation": "horizontal",
            "min": 0,
            "bar_style": "success",
            "max": 553433881,
            "_model_name": "IntProgressModel",
            "_model_module_version": "1.5.0",
            "value": 553433881,
            "_view_count": null,
            "_view_module_version": "1.5.0",
            "description_tooltip": null,
            "_model_module": "@jupyter-widgets/controls",
            "layout": "IPY_MODEL_f7eeba11f783472bacdb5be374895c4c",
            "description": ""
          }
        },
        "797eac52a1624144bd4d676be266bd15": {
          "model_module": "@jupyter-widgets/controls",
          "model_name": "HTMLModel",
          "state": {
            "_view_name": "HTMLView",
            "style": "IPY_MODEL_acc67d9c246c45629aa55949ae0ad9c8",
            "_dom_classes": [],
            "description": "",
            "_model_name": "HTMLModel",
            "placeholder": "​",
            "_view_module": "@jupyter-widgets/controls",
            "_model_module_version": "1.5.0",
            "value": "100% 528M/528M [00:03&lt;00:00, 168MB/s]",
            "_view_count": null,
            "_view_module_version": "1.5.0",
            "description_tooltip": null,
            "_model_module": "@jupyter-widgets/controls",
            "layout": "IPY_MODEL_c71851f2fe8f42e6a528b59b96db5f59"
          }
        },
        "107c7e9cdfe6429db61639ed97113537": {
          "model_module": "@jupyter-widgets/controls",
          "model_name": "ProgressStyleModel",
          "state": {
            "_view_name": "StyleView",
            "_model_name": "ProgressStyleModel",
            "description_width": "",
            "_view_module": "@jupyter-widgets/base",
            "_model_module_version": "1.5.0",
            "_view_count": null,
            "_view_module_version": "1.2.0",
            "bar_color": null,
            "_model_module": "@jupyter-widgets/controls"
          }
        },
        "f7eeba11f783472bacdb5be374895c4c": {
          "model_module": "@jupyter-widgets/base",
          "model_name": "LayoutModel",
          "state": {
            "_view_name": "LayoutView",
            "grid_template_rows": null,
            "right": null,
            "justify_content": null,
            "_view_module": "@jupyter-widgets/base",
            "_model_module_version": "1.2.0",
            "_view_count": null,
            "flex_flow": null,
            "min_width": null,
            "border": null,
            "align_items": null,
            "bottom": null,
            "_model_module": "@jupyter-widgets/base",
            "top": null,
            "grid_column": null,
            "width": null,
            "overflow_x": null,
            "grid_auto_flow": null,
            "grid_area": null,
            "grid_template_columns": null,
            "flex": null,
            "_model_name": "LayoutModel",
            "justify_items": null,
            "grid_row": null,
            "max_height": null,
            "align_content": null,
            "visibility": null,
            "overflow": null,
            "height": null,
            "min_height": null,
            "padding": null,
            "grid_auto_rows": null,
            "grid_gap": null,
            "overflow_y": null,
            "max_width": null,
            "order": null,
            "_view_module_version": "1.2.0",
            "align_self": null,
            "grid_template_areas": null,
            "object_position": null,
            "object_fit": null,
            "grid_auto_columns": null,
            "margin": null,
            "display": null,
            "left": null
          }
        },
        "acc67d9c246c45629aa55949ae0ad9c8": {
          "model_module": "@jupyter-widgets/controls",
          "model_name": "DescriptionStyleModel",
          "state": {
            "_view_name": "StyleView",
            "_model_name": "DescriptionStyleModel",
            "description_width": "",
            "_view_module": "@jupyter-widgets/base",
            "_model_module_version": "1.5.0",
            "_view_count": null,
            "_view_module_version": "1.2.0",
            "_model_module": "@jupyter-widgets/controls"
          }
        },
        "c71851f2fe8f42e6a528b59b96db5f59": {
          "model_module": "@jupyter-widgets/base",
          "model_name": "LayoutModel",
          "state": {
            "_view_name": "LayoutView",
            "grid_template_rows": null,
            "right": null,
            "justify_content": null,
            "_view_module": "@jupyter-widgets/base",
            "_model_module_version": "1.2.0",
            "_view_count": null,
            "flex_flow": null,
            "min_width": null,
            "border": null,
            "align_items": null,
            "bottom": null,
            "_model_module": "@jupyter-widgets/base",
            "top": null,
            "grid_column": null,
            "width": null,
            "overflow_x": null,
            "grid_auto_flow": null,
            "grid_area": null,
            "grid_template_columns": null,
            "flex": null,
            "_model_name": "LayoutModel",
            "justify_items": null,
            "grid_row": null,
            "max_height": null,
            "align_content": null,
            "visibility": null,
            "overflow": null,
            "height": null,
            "min_height": null,
            "padding": null,
            "grid_auto_rows": null,
            "grid_gap": null,
            "overflow_y": null,
            "max_width": null,
            "order": null,
            "_view_module_version": "1.2.0",
            "align_self": null,
            "grid_template_areas": null,
            "object_position": null,
            "object_fit": null,
            "grid_auto_columns": null,
            "margin": null,
            "display": null,
            "left": null
          }
        }
      }
    }
  },
  "cells": [
    {
      "cell_type": "code",
      "metadata": {
        "id": "QMvREJJJA_1-",
        "colab_type": "code",
        "colab": {}
      },
      "source": [
        "mid_test = 126"
      ],
      "execution_count": 0,
      "outputs": []
    },
    {
      "cell_type": "code",
      "metadata": {
        "id": "XyKWEb9gtB5E",
        "colab_type": "code",
        "colab": {}
      },
      "source": [
        "\n",
        "mid_testing = ['part_B_final/test_data_mids/images/IMG_117.tiff', 'part_B_final/test_data_mids/images/IMG_68.tiff', 'part_B_final/test_data_mids/images/IMG_115.tiff', 'part_B_final/test_data_mids/images/IMG_80.tiff', 'part_B_final/test_data_mids/images/IMG_107.tiff', 'part_B_final/test_data_mids/images/IMG_119.tiff', 'part_B_final/test_data_mids/images/IMG_36.tiff', 'part_B_final/test_data/images/IMG_262.tiff', 'part_B_final/test_data/images/IMG_62.tiff', 'part_B_final/test_data_mids/images/IMG_57.tiff', 'part_B_final/test_data/images/IMG_114.tiff', 'part_B_final/test_data_mids/images/IMG_114.tiff', 'part_B_final/test_data_mids/images/IMG_4.tiff', 'part_B_final/test_data_mids/images/IMG_48.tiff', 'part_B_final/test_data/images/IMG_277.tiff', 'part_B_final/test_data_mids/images/IMG_75.tiff', 'part_B_final/test_data_mids/images/IMG_6.tiff', 'part_B_final/test_data_mids/images/IMG_88.tiff', 'part_B_final/test_data_mids/images/IMG_21.tiff', 'part_B_final/test_data/images/IMG_227.tiff', 'part_B_final/test_data_mids/images/IMG_20.tiff', 'part_B_final/test_data_high/images/IMG_28.tiff', 'part_B_final/test_data_high/images/IMG_34.tiff', 'part_B_final/test_data_mids/images/IMG_35.tiff', 'part_B_final/test_data_mids/images/IMG_23.tiff', 'part_B_final/test_data_mids/images/IMG_63.tiff', 'part_B_final/test_data_mids/images/IMG_42.tiff', 'part_B_final/test_data_mids/images/IMG_59.tiff', 'part_B_final/test_data_mids/images/IMG_2.tiff', 'part_B_final/test_data_mids/images/IMG_82.tiff', 'part_B_final/test_data_mids/images/IMG_67.tiff', 'part_B_final/test_data_mids/images/IMG_99.tiff', 'part_B_final/test_data_mids/images/IMG_92.tiff', 'part_B_final/test_data_mids/images/IMG_39.tiff', 'part_B_final/test_data_mids/images/IMG_116.tiff', 'part_B_final/test_data_high/images/IMG_3.tiff', 'part_B_final/test_data_mids/images/IMG_98.tiff', 'part_B_final/test_data/images/IMG_330.tiff', 'part_B_final/test_data_high/images/IMG_37.tiff', 'part_B_final/test_data/images/IMG_238.tiff', 'part_B_final/test_data_mids/images/IMG_46.tiff', 'part_B_final/test_data_mids/images/IMG_58.tiff', 'part_B_final/test_data_mids/images/IMG_108.tiff', 'part_B_final/test_data_mids/images/IMG_112.tiff', 'part_B_final/test_data_mids/images/IMG_26.tiff', 'part_B_final/test_data_mids/images/IMG_25.tiff', 'part_B_final/test_data_mids/images/IMG_44.tiff', 'part_B_final/test_data_mids/images/IMG_7.tiff', 'part_B_final/test_data_mids/images/IMG_111.tiff', 'part_B_final/test_data_mids/images/IMG_64.tiff', 'part_B_final/test_data_mids/images/IMG_105.tiff', 'part_B_final/test_data_mids/images/IMG_50.tiff', 'part_B_final/test_data_mids/images/IMG_22.tiff', 'part_B_final/test_data_mids/images/IMG_77.tiff', 'part_B_final/test_data_mids/images/IMG_38.tiff', 'part_B_final/test_data_mids/images/IMG_31.tiff', 'part_B_final/test_data_mids/images/IMG_72.tiff', 'part_B_final/test_data/images/IMG_35.tiff', 'part_B_final/test_data_mids/images/IMG_87.tiff', 'part_B_final/test_data_mids/images/IMG_43.tiff', 'part_B_final/test_data_mids/images/IMG_71.tiff', 'part_B_final/test_data_mids/images/IMG_37.tiff', 'part_B_final/test_data_mids/images/IMG_61.tiff', 'part_B_final/test_data_mids/images/IMG_90.tiff', 'part_B_final/test_data_mids/images/IMG_66.tiff', 'part_B_final/test_data_mids/images/IMG_41.tiff', 'part_B_final/test_data_mids/images/IMG_16.tiff', 'part_B_final/test_data_mids/images/IMG_62.tiff', 'part_B_final/test_data_mids/images/IMG_14.tiff', 'part_B_final/test_data_mids/images/IMG_45.tiff', 'part_B_final/test_data_mids/images/IMG_33.tiff', 'part_B_final/test_data/images/IMG_249.tiff', 'part_B_final/test_data_mids/images/IMG_106.tiff', 'part_B_final/test_data_mids/images/IMG_73.tiff', 'part_B_final/test_data/images/IMG_303.tiff', 'part_B_final/test_data_mids/images/IMG_78.tiff', 'part_B_final/test_data_mids/images/IMG_9.tiff', 'part_B_final/test_data_mids/images/IMG_94.tiff', 'part_B_final/test_data/images/IMG_301.tiff', 'part_B_final/test_data_mids/images/IMG_30.tiff', 'part_B_final/test_data_mids/images/IMG_103.tiff', 'part_B_final/test_data_mids/images/IMG_40.tiff', 'part_B_final/test_data_mids/images/IMG_96.tiff', 'part_B_final/test_data_mids/images/IMG_53.tiff', 'part_B_final/test_data_mids/images/IMG_79.tiff', 'part_B_final/test_data/images/IMG_285.tiff', 'part_B_final/test_data_high/images/IMG_20.tiff', 'part_B_final/test_data_mids/images/IMG_12.tiff', 'part_B_final/test_data_mids/images/IMG_13.tiff', 'part_B_final/test_data_mids/images/IMG_49.tiff', 'part_B_final/test_data_high/images/IMG_36.tiff', 'part_B_final/test_data_mids/images/IMG_5.tiff', 'part_B_final/test_data/images/IMG_92.tiff', 'part_B_final/test_data_mids/images/IMG_83.tiff', 'part_B_final/test_data_mids/images/IMG_17.tiff', 'part_B_final/test_data/images/IMG_138.tiff', 'part_B_final/test_data_mids/images/IMG_34.tiff', 'part_B_final/test_data_mids/images/IMG_27.tiff', 'part_B_final/test_data/images/IMG_316.tiff', 'part_B_final/test_data_high/images/IMG_6.tiff', 'part_B_final/test_data_mids/images/IMG_8.tiff', 'part_B_final/test_data_high/images/IMG_38.tiff', 'part_B_final/test_data_mids/images/IMG_110.tiff', 'part_B_final/test_data_mids/images/IMG_47.tiff', 'part_B_final/test_data/images/IMG_254.tiff', 'part_B_final/test_data_mids/images/IMG_60.tiff', 'part_B_final/test_data_mids/images/IMG_11.tiff', 'part_B_final/test_data_mids/images/IMG_104.tiff', 'part_B_final/test_data_mids/images/IMG_3.tiff', 'part_B_final/test_data_mids/images/IMG_76.tiff', 'part_B_final/test_data_mids/images/IMG_18.tiff', 'part_B_final/test_data_mids/images/IMG_100.tiff', 'part_B_final/test_data_mids/images/IMG_86.tiff', 'part_B_final/test_data_high/images/IMG_11.tiff', 'part_B_final/test_data_mids/images/IMG_28.tiff', 'part_B_final/test_data/images/IMG_72.tiff', 'part_B_final/test_data_mids/images/IMG_84.tiff', 'part_B_final/test_data_mids/images/IMG_15.tiff', 'part_B_final/test_data_mids/images/IMG_29.tiff', 'part_B_final/test_data_mids/images/IMG_1.tiff', 'part_B_final/test_data_mids/images/IMG_85.tiff', 'part_B_final/test_data_mids/images/IMG_54.tiff', 'part_B_final/test_data_mids/images/IMG_24.tiff', 'part_B_final/test_data_mids/images/IMG_10.tiff', 'part_B_final/test_data/images/IMG_158.tiff', 'part_B_final/test_data_mids/images/IMG_81.tiff']\n"
      ],
      "execution_count": 0,
      "outputs": []
    },
    {
      "cell_type": "code",
      "metadata": {
        "id": "mWkWDG-0tKc2",
        "colab_type": "code",
        "colab": {
          "base_uri": "https://localhost:8080/",
          "height": 34
        },
        "outputId": "640fab5f-ee9a-47f7-ce20-b85292be3034"
      },
      "source": [
        "print(len(mid_testing))"
      ],
      "execution_count": 3,
      "outputs": [
        {
          "output_type": "stream",
          "text": [
            "126\n"
          ],
          "name": "stdout"
        }
      ]
    },
    {
      "cell_type": "code",
      "metadata": {
        "id": "vxwZqVJICMLh",
        "colab_type": "code",
        "colab": {}
      },
      "source": [
        "import sys\n",
        "import os\n",
        "\n",
        "import warnings\n",
        "\n",
        "\n",
        "\n",
        "\n",
        "import torch\n",
        "import torch.nn as nn\n",
        "from torch.autograd import Variable\n",
        "from torchvision import datasets, transforms\n",
        "\n",
        "import numpy as np\n",
        "import argparse\n",
        "import json\n",
        "import cv2\n",
        "import dataset\n",
        "import time"
      ],
      "execution_count": 0,
      "outputs": []
    },
    {
      "cell_type": "code",
      "metadata": {
        "id": "4Rt3uUfUCOKd",
        "colab_type": "code",
        "colab": {}
      },
      "source": [
        "import torch.nn as nn\n",
        "import torch\n",
        "from torch.nn import functional as F\n",
        "from torchvision import models\n",
        "\n",
        "class ContextualModule(nn.Module):\n",
        "    def __init__(self, features, out_features=512, sizes=(1, 2, 3, 6)):\n",
        "        super(ContextualModule, self).__init__()\n",
        "        self.scales = []\n",
        "        self.scales = nn.ModuleList([self._make_scale(features, size) for size in sizes])\n",
        "        self.bottleneck = nn.Conv2d(features * 2, out_features, kernel_size=1)\n",
        "        self.relu = nn.ReLU()\n",
        "        self.weight_net = nn.Conv2d(features,features,kernel_size=1)\n",
        "\n",
        "    def __make_weight(self,feature,scale_feature):\n",
        "        weight_feature = feature - scale_feature\n",
        "        return F.sigmoid(self.weight_net(weight_feature))\n",
        "\n",
        "    def _make_scale(self, features, size):\n",
        "        prior = nn.AdaptiveAvgPool2d(output_size=(size, size))\n",
        "        conv = nn.Conv2d(features, features, kernel_size=1, bias=False)\n",
        "        return nn.Sequential(prior, conv)\n",
        "\n",
        "    def forward(self, feats):\n",
        "        h, w = feats.size(2), feats.size(3)\n",
        "        multi_scales = [F.upsample(input=stage(feats), size=(h, w), mode='bilinear') for stage in self.scales]\n",
        "        weights = [self.__make_weight(feats,scale_feature) for scale_feature in multi_scales]\n",
        "        overall_features = [(multi_scales[0]*weights[0]+multi_scales[1]*weights[1]+multi_scales[2]*weights[2]+multi_scales[3]*weights[3])/(weights[0]+weights[1]+weights[2]+weights[3])]+ [feats]\n",
        "        bottle = self.bottleneck(torch.cat(overall_features, 1))\n",
        "        return self.relu(bottle)\n",
        "\n",
        "class CANNet(nn.Module):\n",
        "    def __init__(self, load_weights=False):\n",
        "        super(CANNet, self).__init__()\n",
        "        self.seen = 0\n",
        "        self.context = ContextualModule(512, 512)\n",
        "        self.frontend_feat = [64, 64, 'M', 128, 128, 'M', 256, 256, 256, 'M', 512, 512, 512]\n",
        "        self.backend_feat  = [512, 512, 512,256,128,64]\n",
        "        self.frontend = make_layers(self.frontend_feat)\n",
        "        self.backend = make_layers(self.backend_feat,in_channels = 512,batch_norm=True, dilation = True)\n",
        "        self.output_layer = nn.Conv2d(64, 1, kernel_size=1)\n",
        "        if not load_weights:\n",
        "            mod = models.vgg16(pretrained = True)\n",
        "            self._initialize_weights()\n",
        "            for i in xrange(len(self.frontend.state_dict().items())):\n",
        "                self.frontend.state_dict().items()[i][1].data[:] = mod.state_dict().items()[i][1].data[:]\n",
        "\n",
        "    def forward(self,x):\n",
        "        x = self.frontend(x)\n",
        "        x = self.context(x)\n",
        "        return x\n",
        "        x = self.backend(x)\n",
        "        x = self.output_layer(x)\n",
        "        return x\n",
        "\n",
        "    def _initialize_weights(self):\n",
        "        for m in self.modules():\n",
        "            if isinstance(m, nn.Conv2d):\n",
        "                nn.init.normal_(m.weight, std=0.01)\n",
        "                if m.bias is not None:\n",
        "                    nn.init.constant_(m.bias, 0)\n",
        "            elif isinstance(m, nn.BatchNorm2d):\n",
        "                nn.init.constant_(m.weight, 1)\n",
        "                nn.init.constant_(m.bias, 0)\n",
        "\n",
        "def make_layers(cfg, in_channels = 3,batch_norm=False,dilation = False):\n",
        "    if dilation:\n",
        "        d_rate = 2\n",
        "    else:\n",
        "        d_rate = 1\n",
        "    layers = []\n",
        "    for v in cfg:\n",
        "        if v == 'M':\n",
        "            layers += [nn.MaxPool2d(kernel_size=2, stride=2)]\n",
        "        else:\n",
        "            conv2d = nn.Conv2d(in_channels, v, kernel_size=3, padding=d_rate,dilation = d_rate)\n",
        "            if batch_norm:\n",
        "                layers += [conv2d, nn.BatchNorm2d(v), nn.ReLU(inplace=True)]\n",
        "            else:\n",
        "                layers += [conv2d, nn.ReLU(inplace=True)]\n",
        "            in_channels = v\n",
        "    return nn.Sequential(*layers)"
      ],
      "execution_count": 0,
      "outputs": []
    },
    {
      "cell_type": "code",
      "metadata": {
        "id": "nTuCL2XTCO3O",
        "colab_type": "code",
        "outputId": "dd5f8996-9376-4543-8a11-5e7ea2b03a43",
        "colab": {
          "base_uri": "https://localhost:8080/",
          "height": 84,
          "referenced_widgets": [
            "b025e6d973be4a53a48bd0ecd0db20b0",
            "17ad7b6c19ad4fbfa0588ad5bfc8076e",
            "0c9b12a6616943b4b22e2f41e139df4b",
            "797eac52a1624144bd4d676be266bd15",
            "107c7e9cdfe6429db61639ed97113537",
            "f7eeba11f783472bacdb5be374895c4c",
            "acc67d9c246c45629aa55949ae0ad9c8",
            "c71851f2fe8f42e6a528b59b96db5f59"
          ]
        }
      },
      "source": [
        "model = CANNet()"
      ],
      "execution_count": 0,
      "outputs": [
        {
          "output_type": "stream",
          "text": [
            "Downloading: \"https://download.pytorch.org/models/vgg16-397923af.pth\" to /root/.cache/torch/checkpoints/vgg16-397923af.pth\n"
          ],
          "name": "stderr"
        },
        {
          "output_type": "display_data",
          "data": {
            "application/vnd.jupyter.widget-view+json": {
              "model_id": "b025e6d973be4a53a48bd0ecd0db20b0",
              "version_minor": 0,
              "version_major": 2
            },
            "text/plain": [
              "HBox(children=(IntProgress(value=0, max=553433881), HTML(value=u'')))"
            ]
          },
          "metadata": {
            "tags": []
          }
        },
        {
          "output_type": "stream",
          "text": [
            "\n"
          ],
          "name": "stdout"
        }
      ]
    },
    {
      "cell_type": "code",
      "metadata": {
        "id": "Wovh-SwYCUzQ",
        "colab_type": "code",
        "colab": {}
      },
      "source": [
        "model = model.cuda()"
      ],
      "execution_count": 0,
      "outputs": []
    },
    {
      "cell_type": "code",
      "metadata": {
        "id": "q78I7tvzCYDq",
        "colab_type": "code",
        "outputId": "06d4da43-529c-4baa-b9e0-d9305d046a7c",
        "colab": {
          "base_uri": "https://localhost:8080/",
          "height": 34
        }
      },
      "source": [
        "checkpoint = torch.load('ALL_WEIGHTS/checkpoint_mid_separate.tar')\n",
        "\n",
        "model.load_state_dict(checkpoint['state_dict'])"
      ],
      "execution_count": 0,
      "outputs": [
        {
          "output_type": "execute_result",
          "data": {
            "text/plain": [
              "<All keys matched successfully>"
            ]
          },
          "metadata": {
            "tags": []
          },
          "execution_count": 10
        }
      ]
    },
    {
      "cell_type": "code",
      "metadata": {
        "id": "NodRpRNtCexj",
        "colab_type": "code",
        "colab": {}
      },
      "source": [
        "\n",
        "\n",
        "import h5py\n",
        "import PIL.Image as Image\n",
        "import numpy as np\n",
        "import os\n",
        "import glob\n",
        "import scipy\n",
        "from image import *\n",
        "from model import CANNet\n",
        "import torch\n",
        "from torch.autograd import Variable\n",
        "\n",
        "from sklearn.metrics import mean_squared_error,mean_absolute_error\n",
        "\n",
        "from torchvision import transforms"
      ],
      "execution_count": 0,
      "outputs": []
    },
    {
      "cell_type": "code",
      "metadata": {
        "id": "rDUpZXK1Cgq0",
        "colab_type": "code",
        "colab": {}
      },
      "source": [
        "transform=transforms.Compose([\n",
        "                       transforms.ToTensor(),transforms.Normalize(mean=[0.485, 0.456, 0.406],\n",
        "                                     std=[0.229, 0.224, 0.225]),\n",
        "                   ])"
      ],
      "execution_count": 0,
      "outputs": []
    },
    {
      "cell_type": "code",
      "metadata": {
        "id": "cAYiXM5jDMKh",
        "colab_type": "code",
        "colab": {}
      },
      "source": [
        "names =[]\n",
        "for i in range(mid_test)):\n",
        "  names.append('IMG_'+str(i+1))"
      ],
      "execution_count": 0,
      "outputs": []
    },
    {
      "cell_type": "code",
      "metadata": {
        "id": "gZD5uFHbCkn_",
        "colab_type": "code",
        "colab": {}
      },
      "source": [
        "model.eval()\n",
        "\n",
        "\n",
        "gt = []"
      ],
      "execution_count": 0,
      "outputs": []
    },
    {
      "cell_type": "code",
      "metadata": {
        "id": "5zbW0i4UCmd0",
        "colab_type": "code",
        "colab": {}
      },
      "source": [
        "for i in xrange(len(mid_testing)):\n",
        "    gt_file = h5py.File(mid_testing[i].replace('.tiff','.h5').replace('images','ground_truth'),'r')\n",
        "    groundtruth = np.asarray(gt_file['density'])\n",
        "    gt.append(round(np.sum(groundtruth)))"
      ],
      "execution_count": 0,
      "outputs": []
    },
    {
      "cell_type": "code",
      "metadata": {
        "id": "Hh1YCwGyEO44",
        "colab_type": "code",
        "colab": {}
      },
      "source": [
        "arrgt = np.asarray(gt)\n",
        "arrnames = np.asarray(names)"
      ],
      "execution_count": 0,
      "outputs": []
    },
    {
      "cell_type": "code",
      "metadata": {
        "id": "sUre9qUjEQxD",
        "colab_type": "code",
        "outputId": "ab924b9d-4981-41c5-a1e0-b2d3875ad2fe",
        "colab": {
          "base_uri": "https://localhost:8080/",
          "height": 52
        }
      },
      "source": [
        "print(arrgt.shape)\n",
        "print(arrnames.shape)"
      ],
      "execution_count": 0,
      "outputs": [
        {
          "output_type": "stream",
          "text": [
            "(126,)\n",
            "(126,)\n"
          ],
          "name": "stdout"
        }
      ]
    },
    {
      "cell_type": "code",
      "metadata": {
        "id": "iBgFRi30ESTZ",
        "colab_type": "code",
        "outputId": "87b1a08a-8a48-458c-9f63-365bcd27c63f",
        "colab": {
          "base_uri": "https://localhost:8080/",
          "height": 443
        }
      },
      "source": [
        "print(arrgt)\n",
        "print(arrnames)"
      ],
      "execution_count": 0,
      "outputs": [
        {
          "output_type": "stream",
          "text": [
            "[36. 14. 34. 13. 34. 36. 26.  8.  7. 30.  7. 31. 17. 30.  9. 23. 17. 36.\n",
            " 18.  2. 24. 47. 49. 22. 13. 19. 29. 12. 27. 25. 18. 40. 31. 18. 32. 52.\n",
            " 32.  3. 41.  9. 12. 25. 36. 36. 14. 26. 29. 30. 30. 17. 31. 14. 28. 24.\n",
            " 26. 27. 14. 10. 37. 24. 17. 27. 30. 32. 16. 27. 22. 13. 20. 12. 17.  8.\n",
            " 38. 18.  8. 22. 27. 36. 10. 14. 31. 13. 34. 19. 14.  9. 46. 28. 22. 23.\n",
            " 48. 17.  9. 36. 24. 10. 12. 28.  8. 41. 16. 46. 32. 15.  3. 14. 13. 32.\n",
            " 27. 26. 16. 36. 39. 52. 28.  9. 31. 25. 18. 26. 34. 16. 11. 12.  9. 21.]\n",
            "['IMG_1' 'IMG_2' 'IMG_3' 'IMG_4' 'IMG_5' 'IMG_6' 'IMG_7' 'IMG_8' 'IMG_9'\n",
            " 'IMG_10' 'IMG_11' 'IMG_12' 'IMG_13' 'IMG_14' 'IMG_15' 'IMG_16' 'IMG_17'\n",
            " 'IMG_18' 'IMG_19' 'IMG_20' 'IMG_21' 'IMG_22' 'IMG_23' 'IMG_24' 'IMG_25'\n",
            " 'IMG_26' 'IMG_27' 'IMG_28' 'IMG_29' 'IMG_30' 'IMG_31' 'IMG_32' 'IMG_33'\n",
            " 'IMG_34' 'IMG_35' 'IMG_36' 'IMG_37' 'IMG_38' 'IMG_39' 'IMG_40' 'IMG_41'\n",
            " 'IMG_42' 'IMG_43' 'IMG_44' 'IMG_45' 'IMG_46' 'IMG_47' 'IMG_48' 'IMG_49'\n",
            " 'IMG_50' 'IMG_51' 'IMG_52' 'IMG_53' 'IMG_54' 'IMG_55' 'IMG_56' 'IMG_57'\n",
            " 'IMG_58' 'IMG_59' 'IMG_60' 'IMG_61' 'IMG_62' 'IMG_63' 'IMG_64' 'IMG_65'\n",
            " 'IMG_66' 'IMG_67' 'IMG_68' 'IMG_69' 'IMG_70' 'IMG_71' 'IMG_72' 'IMG_73'\n",
            " 'IMG_74' 'IMG_75' 'IMG_76' 'IMG_77' 'IMG_78' 'IMG_79' 'IMG_80' 'IMG_81'\n",
            " 'IMG_82' 'IMG_83' 'IMG_84' 'IMG_85' 'IMG_86' 'IMG_87' 'IMG_88' 'IMG_89'\n",
            " 'IMG_90' 'IMG_91' 'IMG_92' 'IMG_93' 'IMG_94' 'IMG_95' 'IMG_96' 'IMG_97'\n",
            " 'IMG_98' 'IMG_99' 'IMG_100' 'IMG_101' 'IMG_102' 'IMG_103' 'IMG_104'\n",
            " 'IMG_105' 'IMG_106' 'IMG_107' 'IMG_108' 'IMG_109' 'IMG_110' 'IMG_111'\n",
            " 'IMG_112' 'IMG_113' 'IMG_114' 'IMG_115' 'IMG_116' 'IMG_117' 'IMG_118'\n",
            " 'IMG_119' 'IMG_120' 'IMG_121' 'IMG_122' 'IMG_123' 'IMG_124' 'IMG_125'\n",
            " 'IMG_126']\n"
          ],
          "name": "stdout"
        }
      ]
    },
    {
      "cell_type": "code",
      "metadata": {
        "id": "7G5aPdNwutOi",
        "colab_type": "code",
        "colab": {}
      },
      "source": [
        "features_savepath = 'BEST_TEST_MID/' \n",
        "if not os.path.exists(features_savepath):\n",
        "    os.makedirs(features_savepath)"
      ],
      "execution_count": 0,
      "outputs": []
    },
    {
      "cell_type": "code",
      "metadata": {
        "id": "vcmIIB4WEUCd",
        "colab_type": "code",
        "colab": {}
      },
      "source": [
        "np.save(features_savepath +'/ground_truth_counts_test_mid.npy', arrgt)\n",
        "np.save(features_savepath +'/ground_truth_names_test_mid.npy', arrnames)"
      ],
      "execution_count": 0,
      "outputs": []
    },
    {
      "cell_type": "code",
      "metadata": {
        "id": "LSCpBScREfjQ",
        "colab_type": "code",
        "colab": {}
      },
      "source": [
        "\n",
        "class featureExtractor(nn.Module):\n",
        "    def __init__(self):\n",
        "        super(featureExtractor, self).__init__()\n",
        "        self.context = model.context\n",
        "        self.frontend = model.frontend\n",
        "\n",
        "    def forward(self,x):\n",
        "        x = self.frontend(x)\n",
        "        x = self.context(x)\n",
        "        return x\n",
        "\n",
        "\n",
        "\n",
        "net_conv1 = featureExtractor()\n"
      ],
      "execution_count": 0,
      "outputs": []
    },
    {
      "cell_type": "code",
      "metadata": {
        "id": "Di5ZfILVEke6",
        "colab_type": "code",
        "colab": {}
      },
      "source": [
        "net_conv1 = net_conv1.cuda()"
      ],
      "execution_count": 0,
      "outputs": []
    },
    {
      "cell_type": "code",
      "metadata": {
        "id": "63aMwhiAEmRb",
        "colab_type": "code",
        "colab": {}
      },
      "source": [
        "x =[]\n"
      ],
      "execution_count": 0,
      "outputs": []
    },
    {
      "cell_type": "code",
      "metadata": {
        "id": "ebIzb4lOEn4C",
        "colab_type": "code",
        "outputId": "cd1af846-890f-4aab-a616-cd793edfddf3",
        "colab": {
          "base_uri": "https://localhost:8080/",
          "height": 143
        }
      },
      "source": [
        "for i in xrange(len(mid_testing)):\n",
        "    img = transform(Image.open(mid_testing[i]).convert('RGB')).cuda()\n",
        "    img = img.unsqueeze(0)\n",
        "    h,w = img.shape[2:4]\n",
        "    density= net_conv1(img).data.cpu().numpy()\n",
        "    act = np.squeeze(density)\n",
        "    pure_name = os.path.splitext(os.path.basename(mid_testing[i]))[0]\n",
        "    x.append(act)\n",
        "    \n",
        "\n",
        "    #density = np.squeeze(3)\n",
        "    \n",
        "\n"
      ],
      "execution_count": 0,
      "outputs": [
        {
          "output_type": "stream",
          "text": [
            "/usr/local/lib/python2.7/dist-packages/torch/nn/functional.py:2416: UserWarning: nn.functional.upsample is deprecated. Use nn.functional.interpolate instead.\n",
            "  warnings.warn(\"nn.functional.upsample is deprecated. Use nn.functional.interpolate instead.\")\n",
            "/usr/local/lib/python2.7/dist-packages/torch/nn/functional.py:2506: UserWarning: Default upsampling behavior when mode=bilinear is changed to align_corners=False since 0.4.0. Please specify align_corners=True if the old behavior is desired. See the documentation of nn.Upsample for details.\n",
            "  \"See the documentation of nn.Upsample for details.\".format(mode))\n",
            "/usr/local/lib/python2.7/dist-packages/torch/nn/functional.py:1351: UserWarning: nn.functional.sigmoid is deprecated. Use torch.sigmoid instead.\n",
            "  warnings.warn(\"nn.functional.sigmoid is deprecated. Use torch.sigmoid instead.\")\n"
          ],
          "name": "stderr"
        }
      ]
    },
    {
      "cell_type": "code",
      "metadata": {
        "id": "VqSE041rEw_d",
        "colab_type": "code",
        "outputId": "eca8394f-882d-477b-d8d4-d92a7f8dad3a",
        "colab": {
          "base_uri": "https://localhost:8080/",
          "height": 34
        }
      },
      "source": [
        "print(len(x))"
      ],
      "execution_count": 0,
      "outputs": [
        {
          "output_type": "stream",
          "text": [
            "126\n"
          ],
          "name": "stdout"
        }
      ]
    },
    {
      "cell_type": "code",
      "metadata": {
        "id": "v2s_31xaE0rW",
        "colab_type": "code",
        "outputId": "3c495144-0642-4b77-ab7d-a8e221651a3d",
        "colab": {
          "base_uri": "https://localhost:8080/",
          "height": 34
        }
      },
      "source": [
        "all_feats = []"
      ],
      "execution_count": 0,
      "outputs": [
        {
          "output_type": "stream",
          "text": [
            "0.0\n"
          ],
          "name": "stdout"
        }
      ]
    },
    {
      "cell_type": "code",
      "metadata": {
        "id": "yun-qxghvF72",
        "colab_type": "code",
        "colab": {}
      },
      "source": [
        ""
      ],
      "execution_count": 0,
      "outputs": []
    },
    {
      "cell_type": "code",
      "metadata": {
        "id": "SvxU9UWzE88K",
        "colab_type": "code",
        "colab": {}
      },
      "source": [
        "for i in range(mid_test):\n",
        "  feats = []\n",
        "  for j in range(512):\n",
        "    s = 0\n",
        "    for k in range (42):\n",
        "      for l in range(42):\n",
        "        s = s + x[i][j][k][l]\n",
        "    a = s/1764\n",
        "    feats.append(a)\n",
        "  all_feats.append(feats)"
      ],
      "execution_count": 0,
      "outputs": []
    },
    {
      "cell_type": "code",
      "metadata": {
        "id": "xqZrsDU0FBcO",
        "colab_type": "code",
        "colab": {}
      },
      "source": [
        "f = np.array(all_feats)"
      ],
      "execution_count": 0,
      "outputs": []
    },
    {
      "cell_type": "code",
      "metadata": {
        "id": "eiv8PrR3FDL3",
        "colab_type": "code",
        "outputId": "04f297b7-584a-4689-bc73-cef3320d912d",
        "colab": {
          "base_uri": "https://localhost:8080/",
          "height": 34
        }
      },
      "source": [
        "print(f.shape)"
      ],
      "execution_count": 0,
      "outputs": [
        {
          "output_type": "stream",
          "text": [
            "(126, 512)\n"
          ],
          "name": "stdout"
        }
      ]
    },
    {
      "cell_type": "code",
      "metadata": {
        "id": "0FOohBTHFFc4",
        "colab_type": "code",
        "colab": {}
      },
      "source": [
        "features = 'BEST_TEST_MID/FEATURES/' \n",
        "if not os.path.exists(features):\n",
        "    os.makedirs(features)"
      ],
      "execution_count": 0,
      "outputs": []
    },
    {
      "cell_type": "code",
      "metadata": {
        "id": "wXXMvD4zFH-U",
        "colab_type": "code",
        "colab": {}
      },
      "source": [
        "for i in range(126):\n",
        "  x=np.array(f[i])\n",
        "  np.save(features+'/IMG_'+str(i+1)+'.npy',x)"
      ],
      "execution_count": 0,
      "outputs": []
    }
  ]
}