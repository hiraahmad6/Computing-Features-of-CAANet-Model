{
  "nbformat": 4,
  "nbformat_minor": 0,
  "metadata": {
    "colab": {
      "name": "Compute_Low_Testing_Features.ipynb",
      "provenance": [],
      "collapsed_sections": []
    },
    "kernelspec": {
      "name": "python2",
      "display_name": "Python 2"
    },
    "accelerator": "GPU"
  },
  "cells": [
    {
      "cell_type": "code",
      "metadata": {
        "id": "QMvREJJJA_1-",
        "colab_type": "code",
        "colab": {}
      },
      "source": [
        "low_test = 348"
      ],
      "execution_count": 0,
      "outputs": []
    },
    {
      "cell_type": "code",
      "metadata": {
        "id": "XyKWEb9gtB5E",
        "colab_type": "code",
        "colab": {}
      },
      "source": [
        "lower_testing = ['part_B_final/test_data/images/IMG_20.tiff', 'part_B_final/test_data/images/IMG_213.tiff', 'part_B_final/test_data_mids/images/IMG_65.tiff', 'part_B_final/test_data/images/IMG_246.tiff', 'part_B_final/test_data/images/IMG_17.tiff', 'part_B_final/test_data/images/IMG_219.tiff', 'part_B_final/test_data/images/IMG_344.tiff', 'part_B_final/test_data/images/IMG_279.tiff', 'part_B_final/test_data/images/IMG_266.tiff', 'part_B_final/test_data/images/IMG_132.tiff', 'part_B_final/test_data/images/IMG_217.tiff', 'part_B_final/test_data/images/IMG_147.tiff', 'part_B_final/test_data/images/IMG_271.tiff', 'part_B_final/test_data/images/IMG_150.tiff', 'part_B_final/test_data/images/IMG_15.tiff', 'part_B_final/test_data/images/IMG_168.tiff', 'part_B_final/test_data/images/IMG_265.tiff', 'part_B_final/test_data/images/IMG_202.tiff', 'part_B_final/test_data/images/IMG_268.tiff', 'part_B_final/test_data/images/IMG_328.tiff', 'part_B_final/test_data/images/IMG_126.tiff', 'part_B_final/test_data/images/IMG_80.tiff', 'part_B_final/test_data/images/IMG_241.tiff', 'part_B_final/test_data/images/IMG_156.tiff', 'part_B_final/test_data/images/IMG_226.tiff', 'part_B_final/test_data/images/IMG_196.tiff', 'part_B_final/test_data/images/IMG_63.tiff', 'part_B_final/test_data/images/IMG_333.tiff', 'part_B_final/test_data/images/IMG_102.tiff', 'part_B_final/test_data/images/IMG_145.tiff', 'part_B_final/test_data/images/IMG_222.tiff', 'part_B_final/test_data/images/IMG_245.tiff', 'part_B_final/test_data/images/IMG_22.tiff', 'part_B_final/test_data/images/IMG_21.tiff', 'part_B_final/test_data/images/IMG_248.tiff', 'part_B_final/test_data/images/IMG_212.tiff', 'part_B_final/test_data/images/IMG_74.tiff', 'part_B_final/test_data/images/IMG_201.tiff', 'part_B_final/test_data/images/IMG_7.tiff', 'part_B_final/test_data/images/IMG_50.tiff', 'part_B_final/test_data/images/IMG_123.tiff', 'part_B_final/test_data/images/IMG_225.tiff', 'part_B_final/test_data/images/IMG_181.tiff', 'part_B_final/test_data/images/IMG_76.tiff', 'part_B_final/test_data/images/IMG_13.tiff', 'part_B_final/test_data/images/IMG_251.tiff', 'part_B_final/test_data/images/IMG_228.tiff', 'part_B_final/test_data/images/IMG_206.tiff', 'part_B_final/test_data/images/IMG_187.tiff', 'part_B_final/test_data/images/IMG_284.tiff', 'part_B_final/test_data/images/IMG_88.tiff', 'part_B_final/test_data/images/IMG_264.tiff', 'part_B_final/test_data/images/IMG_224.tiff', 'part_B_final/test_data_mids/images/IMG_56.tiff', 'part_B_final/test_data/images/IMG_134.tiff', 'part_B_final/test_data/images/IMG_31.tiff', 'part_B_final/test_data/images/IMG_345.tiff', 'part_B_final/test_data/images/IMG_46.tiff', 'part_B_final/test_data/images/IMG_119.tiff', 'part_B_final/test_data/images/IMG_259.tiff', 'part_B_final/test_data/images/IMG_198.tiff', 'part_B_final/test_data/images/IMG_274.tiff', 'part_B_final/test_data/images/IMG_319.tiff', 'part_B_final/test_data/images/IMG_12.tiff', 'part_B_final/test_data/images/IMG_56.tiff', 'part_B_final/test_data/images/IMG_89.tiff', 'part_B_final/test_data/images/IMG_166.tiff', 'part_B_final/test_data/images/IMG_310.tiff', 'part_B_final/test_data/images/IMG_100.tiff', 'part_B_final/test_data/images/IMG_214.tiff', 'part_B_final/test_data/images/IMG_304.tiff', 'part_B_final/test_data/images/IMG_179.tiff', 'part_B_final/test_data/images/IMG_278.tiff', 'part_B_final/test_data/images/IMG_53.tiff', 'part_B_final/test_data/images/IMG_237.tiff', 'part_B_final/test_data/images/IMG_334.tiff', 'part_B_final/test_data/images/IMG_149.tiff', 'part_B_final/test_data/images/IMG_127.tiff', 'part_B_final/test_data/images/IMG_339.tiff', 'part_B_final/test_data/images/IMG_186.tiff', 'part_B_final/test_data/images/IMG_312.tiff', 'part_B_final/test_data/images/IMG_87.tiff', 'part_B_final/test_data/images/IMG_107.tiff', 'part_B_final/test_data/images/IMG_55.tiff', 'part_B_final/test_data/images/IMG_242.tiff', 'part_B_final/test_data/images/IMG_281.tiff', 'part_B_final/test_data/images/IMG_203.tiff', 'part_B_final/test_data_mids/images/IMG_55.tiff', 'part_B_final/test_data/images/IMG_192.tiff', 'part_B_final/test_data/images/IMG_67.tiff', 'part_B_final/test_data/images/IMG_112.tiff', 'part_B_final/test_data/images/IMG_286.tiff', 'part_B_final/test_data/images/IMG_38.tiff', 'part_B_final/test_data/images/IMG_129.tiff', 'part_B_final/test_data/images/IMG_64.tiff', 'part_B_final/test_data/images/IMG_124.tiff', 'part_B_final/test_data/images/IMG_70.tiff', 'part_B_final/test_data/images/IMG_208.tiff', 'part_B_final/test_data/images/IMG_108.tiff', 'part_B_final/test_data/images/IMG_96.tiff', 'part_B_final/test_data/images/IMG_139.tiff', 'part_B_final/test_data/images/IMG_104.tiff', 'part_B_final/test_data/images/IMG_193.tiff', 'part_B_final/test_data/images/IMG_348.tiff', 'part_B_final/test_data/images/IMG_23.tiff', 'part_B_final/test_data/images/IMG_296.tiff', 'part_B_final/test_data/images/IMG_287.tiff', 'part_B_final/test_data/images/IMG_117.tiff', 'part_B_final/test_data_mids/images/IMG_32.tiff', 'part_B_final/test_data/images/IMG_185.tiff', 'part_B_final/test_data/images/IMG_143.tiff', 'part_B_final/test_data/images/IMG_322.tiff', 'part_B_final/test_data/images/IMG_188.tiff', 'part_B_final/test_data/images/IMG_273.tiff', 'part_B_final/test_data/images/IMG_289.tiff', 'part_B_final/test_data/images/IMG_292.tiff', 'part_B_final/test_data/images/IMG_60.tiff', 'part_B_final/test_data/images/IMG_191.tiff', 'part_B_final/test_data/images/IMG_308.tiff', 'part_B_final/test_data/images/IMG_141.tiff', 'part_B_final/test_data/images/IMG_282.tiff', 'part_B_final/test_data/images/IMG_340.tiff', 'part_B_final/test_data/images/IMG_33.tiff', 'part_B_final/test_data/images/IMG_142.tiff', 'part_B_final/test_data/images/IMG_252.tiff', 'part_B_final/test_data/images/IMG_357.tiff', 'part_B_final/test_data/images/IMG_11.tiff', 'part_B_final/test_data/images/IMG_199.tiff', 'part_B_final/test_data/images/IMG_194.tiff', 'part_B_final/test_data/images/IMG_61.tiff', 'part_B_final/test_data/images/IMG_39.tiff', 'part_B_final/test_data/images/IMG_162.tiff', 'part_B_final/test_data/images/IMG_45.tiff', 'part_B_final/test_data/images/IMG_297.tiff', 'part_B_final/test_data/images/IMG_200.tiff', 'part_B_final/test_data/images/IMG_243.tiff', 'part_B_final/test_data/images/IMG_275.tiff', 'part_B_final/test_data/images/IMG_99.tiff', 'part_B_final/test_data/images/IMG_327.tiff', 'part_B_final/test_data/images/IMG_261.tiff', 'part_B_final/test_data/images/IMG_175.tiff', 'part_B_final/test_data/images/IMG_350.tiff', 'part_B_final/test_data/images/IMG_18.tiff', 'part_B_final/test_data/images/IMG_351.tiff', 'part_B_final/test_data/images/IMG_1.tiff', 'part_B_final/test_data_mids/images/IMG_19.tiff', 'part_B_final/test_data/images/IMG_343.tiff', 'part_B_final/test_data/images/IMG_82.tiff', 'part_B_final/test_data/images/IMG_110.tiff', 'part_B_final/test_data/images/IMG_52.tiff', 'part_B_final/test_data/images/IMG_354.tiff', 'part_B_final/test_data/images/IMG_25.tiff', 'part_B_final/test_data/images/IMG_157.tiff', 'part_B_final/test_data/images/IMG_111.tiff', 'part_B_final/test_data/images/IMG_210.tiff', 'part_B_final/test_data/images/IMG_257.tiff', 'part_B_final/test_data/images/IMG_302.tiff', 'part_B_final/test_data/images/IMG_155.tiff', 'part_B_final/test_data/images/IMG_309.tiff', 'part_B_final/test_data/images/IMG_73.tiff', 'part_B_final/test_data/images/IMG_325.tiff', 'part_B_final/test_data/images/IMG_247.tiff', 'part_B_final/test_data/images/IMG_103.tiff', 'part_B_final/test_data/images/IMG_223.tiff', 'part_B_final/test_data/images/IMG_9.tiff', 'part_B_final/test_data/images/IMG_86.tiff', 'part_B_final/test_data/images/IMG_37.tiff', 'part_B_final/test_data/images/IMG_215.tiff', 'part_B_final/test_data/images/IMG_32.tiff', 'part_B_final/test_data/images/IMG_130.tiff', 'part_B_final/test_data/images/IMG_4.tiff', 'part_B_final/test_data/images/IMG_19.tiff', 'part_B_final/test_data/images/IMG_120.tiff', 'part_B_final/test_data/images/IMG_180.tiff', 'part_B_final/test_data/images/IMG_65.tiff', 'part_B_final/test_data/images/IMG_204.tiff', 'part_B_final/test_data/images/IMG_160.tiff', 'part_B_final/test_data/images/IMG_10.tiff', 'part_B_final/test_data/images/IMG_122.tiff', 'part_B_final/test_data/images/IMG_320.tiff', 'part_B_final/test_data/images/IMG_85.tiff', 'part_B_final/test_data/images/IMG_26.tiff', 'part_B_final/test_data/images/IMG_28.tiff', 'part_B_final/test_data/images/IMG_347.tiff', 'part_B_final/test_data/images/IMG_337.tiff', 'part_B_final/test_data/images/IMG_283.tiff', 'part_B_final/test_data/images/IMG_233.tiff', 'part_B_final/test_data/images/IMG_311.tiff', 'part_B_final/test_data/images/IMG_178.tiff', 'part_B_final/test_data/images/IMG_151.tiff', 'part_B_final/test_data/images/IMG_97.tiff', 'part_B_final/test_data/images/IMG_83.tiff', 'part_B_final/test_data/images/IMG_323.tiff', 'part_B_final/test_data/images/IMG_159.tiff', 'part_B_final/test_data/images/IMG_231.tiff', 'part_B_final/test_data/images/IMG_353.tiff', 'part_B_final/test_data/images/IMG_135.tiff', 'part_B_final/test_data/images/IMG_260.tiff', 'part_B_final/test_data/images/IMG_270.tiff', 'part_B_final/test_data/images/IMG_98.tiff', 'part_B_final/test_data/images/IMG_182.tiff', 'part_B_final/test_data/images/IMG_164.tiff', 'part_B_final/test_data/images/IMG_94.tiff', 'part_B_final/test_data/images/IMG_250.tiff', 'part_B_final/test_data/images/IMG_318.tiff', 'part_B_final/test_data/images/IMG_153.tiff', 'part_B_final/test_data/images/IMG_255.tiff', 'part_B_final/test_data/images/IMG_14.tiff', 'part_B_final/test_data/images/IMG_207.tiff', 'part_B_final/test_data/images/IMG_115.tiff', 'part_B_final/test_data/images/IMG_171.tiff', 'part_B_final/test_data/images/IMG_133.tiff', 'part_B_final/test_data/images/IMG_267.tiff', 'part_B_final/test_data/images/IMG_349.tiff', 'part_B_final/test_data/images/IMG_298.tiff', 'part_B_final/test_data/images/IMG_42.tiff', 'part_B_final/test_data/images/IMG_332.tiff', 'part_B_final/test_data/images/IMG_244.tiff', 'part_B_final/test_data_mids/images/IMG_69.tiff', 'part_B_final/test_data/images/IMG_165.tiff', 'part_B_final/test_data/images/IMG_184.tiff', 'part_B_final/test_data/images/IMG_90.tiff', 'part_B_final/test_data/images/IMG_101.tiff', 'part_B_final/test_data/images/IMG_190.tiff', 'part_B_final/test_data/images/IMG_69.tiff', 'part_B_final/test_data/images/IMG_230.tiff', 'part_B_final/test_data/images/IMG_341.tiff', 'part_B_final/test_data/images/IMG_315.tiff', 'part_B_final/test_data/images/IMG_232.tiff', 'part_B_final/test_data_mids/images/IMG_52.tiff', 'part_B_final/test_data/images/IMG_137.tiff', 'part_B_final/test_data/images/IMG_172.tiff', 'part_B_final/test_data/images/IMG_51.tiff', 'part_B_final/test_data/images/IMG_75.tiff', 'part_B_final/test_data/images/IMG_305.tiff', 'part_B_final/test_data/images/IMG_189.tiff', 'part_B_final/test_data/images/IMG_48.tiff', 'part_B_final/test_data/images/IMG_174.tiff', 'part_B_final/test_data/images/IMG_24.tiff', 'part_B_final/test_data/images/IMG_170.tiff', 'part_B_final/test_data/images/IMG_2.tiff', 'part_B_final/test_data/images/IMG_177.tiff', 'part_B_final/test_data/images/IMG_331.tiff', 'part_B_final/test_data/images/IMG_136.tiff', 'part_B_final/test_data/images/IMG_239.tiff', 'part_B_final/test_data/images/IMG_167.tiff', 'part_B_final/test_data/images/IMG_329.tiff', 'part_B_final/test_data/images/IMG_43.tiff', 'part_B_final/test_data/images/IMG_236.tiff', 'part_B_final/test_data/images/IMG_317.tiff', 'part_B_final/test_data/images/IMG_169.tiff', 'part_B_final/test_data/images/IMG_294.tiff', 'part_B_final/test_data/images/IMG_183.tiff', 'part_B_final/test_data/images/IMG_229.tiff', 'part_B_final/test_data/images/IMG_314.tiff', 'part_B_final/test_data/images/IMG_306.tiff', 'part_B_final/test_data/images/IMG_342.tiff', 'part_B_final/test_data/images/IMG_163.tiff', 'part_B_final/test_data/images/IMG_29.tiff', 'part_B_final/test_data/images/IMG_118.tiff', 'part_B_final/test_data/images/IMG_253.tiff', 'part_B_final/test_data/images/IMG_68.tiff', 'part_B_final/test_data/images/IMG_6.tiff', 'part_B_final/test_data/images/IMG_313.tiff', 'part_B_final/test_data/images/IMG_84.tiff', 'part_B_final/test_data/images/IMG_352.tiff', 'part_B_final/test_data/images/IMG_336.tiff', 'part_B_final/test_data/images/IMG_36.tiff', 'part_B_final/test_data/images/IMG_338.tiff', 'part_B_final/test_data/images/IMG_269.tiff', 'part_B_final/test_data/images/IMG_290.tiff', 'part_B_final/test_data/images/IMG_59.tiff', 'part_B_final/test_data/images/IMG_40.tiff', 'part_B_final/test_data/images/IMG_121.tiff', 'part_B_final/test_data/images/IMG_30.tiff', 'part_B_final/test_data/images/IMG_356.tiff', 'part_B_final/test_data/images/IMG_78.tiff', 'part_B_final/test_data/images/IMG_91.tiff', 'part_B_final/test_data/images/IMG_324.tiff', 'part_B_final/test_data/images/IMG_300.tiff', 'part_B_final/test_data/images/IMG_128.tiff', 'part_B_final/test_data/images/IMG_44.tiff', 'part_B_final/test_data/images/IMG_57.tiff', 'part_B_final/test_data/images/IMG_291.tiff', 'part_B_final/test_data/images/IMG_234.tiff', 'part_B_final/test_data/images/IMG_211.tiff', 'part_B_final/test_data/images/IMG_263.tiff', 'part_B_final/test_data/images/IMG_109.tiff', 'part_B_final/test_data/images/IMG_256.tiff', 'part_B_final/test_data/images/IMG_335.tiff', 'part_B_final/test_data/images/IMG_140.tiff', 'part_B_final/test_data/images/IMG_77.tiff', 'part_B_final/test_data/images/IMG_105.tiff', 'part_B_final/test_data/images/IMG_81.tiff', 'part_B_final/test_data/images/IMG_293.tiff', 'part_B_final/test_data/images/IMG_54.tiff', 'part_B_final/test_data/images/IMG_95.tiff', 'part_B_final/test_data/images/IMG_258.tiff', 'part_B_final/test_data/images/IMG_116.tiff', 'part_B_final/test_data/images/IMG_8.tiff', 'part_B_final/test_data/images/IMG_176.tiff', 'part_B_final/test_data/images/IMG_47.tiff', 'part_B_final/test_data/images/IMG_195.tiff', 'part_B_final/test_data/images/IMG_276.tiff', 'part_B_final/test_data/images/IMG_299.tiff', 'part_B_final/test_data/images/IMG_146.tiff', 'part_B_final/test_data/images/IMG_209.tiff', 'part_B_final/test_data/images/IMG_240.tiff', 'part_B_final/test_data/images/IMG_272.tiff', 'part_B_final/test_data/images/IMG_220.tiff', 'part_B_final/test_data/images/IMG_235.tiff', 'part_B_final/test_data/images/IMG_58.tiff', 'part_B_final/test_data/images/IMG_34.tiff', 'part_B_final/test_data/images/IMG_154.tiff', 'part_B_final/test_data/images/IMG_161.tiff', 'part_B_final/test_data/images/IMG_144.tiff', 'part_B_final/test_data/images/IMG_131.tiff', 'part_B_final/test_data/images/IMG_125.tiff', 'part_B_final/test_data/images/IMG_326.tiff', 'part_B_final/test_data/images/IMG_66.tiff', 'part_B_final/test_data/images/IMG_148.tiff', 'part_B_final/test_data/images/IMG_173.tiff', 'part_B_final/test_data/images/IMG_106.tiff', 'part_B_final/test_data/images/IMG_295.tiff', 'part_B_final/test_data/images/IMG_27.tiff', 'part_B_final/test_data/images/IMG_221.tiff', 'part_B_final/test_data/images/IMG_197.tiff', 'part_B_final/test_data/images/IMG_71.tiff', 'part_B_final/test_data/images/IMG_93.tiff', 'part_B_final/test_data/images/IMG_218.tiff', 'part_B_final/test_data/images/IMG_3.tiff', 'part_B_final/test_data/images/IMG_41.tiff', 'part_B_final/test_data_mids/images/IMG_51.tiff', 'part_B_final/test_data/images/IMG_5.tiff', 'part_B_final/test_data/images/IMG_216.tiff', 'part_B_final/test_data/images/IMG_16.tiff', 'part_B_final/test_data/images/IMG_355.tiff', 'part_B_final/test_data/images/IMG_346.tiff', 'part_B_final/test_data/images/IMG_152.tiff', 'part_B_final/test_data_mids/images/IMG_74.tiff', 'part_B_final/test_data/images/IMG_288.tiff', 'part_B_final/test_data/images/IMG_205.tiff', 'part_B_final/test_data/images/IMG_113.tiff', 'part_B_final/test_data/images/IMG_49.tiff', 'part_B_final/test_data/images/IMG_307.tiff', 'part_B_final/test_data/images/IMG_280.tiff', 'part_B_final/test_data/images/IMG_321.tiff', 'part_B_final/test_data/images/IMG_79.tiff']\n"
      ],
      "execution_count": 0,
      "outputs": []
    },
    {
      "cell_type": "code",
      "metadata": {
        "id": "mWkWDG-0tKc2",
        "colab_type": "code",
        "outputId": "bb0e0247-cd26-4437-ecc7-c4b2e0198130",
        "colab": {
          "base_uri": "https://localhost:8080/",
          "height": 34
        }
      },
      "source": [
        "print(len(lower_testing))"
      ],
      "execution_count": 66,
      "outputs": [
        {
          "output_type": "stream",
          "text": [
            "348\n"
          ],
          "name": "stdout"
        }
      ]
    },
    {
      "cell_type": "code",
      "metadata": {
        "id": "vxwZqVJICMLh",
        "colab_type": "code",
        "colab": {}
      },
      "source": [
        "import sys\n",
        "import os\n",
        "\n",
        "import warnings\n",
        "\n",
        "\n",
        "\n",
        "\n",
        "import torch\n",
        "import torch.nn as nn\n",
        "from torch.autograd import Variable\n",
        "from torchvision import datasets, transforms\n",
        "\n",
        "import numpy as np\n",
        "import argparse\n",
        "import json\n",
        "import cv2\n",
        "import dataset\n",
        "import time"
      ],
      "execution_count": 0,
      "outputs": []
    },
    {
      "cell_type": "code",
      "metadata": {
        "id": "4Rt3uUfUCOKd",
        "colab_type": "code",
        "colab": {}
      },
      "source": [
        "import torch.nn as nn\n",
        "import torch\n",
        "from torch.nn import functional as F\n",
        "from torchvision import models\n",
        "\n",
        "class ContextualModule(nn.Module):\n",
        "    def __init__(self, features, out_features=512, sizes=(1, 2, 3, 6)):\n",
        "        super(ContextualModule, self).__init__()\n",
        "        self.scales = []\n",
        "        self.scales = nn.ModuleList([self._make_scale(features, size) for size in sizes])\n",
        "        self.bottleneck = nn.Conv2d(features * 2, out_features, kernel_size=1)\n",
        "        self.relu = nn.ReLU()\n",
        "        self.weight_net = nn.Conv2d(features,features,kernel_size=1)\n",
        "\n",
        "    def __make_weight(self,feature,scale_feature):\n",
        "        weight_feature = feature - scale_feature\n",
        "        return F.sigmoid(self.weight_net(weight_feature))\n",
        "\n",
        "    def _make_scale(self, features, size):\n",
        "        prior = nn.AdaptiveAvgPool2d(output_size=(size, size))\n",
        "        conv = nn.Conv2d(features, features, kernel_size=1, bias=False)\n",
        "        return nn.Sequential(prior, conv)\n",
        "\n",
        "    def forward(self, feats):\n",
        "        h, w = feats.size(2), feats.size(3)\n",
        "        multi_scales = [F.upsample(input=stage(feats), size=(h, w), mode='bilinear') for stage in self.scales]\n",
        "        weights = [self.__make_weight(feats,scale_feature) for scale_feature in multi_scales]\n",
        "        overall_features = [(multi_scales[0]*weights[0]+multi_scales[1]*weights[1]+multi_scales[2]*weights[2]+multi_scales[3]*weights[3])/(weights[0]+weights[1]+weights[2]+weights[3])]+ [feats]\n",
        "        bottle = self.bottleneck(torch.cat(overall_features, 1))\n",
        "        return self.relu(bottle)\n",
        "\n",
        "class CANNet(nn.Module):\n",
        "    def __init__(self, load_weights=False):\n",
        "        super(CANNet, self).__init__()\n",
        "        self.seen = 0\n",
        "        self.context = ContextualModule(512, 512)\n",
        "        self.frontend_feat = [64, 64, 'M', 128, 128, 'M', 256, 256, 256, 'M', 512, 512, 512]\n",
        "        self.backend_feat  = [512, 512, 512,256,128,64]\n",
        "        self.frontend = make_layers(self.frontend_feat)\n",
        "        self.backend = make_layers(self.backend_feat,in_channels = 512,batch_norm=True, dilation = True)\n",
        "        self.output_layer = nn.Conv2d(64, 1, kernel_size=1)\n",
        "        if not load_weights:\n",
        "            mod = models.vgg16(pretrained = True)\n",
        "            self._initialize_weights()\n",
        "            for i in xrange(len(self.frontend.state_dict().items())):\n",
        "                self.frontend.state_dict().items()[i][1].data[:] = mod.state_dict().items()[i][1].data[:]\n",
        "\n",
        "    def forward(self,x):\n",
        "        x = self.frontend(x)\n",
        "        x = self.context(x)\n",
        "        return x\n",
        "        x = self.backend(x)\n",
        "        x = self.output_layer(x)\n",
        "        return x\n",
        "\n",
        "    def _initialize_weights(self):\n",
        "        for m in self.modules():\n",
        "            if isinstance(m, nn.Conv2d):\n",
        "                nn.init.normal_(m.weight, std=0.01)\n",
        "                if m.bias is not None:\n",
        "                    nn.init.constant_(m.bias, 0)\n",
        "            elif isinstance(m, nn.BatchNorm2d):\n",
        "                nn.init.constant_(m.weight, 1)\n",
        "                nn.init.constant_(m.bias, 0)\n",
        "\n",
        "def make_layers(cfg, in_channels = 3,batch_norm=False,dilation = False):\n",
        "    if dilation:\n",
        "        d_rate = 2\n",
        "    else:\n",
        "        d_rate = 1\n",
        "    layers = []\n",
        "    for v in cfg:\n",
        "        if v == 'M':\n",
        "            layers += [nn.MaxPool2d(kernel_size=2, stride=2)]\n",
        "        else:\n",
        "            conv2d = nn.Conv2d(in_channels, v, kernel_size=3, padding=d_rate,dilation = d_rate)\n",
        "            if batch_norm:\n",
        "                layers += [conv2d, nn.BatchNorm2d(v), nn.ReLU(inplace=True)]\n",
        "            else:\n",
        "                layers += [conv2d, nn.ReLU(inplace=True)]\n",
        "            in_channels = v\n",
        "    return nn.Sequential(*layers)"
      ],
      "execution_count": 0,
      "outputs": []
    },
    {
      "cell_type": "code",
      "metadata": {
        "id": "nTuCL2XTCO3O",
        "colab_type": "code",
        "colab": {}
      },
      "source": [
        "model = CANNet()"
      ],
      "execution_count": 0,
      "outputs": []
    },
    {
      "cell_type": "code",
      "metadata": {
        "id": "Wovh-SwYCUzQ",
        "colab_type": "code",
        "colab": {}
      },
      "source": [
        "model = model.cuda()"
      ],
      "execution_count": 0,
      "outputs": []
    },
    {
      "cell_type": "code",
      "metadata": {
        "id": "q78I7tvzCYDq",
        "colab_type": "code",
        "outputId": "28308b5b-2fde-4684-9ccd-087c0ad28b06",
        "colab": {
          "base_uri": "https://localhost:8080/",
          "height": 34
        }
      },
      "source": [
        "checkpoint = torch.load('ALL_WEIGHTS/checkpoint_low_separate.tar')\n",
        "\n",
        "model.load_state_dict(checkpoint['state_dict'])"
      ],
      "execution_count": 72,
      "outputs": [
        {
          "output_type": "execute_result",
          "data": {
            "text/plain": [
              "<All keys matched successfully>"
            ]
          },
          "metadata": {
            "tags": []
          },
          "execution_count": 72
        }
      ]
    },
    {
      "cell_type": "code",
      "metadata": {
        "id": "NodRpRNtCexj",
        "colab_type": "code",
        "colab": {}
      },
      "source": [
        "\n",
        "\n",
        "import h5py\n",
        "import PIL.Image as Image\n",
        "import numpy as np\n",
        "import os\n",
        "import glob\n",
        "import scipy\n",
        "from image import *\n",
        "from model import CANNet\n",
        "import torch\n",
        "from torch.autograd import Variable\n",
        "\n",
        "from sklearn.metrics import mean_squared_error,mean_absolute_error\n",
        "\n",
        "from torchvision import transforms"
      ],
      "execution_count": 0,
      "outputs": []
    },
    {
      "cell_type": "code",
      "metadata": {
        "id": "rDUpZXK1Cgq0",
        "colab_type": "code",
        "colab": {}
      },
      "source": [
        "transform=transforms.Compose([\n",
        "                       transforms.ToTensor(),transforms.Normalize(mean=[0.485, 0.456, 0.406],\n",
        "                                     std=[0.229, 0.224, 0.225]),\n",
        "                   ])"
      ],
      "execution_count": 0,
      "outputs": []
    },
    {
      "cell_type": "code",
      "metadata": {
        "id": "cAYiXM5jDMKh",
        "colab_type": "code",
        "colab": {}
      },
      "source": [
        "names =[]\n",
        "for i in range(low_test):\n",
        "  names.append('IMG_'+str(i+1))"
      ],
      "execution_count": 0,
      "outputs": []
    },
    {
      "cell_type": "code",
      "metadata": {
        "id": "gZD5uFHbCkn_",
        "colab_type": "code",
        "colab": {}
      },
      "source": [
        "model.eval()\n",
        "\n",
        "\n",
        "gt = []"
      ],
      "execution_count": 0,
      "outputs": []
    },
    {
      "cell_type": "code",
      "metadata": {
        "id": "5zbW0i4UCmd0",
        "colab_type": "code",
        "colab": {}
      },
      "source": [
        "for i in xrange(len(lower_testing)):\n",
        "    gt_file = h5py.File(lower_testing[i].replace('.tiff','.h5').replace('images','ground_truth'),'r')\n",
        "    groundtruth = np.asarray(gt_file['density'])\n",
        "    gt.append(round(np.sum(groundtruth)))"
      ],
      "execution_count": 0,
      "outputs": []
    },
    {
      "cell_type": "code",
      "metadata": {
        "id": "Hh1YCwGyEO44",
        "colab_type": "code",
        "colab": {}
      },
      "source": [
        "arrgt = np.asarray(gt)\n",
        "arrnames = np.asarray(names)"
      ],
      "execution_count": 0,
      "outputs": []
    },
    {
      "cell_type": "code",
      "metadata": {
        "id": "sUre9qUjEQxD",
        "colab_type": "code",
        "colab": {}
      },
      "source": [
        "print(arrgt.shape)\n",
        "print(arrnames.shape)"
      ],
      "execution_count": 0,
      "outputs": []
    },
    {
      "cell_type": "code",
      "metadata": {
        "id": "iBgFRi30ESTZ",
        "colab_type": "code",
        "colab": {}
      },
      "source": [
        "print(arrgt)\n",
        "print(arrnames)"
      ],
      "execution_count": 0,
      "outputs": []
    },
    {
      "cell_type": "code",
      "metadata": {
        "id": "7G5aPdNwutOi",
        "colab_type": "code",
        "colab": {}
      },
      "source": [
        "features_savepath = 'BEST_TEST_LOW/' \n",
        "if not os.path.exists(features_savepath):\n",
        "    os.makedirs(features_savepath)"
      ],
      "execution_count": 0,
      "outputs": []
    },
    {
      "cell_type": "code",
      "metadata": {
        "id": "vcmIIB4WEUCd",
        "colab_type": "code",
        "colab": {}
      },
      "source": [
        "np.save(features_savepath +'/ground_truth_counts_test_low.npy', arrgt)\n",
        "np.save(features_savepath +'/ground_truth_names_test_low.npy', arrnames)"
      ],
      "execution_count": 0,
      "outputs": []
    },
    {
      "cell_type": "code",
      "metadata": {
        "id": "LSCpBScREfjQ",
        "colab_type": "code",
        "colab": {}
      },
      "source": [
        "\n",
        "class featureExtractor(nn.Module):\n",
        "    def __init__(self):\n",
        "        super(featureExtractor, self).__init__()\n",
        "        self.context = model.context\n",
        "        self.frontend = model.frontend\n",
        "\n",
        "    def forward(self,x):\n",
        "        x = self.frontend(x)\n",
        "        x = self.context(x)\n",
        "        return x\n",
        "\n",
        "\n",
        "\n",
        "net_conv1 = featureExtractor()\n"
      ],
      "execution_count": 0,
      "outputs": []
    },
    {
      "cell_type": "code",
      "metadata": {
        "id": "Di5ZfILVEke6",
        "colab_type": "code",
        "colab": {}
      },
      "source": [
        "net_conv1 = net_conv1.cuda()"
      ],
      "execution_count": 0,
      "outputs": []
    },
    {
      "cell_type": "code",
      "metadata": {
        "id": "63aMwhiAEmRb",
        "colab_type": "code",
        "colab": {}
      },
      "source": [
        "x =[]\n"
      ],
      "execution_count": 0,
      "outputs": []
    },
    {
      "cell_type": "code",
      "metadata": {
        "id": "ebIzb4lOEn4C",
        "colab_type": "code",
        "colab": {}
      },
      "source": [
        "for i in xrange(len(lower_testing)):\n",
        "    img = transform(Image.open(lower_testing[i]).convert('RGB')).cuda()\n",
        "    img = img.unsqueeze(0)\n",
        "    h,w = img.shape[2:4]\n",
        "    density= net_conv1(img).data.cpu().numpy()\n",
        "    act = np.squeeze(density)\n",
        "    pure_name = os.path.splitext(os.path.basename(lower_testing[i]))[0]\n",
        "    x.append(act)\n",
        "    \n",
        "\n",
        "    #density = np.squeeze(3)\n",
        "    \n",
        "\n"
      ],
      "execution_count": 0,
      "outputs": []
    },
    {
      "cell_type": "code",
      "metadata": {
        "id": "VqSE041rEw_d",
        "colab_type": "code",
        "colab": {}
      },
      "source": [
        "print(len(x))"
      ],
      "execution_count": 0,
      "outputs": []
    },
    {
      "cell_type": "code",
      "metadata": {
        "id": "v2s_31xaE0rW",
        "colab_type": "code",
        "colab": {}
      },
      "source": [
        "all_feats = []"
      ],
      "execution_count": 0,
      "outputs": []
    },
    {
      "cell_type": "code",
      "metadata": {
        "id": "yun-qxghvF72",
        "colab_type": "code",
        "colab": {}
      },
      "source": [
        ""
      ],
      "execution_count": 0,
      "outputs": []
    },
    {
      "cell_type": "code",
      "metadata": {
        "id": "SvxU9UWzE88K",
        "colab_type": "code",
        "colab": {}
      },
      "source": [
        "for i in range(low_test):\n",
        "  feats = []\n",
        "  for j in range(512):\n",
        "    s = 0\n",
        "    for k in range (42):\n",
        "      for l in range(42):\n",
        "        s = s + x[i][j][k][l]\n",
        "    a = s/1764\n",
        "    feats.append(a)\n",
        "  all_feats.append(feats)"
      ],
      "execution_count": 0,
      "outputs": []
    },
    {
      "cell_type": "code",
      "metadata": {
        "id": "xqZrsDU0FBcO",
        "colab_type": "code",
        "colab": {}
      },
      "source": [
        "f = np.array(all_feats)"
      ],
      "execution_count": 0,
      "outputs": []
    },
    {
      "cell_type": "code",
      "metadata": {
        "id": "eiv8PrR3FDL3",
        "colab_type": "code",
        "colab": {}
      },
      "source": [
        "print(f.shape)"
      ],
      "execution_count": 0,
      "outputs": []
    },
    {
      "cell_type": "code",
      "metadata": {
        "id": "0FOohBTHFFc4",
        "colab_type": "code",
        "colab": {}
      },
      "source": [
        "features = 'BEST_TEST_LOW/FEATURES/' \n",
        "if not os.path.exists(features):\n",
        "    os.makedirs(features)"
      ],
      "execution_count": 0,
      "outputs": []
    },
    {
      "cell_type": "code",
      "metadata": {
        "id": "wXXMvD4zFH-U",
        "colab_type": "code",
        "colab": {}
      },
      "source": [
        "for i in range(low_test):\n",
        "  x=np.array(f[i])\n",
        "  np.save(features+'/IMG_'+str(i+1)+'.npy',x)"
      ],
      "execution_count": 0,
      "outputs": []
    },
    {
      "cell_type": "code",
      "metadata": {
        "id": "jIALnieNB_lU",
        "colab_type": "code",
        "colab": {}
      },
      "source": [
        ""
      ],
      "execution_count": 0,
      "outputs": []
    }
  ]
}