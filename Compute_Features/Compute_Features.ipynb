{
  "nbformat": 4,
  "nbformat_minor": 0,
  "metadata": {
    "colab": {
      "name": "Compute_Features.ipynb",
      "provenance": [],
      "collapsed_sections": [],
      "machine_shape": "hm"
    },
    "kernelspec": {
      "name": "python2",
      "display_name": "Python 2"
    },
    "accelerator": "GPU"
  },
  "cells": [
    {
      "cell_type": "code",
      "metadata": {
        "id": "lNzoM-PSOClo",
        "colab_type": "code",
        "colab": {}
      },
      "source": [
        "#################### Particularly Compute Features for low training dataset ##############################\n",
        "#### Similarly, we can compute features for mid training , high training, low testing, mid testing and high testing datasets  #####\n",
        "\n",
        "#### By changing paths of images, weights to use, and variables ######"
      ],
      "execution_count": 0,
      "outputs": []
    },
    {
      "cell_type": "code",
      "metadata": {
        "id": "xkyetcv6UOmD",
        "colab_type": "code",
        "colab": {}
      },
      "source": [
        "################################## Python 2 #############################################################"
      ],
      "execution_count": 0,
      "outputs": []
    },
    {
      "cell_type": "code",
      "metadata": {
        "id": "xhT1s_txLmKK",
        "colab_type": "code",
        "colab": {}
      },
      "source": [
        "\n",
        "low_train = 1581\n",
        "mid_train = 2204\n",
        "high_train = 852\n",
        "low_test = 348\n",
        "mid_test = 126\n",
        "high_test = 54"
      ],
      "execution_count": 0,
      "outputs": []
    },
    {
      "cell_type": "code",
      "metadata": {
        "id": "ZJuF5ZwzLn5O",
        "colab_type": "code",
        "colab": {}
      },
      "source": [
        "#Paths of testing images, these are the paths, here on my side, given by classifier. \n",
        "\n",
        "# test_data is the path of original low testing images (before classifier)\n",
        "# test_data_mids is the path of original mid testing images  (before classifier)\n",
        "# test_data_high is the path of original mid testing images  (before classifier)\n",
        "\n",
        "# you have to change the path accordingly\n",
        "\n",
        "low_mod = ['part_B_final/test_data/images/IMG_20.tiff', 'part_B_final/test_data/images/IMG_213.tiff', 'part_B_final/test_data_mids/images/IMG_65.tiff', 'part_B_final/test_data/images/IMG_246.tiff', 'part_B_final/test_data/images/IMG_17.tiff', 'part_B_final/test_data/images/IMG_219.tiff', 'part_B_final/test_data/images/IMG_344.tiff', 'part_B_final/test_data/images/IMG_279.tiff', 'part_B_final/test_data/images/IMG_266.tiff', 'part_B_final/test_data/images/IMG_132.tiff', 'part_B_final/test_data/images/IMG_217.tiff', 'part_B_final/test_data/images/IMG_147.tiff', 'part_B_final/test_data/images/IMG_271.tiff', 'part_B_final/test_data/images/IMG_150.tiff', 'part_B_final/test_data/images/IMG_15.tiff', 'part_B_final/test_data/images/IMG_168.tiff', 'part_B_final/test_data/images/IMG_265.tiff', 'part_B_final/test_data/images/IMG_202.tiff', 'part_B_final/test_data/images/IMG_268.tiff', 'part_B_final/test_data/images/IMG_328.tiff', 'part_B_final/test_data/images/IMG_126.tiff', 'part_B_final/test_data/images/IMG_80.tiff', 'part_B_final/test_data/images/IMG_241.tiff', 'part_B_final/test_data/images/IMG_156.tiff', 'part_B_final/test_data/images/IMG_226.tiff', 'part_B_final/test_data/images/IMG_196.tiff', 'part_B_final/test_data/images/IMG_63.tiff', 'part_B_final/test_data/images/IMG_333.tiff', 'part_B_final/test_data/images/IMG_102.tiff', 'part_B_final/test_data/images/IMG_145.tiff', 'part_B_final/test_data/images/IMG_222.tiff', 'part_B_final/test_data/images/IMG_245.tiff', 'part_B_final/test_data/images/IMG_22.tiff', 'part_B_final/test_data/images/IMG_21.tiff', 'part_B_final/test_data/images/IMG_248.tiff', 'part_B_final/test_data/images/IMG_212.tiff', 'part_B_final/test_data/images/IMG_74.tiff', 'part_B_final/test_data/images/IMG_201.tiff', 'part_B_final/test_data/images/IMG_7.tiff', 'part_B_final/test_data/images/IMG_50.tiff', 'part_B_final/test_data/images/IMG_123.tiff', 'part_B_final/test_data/images/IMG_225.tiff', 'part_B_final/test_data/images/IMG_181.tiff', 'part_B_final/test_data/images/IMG_76.tiff', 'part_B_final/test_data/images/IMG_13.tiff', 'part_B_final/test_data/images/IMG_251.tiff', 'part_B_final/test_data/images/IMG_228.tiff', 'part_B_final/test_data/images/IMG_206.tiff', 'part_B_final/test_data/images/IMG_187.tiff', 'part_B_final/test_data/images/IMG_284.tiff', 'part_B_final/test_data/images/IMG_88.tiff', 'part_B_final/test_data/images/IMG_264.tiff', 'part_B_final/test_data/images/IMG_224.tiff', 'part_B_final/test_data_mids/images/IMG_56.tiff', 'part_B_final/test_data/images/IMG_134.tiff', 'part_B_final/test_data/images/IMG_31.tiff', 'part_B_final/test_data/images/IMG_345.tiff', 'part_B_final/test_data/images/IMG_46.tiff', 'part_B_final/test_data/images/IMG_119.tiff', 'part_B_final/test_data/images/IMG_259.tiff', 'part_B_final/test_data/images/IMG_198.tiff', 'part_B_final/test_data/images/IMG_274.tiff', 'part_B_final/test_data/images/IMG_319.tiff', 'part_B_final/test_data/images/IMG_12.tiff', 'part_B_final/test_data/images/IMG_56.tiff', 'part_B_final/test_data/images/IMG_89.tiff', 'part_B_final/test_data/images/IMG_166.tiff', 'part_B_final/test_data/images/IMG_310.tiff', 'part_B_final/test_data/images/IMG_100.tiff', 'part_B_final/test_data/images/IMG_214.tiff', 'part_B_final/test_data/images/IMG_304.tiff', 'part_B_final/test_data/images/IMG_179.tiff', 'part_B_final/test_data/images/IMG_278.tiff', 'part_B_final/test_data/images/IMG_53.tiff', 'part_B_final/test_data/images/IMG_237.tiff', 'part_B_final/test_data/images/IMG_334.tiff', 'part_B_final/test_data/images/IMG_149.tiff', 'part_B_final/test_data/images/IMG_127.tiff', 'part_B_final/test_data/images/IMG_339.tiff', 'part_B_final/test_data/images/IMG_186.tiff', 'part_B_final/test_data/images/IMG_312.tiff', 'part_B_final/test_data/images/IMG_87.tiff', 'part_B_final/test_data/images/IMG_107.tiff', 'part_B_final/test_data/images/IMG_55.tiff', 'part_B_final/test_data/images/IMG_242.tiff', 'part_B_final/test_data/images/IMG_281.tiff', 'part_B_final/test_data/images/IMG_203.tiff', 'part_B_final/test_data_mids/images/IMG_55.tiff', 'part_B_final/test_data/images/IMG_192.tiff', 'part_B_final/test_data/images/IMG_67.tiff', 'part_B_final/test_data/images/IMG_112.tiff', 'part_B_final/test_data/images/IMG_286.tiff', 'part_B_final/test_data/images/IMG_38.tiff', 'part_B_final/test_data/images/IMG_129.tiff', 'part_B_final/test_data/images/IMG_64.tiff', 'part_B_final/test_data/images/IMG_124.tiff', 'part_B_final/test_data/images/IMG_70.tiff', 'part_B_final/test_data/images/IMG_208.tiff', 'part_B_final/test_data/images/IMG_108.tiff', 'part_B_final/test_data/images/IMG_96.tiff', 'part_B_final/test_data/images/IMG_139.tiff', 'part_B_final/test_data/images/IMG_104.tiff', 'part_B_final/test_data/images/IMG_193.tiff', 'part_B_final/test_data/images/IMG_348.tiff', 'part_B_final/test_data/images/IMG_23.tiff', 'part_B_final/test_data/images/IMG_296.tiff', 'part_B_final/test_data/images/IMG_287.tiff', 'part_B_final/test_data/images/IMG_117.tiff', 'part_B_final/test_data_mids/images/IMG_32.tiff', 'part_B_final/test_data/images/IMG_185.tiff', 'part_B_final/test_data/images/IMG_143.tiff', 'part_B_final/test_data/images/IMG_322.tiff', 'part_B_final/test_data/images/IMG_188.tiff', 'part_B_final/test_data/images/IMG_273.tiff', 'part_B_final/test_data/images/IMG_289.tiff', 'part_B_final/test_data/images/IMG_292.tiff', 'part_B_final/test_data/images/IMG_60.tiff', 'part_B_final/test_data/images/IMG_191.tiff', 'part_B_final/test_data/images/IMG_308.tiff', 'part_B_final/test_data/images/IMG_141.tiff', 'part_B_final/test_data/images/IMG_282.tiff', 'part_B_final/test_data/images/IMG_340.tiff', 'part_B_final/test_data/images/IMG_33.tiff', 'part_B_final/test_data/images/IMG_142.tiff', 'part_B_final/test_data/images/IMG_252.tiff', 'part_B_final/test_data/images/IMG_357.tiff', 'part_B_final/test_data/images/IMG_11.tiff', 'part_B_final/test_data/images/IMG_199.tiff', 'part_B_final/test_data/images/IMG_194.tiff', 'part_B_final/test_data/images/IMG_61.tiff', 'part_B_final/test_data/images/IMG_39.tiff', 'part_B_final/test_data/images/IMG_162.tiff', 'part_B_final/test_data/images/IMG_45.tiff', 'part_B_final/test_data/images/IMG_297.tiff', 'part_B_final/test_data/images/IMG_200.tiff', 'part_B_final/test_data/images/IMG_243.tiff', 'part_B_final/test_data/images/IMG_275.tiff', 'part_B_final/test_data/images/IMG_99.tiff', 'part_B_final/test_data/images/IMG_327.tiff', 'part_B_final/test_data/images/IMG_261.tiff', 'part_B_final/test_data/images/IMG_175.tiff', 'part_B_final/test_data/images/IMG_350.tiff', 'part_B_final/test_data/images/IMG_18.tiff', 'part_B_final/test_data/images/IMG_351.tiff', 'part_B_final/test_data/images/IMG_1.tiff', 'part_B_final/test_data_mids/images/IMG_19.tiff', 'part_B_final/test_data/images/IMG_343.tiff', 'part_B_final/test_data/images/IMG_82.tiff', 'part_B_final/test_data/images/IMG_110.tiff', 'part_B_final/test_data/images/IMG_52.tiff', 'part_B_final/test_data/images/IMG_354.tiff', 'part_B_final/test_data/images/IMG_25.tiff', 'part_B_final/test_data/images/IMG_157.tiff', 'part_B_final/test_data/images/IMG_111.tiff', 'part_B_final/test_data/images/IMG_210.tiff', 'part_B_final/test_data/images/IMG_257.tiff', 'part_B_final/test_data/images/IMG_302.tiff', 'part_B_final/test_data/images/IMG_155.tiff', 'part_B_final/test_data/images/IMG_309.tiff', 'part_B_final/test_data/images/IMG_73.tiff', 'part_B_final/test_data/images/IMG_325.tiff', 'part_B_final/test_data/images/IMG_247.tiff', 'part_B_final/test_data/images/IMG_103.tiff', 'part_B_final/test_data/images/IMG_223.tiff', 'part_B_final/test_data/images/IMG_9.tiff', 'part_B_final/test_data/images/IMG_86.tiff', 'part_B_final/test_data/images/IMG_37.tiff', 'part_B_final/test_data/images/IMG_215.tiff', 'part_B_final/test_data/images/IMG_32.tiff', 'part_B_final/test_data/images/IMG_130.tiff', 'part_B_final/test_data/images/IMG_4.tiff', 'part_B_final/test_data/images/IMG_19.tiff', 'part_B_final/test_data/images/IMG_120.tiff', 'part_B_final/test_data/images/IMG_180.tiff', 'part_B_final/test_data/images/IMG_65.tiff', 'part_B_final/test_data/images/IMG_204.tiff', 'part_B_final/test_data/images/IMG_160.tiff', 'part_B_final/test_data/images/IMG_10.tiff', 'part_B_final/test_data/images/IMG_122.tiff', 'part_B_final/test_data/images/IMG_320.tiff', 'part_B_final/test_data/images/IMG_85.tiff', 'part_B_final/test_data/images/IMG_26.tiff', 'part_B_final/test_data/images/IMG_28.tiff', 'part_B_final/test_data/images/IMG_347.tiff', 'part_B_final/test_data/images/IMG_337.tiff', 'part_B_final/test_data/images/IMG_283.tiff', 'part_B_final/test_data/images/IMG_233.tiff', 'part_B_final/test_data/images/IMG_311.tiff', 'part_B_final/test_data/images/IMG_178.tiff', 'part_B_final/test_data/images/IMG_151.tiff', 'part_B_final/test_data/images/IMG_97.tiff', 'part_B_final/test_data/images/IMG_83.tiff', 'part_B_final/test_data/images/IMG_323.tiff', 'part_B_final/test_data/images/IMG_159.tiff', 'part_B_final/test_data/images/IMG_231.tiff', 'part_B_final/test_data/images/IMG_353.tiff', 'part_B_final/test_data/images/IMG_135.tiff', 'part_B_final/test_data/images/IMG_260.tiff', 'part_B_final/test_data/images/IMG_270.tiff', 'part_B_final/test_data/images/IMG_98.tiff', 'part_B_final/test_data/images/IMG_182.tiff', 'part_B_final/test_data/images/IMG_164.tiff', 'part_B_final/test_data/images/IMG_94.tiff', 'part_B_final/test_data/images/IMG_250.tiff', 'part_B_final/test_data/images/IMG_318.tiff', 'part_B_final/test_data/images/IMG_153.tiff', 'part_B_final/test_data/images/IMG_255.tiff', 'part_B_final/test_data/images/IMG_14.tiff', 'part_B_final/test_data/images/IMG_207.tiff', 'part_B_final/test_data/images/IMG_115.tiff', 'part_B_final/test_data/images/IMG_171.tiff', 'part_B_final/test_data/images/IMG_133.tiff', 'part_B_final/test_data/images/IMG_267.tiff', 'part_B_final/test_data/images/IMG_349.tiff', 'part_B_final/test_data/images/IMG_298.tiff', 'part_B_final/test_data/images/IMG_42.tiff', 'part_B_final/test_data/images/IMG_332.tiff', 'part_B_final/test_data/images/IMG_244.tiff', 'part_B_final/test_data_mids/images/IMG_69.tiff', 'part_B_final/test_data/images/IMG_165.tiff', 'part_B_final/test_data/images/IMG_184.tiff', 'part_B_final/test_data/images/IMG_90.tiff', 'part_B_final/test_data/images/IMG_101.tiff', 'part_B_final/test_data/images/IMG_190.tiff', 'part_B_final/test_data/images/IMG_69.tiff', 'part_B_final/test_data/images/IMG_230.tiff', 'part_B_final/test_data/images/IMG_341.tiff', 'part_B_final/test_data/images/IMG_315.tiff', 'part_B_final/test_data/images/IMG_232.tiff', 'part_B_final/test_data_mids/images/IMG_52.tiff', 'part_B_final/test_data/images/IMG_137.tiff', 'part_B_final/test_data/images/IMG_172.tiff', 'part_B_final/test_data/images/IMG_51.tiff', 'part_B_final/test_data/images/IMG_75.tiff', 'part_B_final/test_data/images/IMG_305.tiff', 'part_B_final/test_data/images/IMG_189.tiff', 'part_B_final/test_data/images/IMG_48.tiff', 'part_B_final/test_data/images/IMG_174.tiff', 'part_B_final/test_data/images/IMG_24.tiff', 'part_B_final/test_data/images/IMG_170.tiff', 'part_B_final/test_data/images/IMG_2.tiff', 'part_B_final/test_data/images/IMG_177.tiff', 'part_B_final/test_data/images/IMG_331.tiff', 'part_B_final/test_data/images/IMG_136.tiff', 'part_B_final/test_data/images/IMG_239.tiff', 'part_B_final/test_data/images/IMG_167.tiff', 'part_B_final/test_data/images/IMG_329.tiff', 'part_B_final/test_data/images/IMG_43.tiff', 'part_B_final/test_data/images/IMG_236.tiff', 'part_B_final/test_data/images/IMG_317.tiff', 'part_B_final/test_data/images/IMG_169.tiff', 'part_B_final/test_data/images/IMG_294.tiff', 'part_B_final/test_data/images/IMG_183.tiff', 'part_B_final/test_data/images/IMG_229.tiff', 'part_B_final/test_data/images/IMG_314.tiff', 'part_B_final/test_data/images/IMG_306.tiff', 'part_B_final/test_data/images/IMG_342.tiff', 'part_B_final/test_data/images/IMG_163.tiff', 'part_B_final/test_data/images/IMG_29.tiff', 'part_B_final/test_data/images/IMG_118.tiff', 'part_B_final/test_data/images/IMG_253.tiff', 'part_B_final/test_data/images/IMG_68.tiff', 'part_B_final/test_data/images/IMG_6.tiff', 'part_B_final/test_data/images/IMG_313.tiff', 'part_B_final/test_data/images/IMG_84.tiff', 'part_B_final/test_data/images/IMG_352.tiff', 'part_B_final/test_data/images/IMG_336.tiff', 'part_B_final/test_data/images/IMG_36.tiff', 'part_B_final/test_data/images/IMG_338.tiff', 'part_B_final/test_data/images/IMG_269.tiff', 'part_B_final/test_data/images/IMG_290.tiff', 'part_B_final/test_data/images/IMG_59.tiff', 'part_B_final/test_data/images/IMG_40.tiff', 'part_B_final/test_data/images/IMG_121.tiff', 'part_B_final/test_data/images/IMG_30.tiff', 'part_B_final/test_data/images/IMG_356.tiff', 'part_B_final/test_data/images/IMG_78.tiff', 'part_B_final/test_data/images/IMG_91.tiff', 'part_B_final/test_data/images/IMG_324.tiff', 'part_B_final/test_data/images/IMG_300.tiff', 'part_B_final/test_data/images/IMG_128.tiff', 'part_B_final/test_data/images/IMG_44.tiff', 'part_B_final/test_data/images/IMG_57.tiff', 'part_B_final/test_data/images/IMG_291.tiff', 'part_B_final/test_data/images/IMG_234.tiff', 'part_B_final/test_data/images/IMG_211.tiff', 'part_B_final/test_data/images/IMG_263.tiff', 'part_B_final/test_data/images/IMG_109.tiff', 'part_B_final/test_data/images/IMG_256.tiff', 'part_B_final/test_data/images/IMG_335.tiff', 'part_B_final/test_data/images/IMG_140.tiff', 'part_B_final/test_data/images/IMG_77.tiff', 'part_B_final/test_data/images/IMG_105.tiff', 'part_B_final/test_data/images/IMG_81.tiff', 'part_B_final/test_data/images/IMG_293.tiff', 'part_B_final/test_data/images/IMG_54.tiff', 'part_B_final/test_data/images/IMG_95.tiff', 'part_B_final/test_data/images/IMG_258.tiff', 'part_B_final/test_data/images/IMG_116.tiff', 'part_B_final/test_data/images/IMG_8.tiff', 'part_B_final/test_data/images/IMG_176.tiff', 'part_B_final/test_data/images/IMG_47.tiff', 'part_B_final/test_data/images/IMG_195.tiff', 'part_B_final/test_data/images/IMG_276.tiff', 'part_B_final/test_data/images/IMG_299.tiff', 'part_B_final/test_data/images/IMG_146.tiff', 'part_B_final/test_data/images/IMG_209.tiff', 'part_B_final/test_data/images/IMG_240.tiff', 'part_B_final/test_data/images/IMG_272.tiff', 'part_B_final/test_data/images/IMG_220.tiff', 'part_B_final/test_data/images/IMG_235.tiff', 'part_B_final/test_data/images/IMG_58.tiff', 'part_B_final/test_data/images/IMG_34.tiff', 'part_B_final/test_data/images/IMG_154.tiff', 'part_B_final/test_data/images/IMG_161.tiff', 'part_B_final/test_data/images/IMG_144.tiff', 'part_B_final/test_data/images/IMG_131.tiff', 'part_B_final/test_data/images/IMG_125.tiff', 'part_B_final/test_data/images/IMG_326.tiff', 'part_B_final/test_data/images/IMG_66.tiff', 'part_B_final/test_data/images/IMG_148.tiff', 'part_B_final/test_data/images/IMG_173.tiff', 'part_B_final/test_data/images/IMG_106.tiff', 'part_B_final/test_data/images/IMG_295.tiff', 'part_B_final/test_data/images/IMG_27.tiff', 'part_B_final/test_data/images/IMG_221.tiff', 'part_B_final/test_data/images/IMG_197.tiff', 'part_B_final/test_data/images/IMG_71.tiff', 'part_B_final/test_data/images/IMG_93.tiff', 'part_B_final/test_data/images/IMG_218.tiff', 'part_B_final/test_data/images/IMG_3.tiff', 'part_B_final/test_data/images/IMG_41.tiff', 'part_B_final/test_data_mids/images/IMG_51.tiff', 'part_B_final/test_data/images/IMG_5.tiff', 'part_B_final/test_data/images/IMG_216.tiff', 'part_B_final/test_data/images/IMG_16.tiff', 'part_B_final/test_data/images/IMG_355.tiff', 'part_B_final/test_data/images/IMG_346.tiff', 'part_B_final/test_data/images/IMG_152.tiff', 'part_B_final/test_data_mids/images/IMG_74.tiff', 'part_B_final/test_data/images/IMG_288.tiff', 'part_B_final/test_data/images/IMG_205.tiff', 'part_B_final/test_data/images/IMG_113.tiff', 'part_B_final/test_data/images/IMG_49.tiff', 'part_B_final/test_data/images/IMG_307.tiff', 'part_B_final/test_data/images/IMG_280.tiff', 'part_B_final/test_data/images/IMG_321.tiff', 'part_B_final/test_data/images/IMG_79.tiff']\n",
        "mid_mod = ['part_B_final/test_data_mids/images/IMG_117.tiff', 'part_B_final/test_data_mids/images/IMG_68.tiff', 'part_B_final/test_data_mids/images/IMG_115.tiff', 'part_B_final/test_data_mids/images/IMG_80.tiff', 'part_B_final/test_data_mids/images/IMG_107.tiff', 'part_B_final/test_data_mids/images/IMG_119.tiff', 'part_B_final/test_data_mids/images/IMG_36.tiff', 'part_B_final/test_data/images/IMG_262.tiff', 'part_B_final/test_data/images/IMG_62.tiff', 'part_B_final/test_data_mids/images/IMG_57.tiff', 'part_B_final/test_data/images/IMG_114.tiff', 'part_B_final/test_data_mids/images/IMG_114.tiff', 'part_B_final/test_data_mids/images/IMG_4.tiff', 'part_B_final/test_data_mids/images/IMG_48.tiff', 'part_B_final/test_data/images/IMG_277.tiff', 'part_B_final/test_data_mids/images/IMG_75.tiff', 'part_B_final/test_data_mids/images/IMG_6.tiff', 'part_B_final/test_data_mids/images/IMG_88.tiff', 'part_B_final/test_data_mids/images/IMG_21.tiff', 'part_B_final/test_data/images/IMG_227.tiff', 'part_B_final/test_data_mids/images/IMG_20.tiff', 'part_B_final/test_data_high/images/IMG_28.tiff', 'part_B_final/test_data_high/images/IMG_34.tiff', 'part_B_final/test_data_mids/images/IMG_35.tiff', 'part_B_final/test_data_mids/images/IMG_23.tiff', 'part_B_final/test_data_mids/images/IMG_63.tiff', 'part_B_final/test_data_mids/images/IMG_42.tiff', 'part_B_final/test_data_mids/images/IMG_59.tiff', 'part_B_final/test_data_mids/images/IMG_2.tiff', 'part_B_final/test_data_mids/images/IMG_82.tiff', 'part_B_final/test_data_mids/images/IMG_67.tiff', 'part_B_final/test_data_mids/images/IMG_99.tiff', 'part_B_final/test_data_mids/images/IMG_92.tiff', 'part_B_final/test_data_mids/images/IMG_39.tiff', 'part_B_final/test_data_mids/images/IMG_116.tiff', 'part_B_final/test_data_high/images/IMG_3.tiff', 'part_B_final/test_data_mids/images/IMG_98.tiff', 'part_B_final/test_data/images/IMG_330.tiff', 'part_B_final/test_data_high/images/IMG_37.tiff', 'part_B_final/test_data/images/IMG_238.tiff', 'part_B_final/test_data_mids/images/IMG_46.tiff', 'part_B_final/test_data_mids/images/IMG_58.tiff', 'part_B_final/test_data_mids/images/IMG_108.tiff', 'part_B_final/test_data_mids/images/IMG_112.tiff', 'part_B_final/test_data_mids/images/IMG_26.tiff', 'part_B_final/test_data_mids/images/IMG_25.tiff', 'part_B_final/test_data_mids/images/IMG_44.tiff', 'part_B_final/test_data_mids/images/IMG_7.tiff', 'part_B_final/test_data_mids/images/IMG_111.tiff', 'part_B_final/test_data_mids/images/IMG_64.tiff', 'part_B_final/test_data_mids/images/IMG_105.tiff', 'part_B_final/test_data_mids/images/IMG_50.tiff', 'part_B_final/test_data_mids/images/IMG_22.tiff', 'part_B_final/test_data_mids/images/IMG_77.tiff', 'part_B_final/test_data_mids/images/IMG_38.tiff', 'part_B_final/test_data_mids/images/IMG_31.tiff', 'part_B_final/test_data_mids/images/IMG_72.tiff', 'part_B_final/test_data/images/IMG_35.tiff', 'part_B_final/test_data_mids/images/IMG_87.tiff', 'part_B_final/test_data_mids/images/IMG_43.tiff', 'part_B_final/test_data_mids/images/IMG_71.tiff', 'part_B_final/test_data_mids/images/IMG_37.tiff', 'part_B_final/test_data_mids/images/IMG_61.tiff', 'part_B_final/test_data_mids/images/IMG_90.tiff', 'part_B_final/test_data_mids/images/IMG_66.tiff', 'part_B_final/test_data_mids/images/IMG_41.tiff', 'part_B_final/test_data_mids/images/IMG_16.tiff', 'part_B_final/test_data_mids/images/IMG_62.tiff', 'part_B_final/test_data_mids/images/IMG_14.tiff', 'part_B_final/test_data_mids/images/IMG_45.tiff', 'part_B_final/test_data_mids/images/IMG_33.tiff', 'part_B_final/test_data/images/IMG_249.tiff', 'part_B_final/test_data_mids/images/IMG_106.tiff', 'part_B_final/test_data_mids/images/IMG_73.tiff', 'part_B_final/test_data/images/IMG_303.tiff', 'part_B_final/test_data_mids/images/IMG_78.tiff', 'part_B_final/test_data_mids/images/IMG_9.tiff', 'part_B_final/test_data_mids/images/IMG_94.tiff', 'part_B_final/test_data/images/IMG_301.tiff', 'part_B_final/test_data_mids/images/IMG_30.tiff', 'part_B_final/test_data_mids/images/IMG_103.tiff', 'part_B_final/test_data_mids/images/IMG_40.tiff', 'part_B_final/test_data_mids/images/IMG_96.tiff', 'part_B_final/test_data_mids/images/IMG_53.tiff', 'part_B_final/test_data_mids/images/IMG_79.tiff', 'part_B_final/test_data/images/IMG_285.tiff', 'part_B_final/test_data_high/images/IMG_20.tiff', 'part_B_final/test_data_mids/images/IMG_12.tiff', 'part_B_final/test_data_mids/images/IMG_13.tiff', 'part_B_final/test_data_mids/images/IMG_49.tiff', 'part_B_final/test_data_high/images/IMG_36.tiff', 'part_B_final/test_data_mids/images/IMG_5.tiff', 'part_B_final/test_data/images/IMG_92.tiff', 'part_B_final/test_data_mids/images/IMG_83.tiff', 'part_B_final/test_data_mids/images/IMG_17.tiff', 'part_B_final/test_data/images/IMG_138.tiff', 'part_B_final/test_data_mids/images/IMG_34.tiff', 'part_B_final/test_data_mids/images/IMG_27.tiff', 'part_B_final/test_data/images/IMG_316.tiff', 'part_B_final/test_data_high/images/IMG_6.tiff', 'part_B_final/test_data_mids/images/IMG_8.tiff', 'part_B_final/test_data_high/images/IMG_38.tiff', 'part_B_final/test_data_mids/images/IMG_110.tiff', 'part_B_final/test_data_mids/images/IMG_47.tiff', 'part_B_final/test_data/images/IMG_254.tiff', 'part_B_final/test_data_mids/images/IMG_60.tiff', 'part_B_final/test_data_mids/images/IMG_11.tiff', 'part_B_final/test_data_mids/images/IMG_104.tiff', 'part_B_final/test_data_mids/images/IMG_3.tiff', 'part_B_final/test_data_mids/images/IMG_76.tiff', 'part_B_final/test_data_mids/images/IMG_18.tiff', 'part_B_final/test_data_mids/images/IMG_100.tiff', 'part_B_final/test_data_mids/images/IMG_86.tiff', 'part_B_final/test_data_high/images/IMG_11.tiff', 'part_B_final/test_data_mids/images/IMG_28.tiff', 'part_B_final/test_data/images/IMG_72.tiff', 'part_B_final/test_data_mids/images/IMG_84.tiff', 'part_B_final/test_data_mids/images/IMG_15.tiff', 'part_B_final/test_data_mids/images/IMG_29.tiff', 'part_B_final/test_data_mids/images/IMG_1.tiff', 'part_B_final/test_data_mids/images/IMG_85.tiff', 'part_B_final/test_data_mids/images/IMG_54.tiff', 'part_B_final/test_data_mids/images/IMG_24.tiff', 'part_B_final/test_data_mids/images/IMG_10.tiff', 'part_B_final/test_data/images/IMG_158.tiff', 'part_B_final/test_data_mids/images/IMG_81.tiff']\n",
        "high_mod = ['part_B_final/test_data_high/images/IMG_50.tiff', 'part_B_final/test_data_mids/images/IMG_89.tiff', 'part_B_final/test_data_high/images/IMG_43.tiff', 'part_B_final/test_data_high/images/IMG_16.tiff', 'part_B_final/test_data_high/images/IMG_7.tiff', 'part_B_final/test_data_high/images/IMG_21.tiff', 'part_B_final/test_data_high/images/IMG_10.tiff', 'part_B_final/test_data_high/images/IMG_12.tiff', 'part_B_final/test_data_mids/images/IMG_70.tiff', 'part_B_final/test_data_high/images/IMG_42.tiff', 'part_B_final/test_data_high/images/IMG_39.tiff', 'part_B_final/test_data_mids/images/IMG_95.tiff', 'part_B_final/test_data_high/images/IMG_9.tiff', 'part_B_final/test_data_high/images/IMG_31.tiff', 'part_B_final/test_data_high/images/IMG_48.tiff', 'part_B_final/test_data_high/images/IMG_40.tiff', 'part_B_final/test_data_mids/images/IMG_101.tiff', 'part_B_final/test_data_high/images/IMG_2.tiff', 'part_B_final/test_data_high/images/IMG_35.tiff', 'part_B_final/test_data_high/images/IMG_52.tiff', 'part_B_final/test_data_high/images/IMG_30.tiff', 'part_B_final/test_data_mids/images/IMG_118.tiff', 'part_B_final/test_data_mids/images/IMG_113.tiff', 'part_B_final/test_data_high/images/IMG_24.tiff', 'part_B_final/test_data_high/images/IMG_23.tiff', 'part_B_final/test_data_high/images/IMG_41.tiff', 'part_B_final/test_data_high/images/IMG_13.tiff', 'part_B_final/test_data_high/images/IMG_32.tiff', 'part_B_final/test_data_high/images/IMG_4.tiff', 'part_B_final/test_data_mids/images/IMG_91.tiff', 'part_B_final/test_data_high/images/IMG_51.tiff', 'part_B_final/test_data_mids/images/IMG_109.tiff', 'part_B_final/test_data_high/images/IMG_18.tiff', 'part_B_final/test_data_high/images/IMG_45.tiff', 'part_B_final/test_data_high/images/IMG_33.tiff', 'part_B_final/test_data_high/images/IMG_49.tiff', 'part_B_final/test_data_high/images/IMG_17.tiff', 'part_B_final/test_data_mids/images/IMG_102.tiff', 'part_B_final/test_data_high/images/IMG_47.tiff', 'part_B_final/test_data_high/images/IMG_1.tiff', 'part_B_final/test_data_high/images/IMG_8.tiff', 'part_B_final/test_data_high/images/IMG_19.tiff', 'part_B_final/test_data_high/images/IMG_15.tiff', 'part_B_final/test_data_high/images/IMG_46.tiff', 'part_B_final/test_data_high/images/IMG_22.tiff', 'part_B_final/test_data_high/images/IMG_14.tiff', 'part_B_final/test_data_high/images/IMG_5.tiff', 'part_B_final/test_data_high/images/IMG_25.tiff', 'part_B_final/test_data_high/images/IMG_44.tiff', 'part_B_final/test_data_high/images/IMG_26.tiff', 'part_B_final/test_data_high/images/IMG_29.tiff', 'part_B_final/test_data_mids/images/IMG_93.tiff', 'part_B_final/test_data_high/images/IMG_27.tiff', 'part_B_final/test_data_mids/images/IMG_97.tiff']"
      ],
      "execution_count": 0,
      "outputs": []
    },
    {
      "cell_type": "code",
      "metadata": {
        "id": "b0n6OD5XLrjq",
        "colab_type": "code",
        "colab": {}
      },
      "source": [
        "lower_training=[]\n",
        "mid_training =[]\n",
        "high_training =[]\n",
        "lower_testing =[]\n",
        "mid_testing =[]\n",
        "high_testing =[]\n",
        "\n",
        "\n",
        "#Give paths of lower_training images\n",
        "for i in range(low_train):\n",
        "  lower_training.append('part_B_final/train_data/images/IMG_'+str(i+1)+'.tiff')\n",
        "\n",
        "#for i in range(mid_train):\n",
        "  #mid_training.append('part_B_final/train_data/images/IMG_'+str(i+1)+'.tiff')\n",
        "\n",
        "###Similarly add other paths according to lower, mid, and high dataset , I am just showing the working of lower training dataset\n",
        "\n",
        "### I have done it separately, I have training images on separate folders"
      ],
      "execution_count": 0,
      "outputs": []
    },
    {
      "cell_type": "code",
      "metadata": {
        "id": "yuQEyGbtLtse",
        "colab_type": "code",
        "colab": {
          "base_uri": "https://localhost:8080/",
          "height": 54
        },
        "outputId": "8893b6e8-22d7-47ac-fb83-9a967d757d36"
      },
      "source": [
        "print(lower_training)"
      ],
      "execution_count": 11,
      "outputs": [
        {
          "output_type": "stream",
          "text": [
            "['part_B_final/train_data/images/IMG_1.tiff', 'part_B_final/train_data/images/IMG_2.tiff', 'part_B_final/train_data/images/IMG_3.tiff', 'part_B_final/train_data/images/IMG_4.tiff', 'part_B_final/train_data/images/IMG_5.tiff', 'part_B_final/train_data/images/IMG_6.tiff', 'part_B_final/train_data/images/IMG_7.tiff', 'part_B_final/train_data/images/IMG_8.tiff', 'part_B_final/train_data/images/IMG_9.tiff', 'part_B_final/train_data/images/IMG_10.tiff', 'part_B_final/train_data/images/IMG_11.tiff', 'part_B_final/train_data/images/IMG_12.tiff', 'part_B_final/train_data/images/IMG_13.tiff', 'part_B_final/train_data/images/IMG_14.tiff', 'part_B_final/train_data/images/IMG_15.tiff', 'part_B_final/train_data/images/IMG_16.tiff', 'part_B_final/train_data/images/IMG_17.tiff', 'part_B_final/train_data/images/IMG_18.tiff', 'part_B_final/train_data/images/IMG_19.tiff', 'part_B_final/train_data/images/IMG_20.tiff', 'part_B_final/train_data/images/IMG_21.tiff', 'part_B_final/train_data/images/IMG_22.tiff', 'part_B_final/train_data/images/IMG_23.tiff', 'part_B_final/train_data/images/IMG_24.tiff', 'part_B_final/train_data/images/IMG_25.tiff', 'part_B_final/train_data/images/IMG_26.tiff', 'part_B_final/train_data/images/IMG_27.tiff', 'part_B_final/train_data/images/IMG_28.tiff', 'part_B_final/train_data/images/IMG_29.tiff', 'part_B_final/train_data/images/IMG_30.tiff', 'part_B_final/train_data/images/IMG_31.tiff', 'part_B_final/train_data/images/IMG_32.tiff', 'part_B_final/train_data/images/IMG_33.tiff', 'part_B_final/train_data/images/IMG_34.tiff', 'part_B_final/train_data/images/IMG_35.tiff', 'part_B_final/train_data/images/IMG_36.tiff', 'part_B_final/train_data/images/IMG_37.tiff', 'part_B_final/train_data/images/IMG_38.tiff', 'part_B_final/train_data/images/IMG_39.tiff', 'part_B_final/train_data/images/IMG_40.tiff', 'part_B_final/train_data/images/IMG_41.tiff', 'part_B_final/train_data/images/IMG_42.tiff', 'part_B_final/train_data/images/IMG_43.tiff', 'part_B_final/train_data/images/IMG_44.tiff', 'part_B_final/train_data/images/IMG_45.tiff', 'part_B_final/train_data/images/IMG_46.tiff', 'part_B_final/train_data/images/IMG_47.tiff', 'part_B_final/train_data/images/IMG_48.tiff', 'part_B_final/train_data/images/IMG_49.tiff', 'part_B_final/train_data/images/IMG_50.tiff', 'part_B_final/train_data/images/IMG_51.tiff', 'part_B_final/train_data/images/IMG_52.tiff', 'part_B_final/train_data/images/IMG_53.tiff', 'part_B_final/train_data/images/IMG_54.tiff', 'part_B_final/train_data/images/IMG_55.tiff', 'part_B_final/train_data/images/IMG_56.tiff', 'part_B_final/train_data/images/IMG_57.tiff', 'part_B_final/train_data/images/IMG_58.tiff', 'part_B_final/train_data/images/IMG_59.tiff', 'part_B_final/train_data/images/IMG_60.tiff', 'part_B_final/train_data/images/IMG_61.tiff', 'part_B_final/train_data/images/IMG_62.tiff', 'part_B_final/train_data/images/IMG_63.tiff', 'part_B_final/train_data/images/IMG_64.tiff', 'part_B_final/train_data/images/IMG_65.tiff', 'part_B_final/train_data/images/IMG_66.tiff', 'part_B_final/train_data/images/IMG_67.tiff', 'part_B_final/train_data/images/IMG_68.tiff', 'part_B_final/train_data/images/IMG_69.tiff', 'part_B_final/train_data/images/IMG_70.tiff', 'part_B_final/train_data/images/IMG_71.tiff', 'part_B_final/train_data/images/IMG_72.tiff', 'part_B_final/train_data/images/IMG_73.tiff', 'part_B_final/train_data/images/IMG_74.tiff', 'part_B_final/train_data/images/IMG_75.tiff', 'part_B_final/train_data/images/IMG_76.tiff', 'part_B_final/train_data/images/IMG_77.tiff', 'part_B_final/train_data/images/IMG_78.tiff', 'part_B_final/train_data/images/IMG_79.tiff', 'part_B_final/train_data/images/IMG_80.tiff', 'part_B_final/train_data/images/IMG_81.tiff', 'part_B_final/train_data/images/IMG_82.tiff', 'part_B_final/train_data/images/IMG_83.tiff', 'part_B_final/train_data/images/IMG_84.tiff', 'part_B_final/train_data/images/IMG_85.tiff', 'part_B_final/train_data/images/IMG_86.tiff', 'part_B_final/train_data/images/IMG_87.tiff', 'part_B_final/train_data/images/IMG_88.tiff', 'part_B_final/train_data/images/IMG_89.tiff', 'part_B_final/train_data/images/IMG_90.tiff', 'part_B_final/train_data/images/IMG_91.tiff', 'part_B_final/train_data/images/IMG_92.tiff', 'part_B_final/train_data/images/IMG_93.tiff', 'part_B_final/train_data/images/IMG_94.tiff', 'part_B_final/train_data/images/IMG_95.tiff', 'part_B_final/train_data/images/IMG_96.tiff', 'part_B_final/train_data/images/IMG_97.tiff', 'part_B_final/train_data/images/IMG_98.tiff', 'part_B_final/train_data/images/IMG_99.tiff', 'part_B_final/train_data/images/IMG_100.tiff', 'part_B_final/train_data/images/IMG_101.tiff', 'part_B_final/train_data/images/IMG_102.tiff', 'part_B_final/train_data/images/IMG_103.tiff', 'part_B_final/train_data/images/IMG_104.tiff', 'part_B_final/train_data/images/IMG_105.tiff', 'part_B_final/train_data/images/IMG_106.tiff', 'part_B_final/train_data/images/IMG_107.tiff', 'part_B_final/train_data/images/IMG_108.tiff', 'part_B_final/train_data/images/IMG_109.tiff', 'part_B_final/train_data/images/IMG_110.tiff', 'part_B_final/train_data/images/IMG_111.tiff', 'part_B_final/train_data/images/IMG_112.tiff', 'part_B_final/train_data/images/IMG_113.tiff', 'part_B_final/train_data/images/IMG_114.tiff', 'part_B_final/train_data/images/IMG_115.tiff', 'part_B_final/train_data/images/IMG_116.tiff', 'part_B_final/train_data/images/IMG_117.tiff', 'part_B_final/train_data/images/IMG_118.tiff', 'part_B_final/train_data/images/IMG_119.tiff', 'part_B_final/train_data/images/IMG_120.tiff', 'part_B_final/train_data/images/IMG_121.tiff', 'part_B_final/train_data/images/IMG_122.tiff', 'part_B_final/train_data/images/IMG_123.tiff', 'part_B_final/train_data/images/IMG_124.tiff', 'part_B_final/train_data/images/IMG_125.tiff', 'part_B_final/train_data/images/IMG_126.tiff', 'part_B_final/train_data/images/IMG_127.tiff', 'part_B_final/train_data/images/IMG_128.tiff', 'part_B_final/train_data/images/IMG_129.tiff', 'part_B_final/train_data/images/IMG_130.tiff', 'part_B_final/train_data/images/IMG_131.tiff', 'part_B_final/train_data/images/IMG_132.tiff', 'part_B_final/train_data/images/IMG_133.tiff', 'part_B_final/train_data/images/IMG_134.tiff', 'part_B_final/train_data/images/IMG_135.tiff', 'part_B_final/train_data/images/IMG_136.tiff', 'part_B_final/train_data/images/IMG_137.tiff', 'part_B_final/train_data/images/IMG_138.tiff', 'part_B_final/train_data/images/IMG_139.tiff', 'part_B_final/train_data/images/IMG_140.tiff', 'part_B_final/train_data/images/IMG_141.tiff', 'part_B_final/train_data/images/IMG_142.tiff', 'part_B_final/train_data/images/IMG_143.tiff', 'part_B_final/train_data/images/IMG_144.tiff', 'part_B_final/train_data/images/IMG_145.tiff', 'part_B_final/train_data/images/IMG_146.tiff', 'part_B_final/train_data/images/IMG_147.tiff', 'part_B_final/train_data/images/IMG_148.tiff', 'part_B_final/train_data/images/IMG_149.tiff', 'part_B_final/train_data/images/IMG_150.tiff', 'part_B_final/train_data/images/IMG_151.tiff', 'part_B_final/train_data/images/IMG_152.tiff', 'part_B_final/train_data/images/IMG_153.tiff', 'part_B_final/train_data/images/IMG_154.tiff', 'part_B_final/train_data/images/IMG_155.tiff', 'part_B_final/train_data/images/IMG_156.tiff', 'part_B_final/train_data/images/IMG_157.tiff', 'part_B_final/train_data/images/IMG_158.tiff', 'part_B_final/train_data/images/IMG_159.tiff', 'part_B_final/train_data/images/IMG_160.tiff', 'part_B_final/train_data/images/IMG_161.tiff', 'part_B_final/train_data/images/IMG_162.tiff', 'part_B_final/train_data/images/IMG_163.tiff', 'part_B_final/train_data/images/IMG_164.tiff', 'part_B_final/train_data/images/IMG_165.tiff', 'part_B_final/train_data/images/IMG_166.tiff', 'part_B_final/train_data/images/IMG_167.tiff', 'part_B_final/train_data/images/IMG_168.tiff', 'part_B_final/train_data/images/IMG_169.tiff', 'part_B_final/train_data/images/IMG_170.tiff', 'part_B_final/train_data/images/IMG_171.tiff', 'part_B_final/train_data/images/IMG_172.tiff', 'part_B_final/train_data/images/IMG_173.tiff', 'part_B_final/train_data/images/IMG_174.tiff', 'part_B_final/train_data/images/IMG_175.tiff', 'part_B_final/train_data/images/IMG_176.tiff', 'part_B_final/train_data/images/IMG_177.tiff', 'part_B_final/train_data/images/IMG_178.tiff', 'part_B_final/train_data/images/IMG_179.tiff', 'part_B_final/train_data/images/IMG_180.tiff', 'part_B_final/train_data/images/IMG_181.tiff', 'part_B_final/train_data/images/IMG_182.tiff', 'part_B_final/train_data/images/IMG_183.tiff', 'part_B_final/train_data/images/IMG_184.tiff', 'part_B_final/train_data/images/IMG_185.tiff', 'part_B_final/train_data/images/IMG_186.tiff', 'part_B_final/train_data/images/IMG_187.tiff', 'part_B_final/train_data/images/IMG_188.tiff', 'part_B_final/train_data/images/IMG_189.tiff', 'part_B_final/train_data/images/IMG_190.tiff', 'part_B_final/train_data/images/IMG_191.tiff', 'part_B_final/train_data/images/IMG_192.tiff', 'part_B_final/train_data/images/IMG_193.tiff', 'part_B_final/train_data/images/IMG_194.tiff', 'part_B_final/train_data/images/IMG_195.tiff', 'part_B_final/train_data/images/IMG_196.tiff', 'part_B_final/train_data/images/IMG_197.tiff', 'part_B_final/train_data/images/IMG_198.tiff', 'part_B_final/train_data/images/IMG_199.tiff', 'part_B_final/train_data/images/IMG_200.tiff', 'part_B_final/train_data/images/IMG_201.tiff', 'part_B_final/train_data/images/IMG_202.tiff', 'part_B_final/train_data/images/IMG_203.tiff', 'part_B_final/train_data/images/IMG_204.tiff', 'part_B_final/train_data/images/IMG_205.tiff', 'part_B_final/train_data/images/IMG_206.tiff', 'part_B_final/train_data/images/IMG_207.tiff', 'part_B_final/train_data/images/IMG_208.tiff', 'part_B_final/train_data/images/IMG_209.tiff', 'part_B_final/train_data/images/IMG_210.tiff', 'part_B_final/train_data/images/IMG_211.tiff', 'part_B_final/train_data/images/IMG_212.tiff', 'part_B_final/train_data/images/IMG_213.tiff', 'part_B_final/train_data/images/IMG_214.tiff', 'part_B_final/train_data/images/IMG_215.tiff', 'part_B_final/train_data/images/IMG_216.tiff', 'part_B_final/train_data/images/IMG_217.tiff', 'part_B_final/train_data/images/IMG_218.tiff', 'part_B_final/train_data/images/IMG_219.tiff', 'part_B_final/train_data/images/IMG_220.tiff', 'part_B_final/train_data/images/IMG_221.tiff', 'part_B_final/train_data/images/IMG_222.tiff', 'part_B_final/train_data/images/IMG_223.tiff', 'part_B_final/train_data/images/IMG_224.tiff', 'part_B_final/train_data/images/IMG_225.tiff', 'part_B_final/train_data/images/IMG_226.tiff', 'part_B_final/train_data/images/IMG_227.tiff', 'part_B_final/train_data/images/IMG_228.tiff', 'part_B_final/train_data/images/IMG_229.tiff', 'part_B_final/train_data/images/IMG_230.tiff', 'part_B_final/train_data/images/IMG_231.tiff', 'part_B_final/train_data/images/IMG_232.tiff', 'part_B_final/train_data/images/IMG_233.tiff', 'part_B_final/train_data/images/IMG_234.tiff', 'part_B_final/train_data/images/IMG_235.tiff', 'part_B_final/train_data/images/IMG_236.tiff', 'part_B_final/train_data/images/IMG_237.tiff', 'part_B_final/train_data/images/IMG_238.tiff', 'part_B_final/train_data/images/IMG_239.tiff', 'part_B_final/train_data/images/IMG_240.tiff', 'part_B_final/train_data/images/IMG_241.tiff', 'part_B_final/train_data/images/IMG_242.tiff', 'part_B_final/train_data/images/IMG_243.tiff', 'part_B_final/train_data/images/IMG_244.tiff', 'part_B_final/train_data/images/IMG_245.tiff', 'part_B_final/train_data/images/IMG_246.tiff', 'part_B_final/train_data/images/IMG_247.tiff', 'part_B_final/train_data/images/IMG_248.tiff', 'part_B_final/train_data/images/IMG_249.tiff', 'part_B_final/train_data/images/IMG_250.tiff', 'part_B_final/train_data/images/IMG_251.tiff', 'part_B_final/train_data/images/IMG_252.tiff', 'part_B_final/train_data/images/IMG_253.tiff', 'part_B_final/train_data/images/IMG_254.tiff', 'part_B_final/train_data/images/IMG_255.tiff', 'part_B_final/train_data/images/IMG_256.tiff', 'part_B_final/train_data/images/IMG_257.tiff', 'part_B_final/train_data/images/IMG_258.tiff', 'part_B_final/train_data/images/IMG_259.tiff', 'part_B_final/train_data/images/IMG_260.tiff', 'part_B_final/train_data/images/IMG_261.tiff', 'part_B_final/train_data/images/IMG_262.tiff', 'part_B_final/train_data/images/IMG_263.tiff', 'part_B_final/train_data/images/IMG_264.tiff', 'part_B_final/train_data/images/IMG_265.tiff', 'part_B_final/train_data/images/IMG_266.tiff', 'part_B_final/train_data/images/IMG_267.tiff', 'part_B_final/train_data/images/IMG_268.tiff', 'part_B_final/train_data/images/IMG_269.tiff', 'part_B_final/train_data/images/IMG_270.tiff', 'part_B_final/train_data/images/IMG_271.tiff', 'part_B_final/train_data/images/IMG_272.tiff', 'part_B_final/train_data/images/IMG_273.tiff', 'part_B_final/train_data/images/IMG_274.tiff', 'part_B_final/train_data/images/IMG_275.tiff', 'part_B_final/train_data/images/IMG_276.tiff', 'part_B_final/train_data/images/IMG_277.tiff', 'part_B_final/train_data/images/IMG_278.tiff', 'part_B_final/train_data/images/IMG_279.tiff', 'part_B_final/train_data/images/IMG_280.tiff', 'part_B_final/train_data/images/IMG_281.tiff', 'part_B_final/train_data/images/IMG_282.tiff', 'part_B_final/train_data/images/IMG_283.tiff', 'part_B_final/train_data/images/IMG_284.tiff', 'part_B_final/train_data/images/IMG_285.tiff', 'part_B_final/train_data/images/IMG_286.tiff', 'part_B_final/train_data/images/IMG_287.tiff', 'part_B_final/train_data/images/IMG_288.tiff', 'part_B_final/train_data/images/IMG_289.tiff', 'part_B_final/train_data/images/IMG_290.tiff', 'part_B_final/train_data/images/IMG_291.tiff', 'part_B_final/train_data/images/IMG_292.tiff', 'part_B_final/train_data/images/IMG_293.tiff', 'part_B_final/train_data/images/IMG_294.tiff', 'part_B_final/train_data/images/IMG_295.tiff', 'part_B_final/train_data/images/IMG_296.tiff', 'part_B_final/train_data/images/IMG_297.tiff', 'part_B_final/train_data/images/IMG_298.tiff', 'part_B_final/train_data/images/IMG_299.tiff', 'part_B_final/train_data/images/IMG_300.tiff', 'part_B_final/train_data/images/IMG_301.tiff', 'part_B_final/train_data/images/IMG_302.tiff', 'part_B_final/train_data/images/IMG_303.tiff', 'part_B_final/train_data/images/IMG_304.tiff', 'part_B_final/train_data/images/IMG_305.tiff', 'part_B_final/train_data/images/IMG_306.tiff', 'part_B_final/train_data/images/IMG_307.tiff', 'part_B_final/train_data/images/IMG_308.tiff', 'part_B_final/train_data/images/IMG_309.tiff', 'part_B_final/train_data/images/IMG_310.tiff', 'part_B_final/train_data/images/IMG_311.tiff', 'part_B_final/train_data/images/IMG_312.tiff', 'part_B_final/train_data/images/IMG_313.tiff', 'part_B_final/train_data/images/IMG_314.tiff', 'part_B_final/train_data/images/IMG_315.tiff', 'part_B_final/train_data/images/IMG_316.tiff', 'part_B_final/train_data/images/IMG_317.tiff', 'part_B_final/train_data/images/IMG_318.tiff', 'part_B_final/train_data/images/IMG_319.tiff', 'part_B_final/train_data/images/IMG_320.tiff', 'part_B_final/train_data/images/IMG_321.tiff', 'part_B_final/train_data/images/IMG_322.tiff', 'part_B_final/train_data/images/IMG_323.tiff', 'part_B_final/train_data/images/IMG_324.tiff', 'part_B_final/train_data/images/IMG_325.tiff', 'part_B_final/train_data/images/IMG_326.tiff', 'part_B_final/train_data/images/IMG_327.tiff', 'part_B_final/train_data/images/IMG_328.tiff', 'part_B_final/train_data/images/IMG_329.tiff', 'part_B_final/train_data/images/IMG_330.tiff', 'part_B_final/train_data/images/IMG_331.tiff', 'part_B_final/train_data/images/IMG_332.tiff', 'part_B_final/train_data/images/IMG_333.tiff', 'part_B_final/train_data/images/IMG_334.tiff', 'part_B_final/train_data/images/IMG_335.tiff', 'part_B_final/train_data/images/IMG_336.tiff', 'part_B_final/train_data/images/IMG_337.tiff', 'part_B_final/train_data/images/IMG_338.tiff', 'part_B_final/train_data/images/IMG_339.tiff', 'part_B_final/train_data/images/IMG_340.tiff', 'part_B_final/train_data/images/IMG_341.tiff', 'part_B_final/train_data/images/IMG_342.tiff', 'part_B_final/train_data/images/IMG_343.tiff', 'part_B_final/train_data/images/IMG_344.tiff', 'part_B_final/train_data/images/IMG_345.tiff', 'part_B_final/train_data/images/IMG_346.tiff', 'part_B_final/train_data/images/IMG_347.tiff', 'part_B_final/train_data/images/IMG_348.tiff', 'part_B_final/train_data/images/IMG_349.tiff', 'part_B_final/train_data/images/IMG_350.tiff', 'part_B_final/train_data/images/IMG_351.tiff', 'part_B_final/train_data/images/IMG_352.tiff', 'part_B_final/train_data/images/IMG_353.tiff', 'part_B_final/train_data/images/IMG_354.tiff', 'part_B_final/train_data/images/IMG_355.tiff', 'part_B_final/train_data/images/IMG_356.tiff', 'part_B_final/train_data/images/IMG_357.tiff', 'part_B_final/train_data/images/IMG_358.tiff', 'part_B_final/train_data/images/IMG_359.tiff', 'part_B_final/train_data/images/IMG_360.tiff', 'part_B_final/train_data/images/IMG_361.tiff', 'part_B_final/train_data/images/IMG_362.tiff', 'part_B_final/train_data/images/IMG_363.tiff', 'part_B_final/train_data/images/IMG_364.tiff', 'part_B_final/train_data/images/IMG_365.tiff', 'part_B_final/train_data/images/IMG_366.tiff', 'part_B_final/train_data/images/IMG_367.tiff', 'part_B_final/train_data/images/IMG_368.tiff', 'part_B_final/train_data/images/IMG_369.tiff', 'part_B_final/train_data/images/IMG_370.tiff', 'part_B_final/train_data/images/IMG_371.tiff', 'part_B_final/train_data/images/IMG_372.tiff', 'part_B_final/train_data/images/IMG_373.tiff', 'part_B_final/train_data/images/IMG_374.tiff', 'part_B_final/train_data/images/IMG_375.tiff', 'part_B_final/train_data/images/IMG_376.tiff', 'part_B_final/train_data/images/IMG_377.tiff', 'part_B_final/train_data/images/IMG_378.tiff', 'part_B_final/train_data/images/IMG_379.tiff', 'part_B_final/train_data/images/IMG_380.tiff', 'part_B_final/train_data/images/IMG_381.tiff', 'part_B_final/train_data/images/IMG_382.tiff', 'part_B_final/train_data/images/IMG_383.tiff', 'part_B_final/train_data/images/IMG_384.tiff', 'part_B_final/train_data/images/IMG_385.tiff', 'part_B_final/train_data/images/IMG_386.tiff', 'part_B_final/train_data/images/IMG_387.tiff', 'part_B_final/train_data/images/IMG_388.tiff', 'part_B_final/train_data/images/IMG_389.tiff', 'part_B_final/train_data/images/IMG_390.tiff', 'part_B_final/train_data/images/IMG_391.tiff', 'part_B_final/train_data/images/IMG_392.tiff', 'part_B_final/train_data/images/IMG_393.tiff', 'part_B_final/train_data/images/IMG_394.tiff', 'part_B_final/train_data/images/IMG_395.tiff', 'part_B_final/train_data/images/IMG_396.tiff', 'part_B_final/train_data/images/IMG_397.tiff', 'part_B_final/train_data/images/IMG_398.tiff', 'part_B_final/train_data/images/IMG_399.tiff', 'part_B_final/train_data/images/IMG_400.tiff', 'part_B_final/train_data/images/IMG_401.tiff', 'part_B_final/train_data/images/IMG_402.tiff', 'part_B_final/train_data/images/IMG_403.tiff', 'part_B_final/train_data/images/IMG_404.tiff', 'part_B_final/train_data/images/IMG_405.tiff', 'part_B_final/train_data/images/IMG_406.tiff', 'part_B_final/train_data/images/IMG_407.tiff', 'part_B_final/train_data/images/IMG_408.tiff', 'part_B_final/train_data/images/IMG_409.tiff', 'part_B_final/train_data/images/IMG_410.tiff', 'part_B_final/train_data/images/IMG_411.tiff', 'part_B_final/train_data/images/IMG_412.tiff', 'part_B_final/train_data/images/IMG_413.tiff', 'part_B_final/train_data/images/IMG_414.tiff', 'part_B_final/train_data/images/IMG_415.tiff', 'part_B_final/train_data/images/IMG_416.tiff', 'part_B_final/train_data/images/IMG_417.tiff', 'part_B_final/train_data/images/IMG_418.tiff', 'part_B_final/train_data/images/IMG_419.tiff', 'part_B_final/train_data/images/IMG_420.tiff', 'part_B_final/train_data/images/IMG_421.tiff', 'part_B_final/train_data/images/IMG_422.tiff', 'part_B_final/train_data/images/IMG_423.tiff', 'part_B_final/train_data/images/IMG_424.tiff', 'part_B_final/train_data/images/IMG_425.tiff', 'part_B_final/train_data/images/IMG_426.tiff', 'part_B_final/train_data/images/IMG_427.tiff', 'part_B_final/train_data/images/IMG_428.tiff', 'part_B_final/train_data/images/IMG_429.tiff', 'part_B_final/train_data/images/IMG_430.tiff', 'part_B_final/train_data/images/IMG_431.tiff', 'part_B_final/train_data/images/IMG_432.tiff', 'part_B_final/train_data/images/IMG_433.tiff', 'part_B_final/train_data/images/IMG_434.tiff', 'part_B_final/train_data/images/IMG_435.tiff', 'part_B_final/train_data/images/IMG_436.tiff', 'part_B_final/train_data/images/IMG_437.tiff', 'part_B_final/train_data/images/IMG_438.tiff', 'part_B_final/train_data/images/IMG_439.tiff', 'part_B_final/train_data/images/IMG_440.tiff', 'part_B_final/train_data/images/IMG_441.tiff', 'part_B_final/train_data/images/IMG_442.tiff', 'part_B_final/train_data/images/IMG_443.tiff', 'part_B_final/train_data/images/IMG_444.tiff', 'part_B_final/train_data/images/IMG_445.tiff', 'part_B_final/train_data/images/IMG_446.tiff', 'part_B_final/train_data/images/IMG_447.tiff', 'part_B_final/train_data/images/IMG_448.tiff', 'part_B_final/train_data/images/IMG_449.tiff', 'part_B_final/train_data/images/IMG_450.tiff', 'part_B_final/train_data/images/IMG_451.tiff', 'part_B_final/train_data/images/IMG_452.tiff', 'part_B_final/train_data/images/IMG_453.tiff', 'part_B_final/train_data/images/IMG_454.tiff', 'part_B_final/train_data/images/IMG_455.tiff', 'part_B_final/train_data/images/IMG_456.tiff', 'part_B_final/train_data/images/IMG_457.tiff', 'part_B_final/train_data/images/IMG_458.tiff', 'part_B_final/train_data/images/IMG_459.tiff', 'part_B_final/train_data/images/IMG_460.tiff', 'part_B_final/train_data/images/IMG_461.tiff', 'part_B_final/train_data/images/IMG_462.tiff', 'part_B_final/train_data/images/IMG_463.tiff', 'part_B_final/train_data/images/IMG_464.tiff', 'part_B_final/train_data/images/IMG_465.tiff', 'part_B_final/train_data/images/IMG_466.tiff', 'part_B_final/train_data/images/IMG_467.tiff', 'part_B_final/train_data/images/IMG_468.tiff', 'part_B_final/train_data/images/IMG_469.tiff', 'part_B_final/train_data/images/IMG_470.tiff', 'part_B_final/train_data/images/IMG_471.tiff', 'part_B_final/train_data/images/IMG_472.tiff', 'part_B_final/train_data/images/IMG_473.tiff', 'part_B_final/train_data/images/IMG_474.tiff', 'part_B_final/train_data/images/IMG_475.tiff', 'part_B_final/train_data/images/IMG_476.tiff', 'part_B_final/train_data/images/IMG_477.tiff', 'part_B_final/train_data/images/IMG_478.tiff', 'part_B_final/train_data/images/IMG_479.tiff', 'part_B_final/train_data/images/IMG_480.tiff', 'part_B_final/train_data/images/IMG_481.tiff', 'part_B_final/train_data/images/IMG_482.tiff', 'part_B_final/train_data/images/IMG_483.tiff', 'part_B_final/train_data/images/IMG_484.tiff', 'part_B_final/train_data/images/IMG_485.tiff', 'part_B_final/train_data/images/IMG_486.tiff', 'part_B_final/train_data/images/IMG_487.tiff', 'part_B_final/train_data/images/IMG_488.tiff', 'part_B_final/train_data/images/IMG_489.tiff', 'part_B_final/train_data/images/IMG_490.tiff', 'part_B_final/train_data/images/IMG_491.tiff', 'part_B_final/train_data/images/IMG_492.tiff', 'part_B_final/train_data/images/IMG_493.tiff', 'part_B_final/train_data/images/IMG_494.tiff', 'part_B_final/train_data/images/IMG_495.tiff', 'part_B_final/train_data/images/IMG_496.tiff', 'part_B_final/train_data/images/IMG_497.tiff', 'part_B_final/train_data/images/IMG_498.tiff', 'part_B_final/train_data/images/IMG_499.tiff', 'part_B_final/train_data/images/IMG_500.tiff', 'part_B_final/train_data/images/IMG_501.tiff', 'part_B_final/train_data/images/IMG_502.tiff', 'part_B_final/train_data/images/IMG_503.tiff', 'part_B_final/train_data/images/IMG_504.tiff', 'part_B_final/train_data/images/IMG_505.tiff', 'part_B_final/train_data/images/IMG_506.tiff', 'part_B_final/train_data/images/IMG_507.tiff', 'part_B_final/train_data/images/IMG_508.tiff', 'part_B_final/train_data/images/IMG_509.tiff', 'part_B_final/train_data/images/IMG_510.tiff', 'part_B_final/train_data/images/IMG_511.tiff', 'part_B_final/train_data/images/IMG_512.tiff', 'part_B_final/train_data/images/IMG_513.tiff', 'part_B_final/train_data/images/IMG_514.tiff', 'part_B_final/train_data/images/IMG_515.tiff', 'part_B_final/train_data/images/IMG_516.tiff', 'part_B_final/train_data/images/IMG_517.tiff', 'part_B_final/train_data/images/IMG_518.tiff', 'part_B_final/train_data/images/IMG_519.tiff', 'part_B_final/train_data/images/IMG_520.tiff', 'part_B_final/train_data/images/IMG_521.tiff', 'part_B_final/train_data/images/IMG_522.tiff', 'part_B_final/train_data/images/IMG_523.tiff', 'part_B_final/train_data/images/IMG_524.tiff', 'part_B_final/train_data/images/IMG_525.tiff', 'part_B_final/train_data/images/IMG_526.tiff', 'part_B_final/train_data/images/IMG_527.tiff', 'part_B_final/train_data/images/IMG_528.tiff', 'part_B_final/train_data/images/IMG_529.tiff', 'part_B_final/train_data/images/IMG_530.tiff', 'part_B_final/train_data/images/IMG_531.tiff', 'part_B_final/train_data/images/IMG_532.tiff', 'part_B_final/train_data/images/IMG_533.tiff', 'part_B_final/train_data/images/IMG_534.tiff', 'part_B_final/train_data/images/IMG_535.tiff', 'part_B_final/train_data/images/IMG_536.tiff', 'part_B_final/train_data/images/IMG_537.tiff', 'part_B_final/train_data/images/IMG_538.tiff', 'part_B_final/train_data/images/IMG_539.tiff', 'part_B_final/train_data/images/IMG_540.tiff', 'part_B_final/train_data/images/IMG_541.tiff', 'part_B_final/train_data/images/IMG_542.tiff', 'part_B_final/train_data/images/IMG_543.tiff', 'part_B_final/train_data/images/IMG_544.tiff', 'part_B_final/train_data/images/IMG_545.tiff', 'part_B_final/train_data/images/IMG_546.tiff', 'part_B_final/train_data/images/IMG_547.tiff', 'part_B_final/train_data/images/IMG_548.tiff', 'part_B_final/train_data/images/IMG_549.tiff', 'part_B_final/train_data/images/IMG_550.tiff', 'part_B_final/train_data/images/IMG_551.tiff', 'part_B_final/train_data/images/IMG_552.tiff', 'part_B_final/train_data/images/IMG_553.tiff', 'part_B_final/train_data/images/IMG_554.tiff', 'part_B_final/train_data/images/IMG_555.tiff', 'part_B_final/train_data/images/IMG_556.tiff', 'part_B_final/train_data/images/IMG_557.tiff', 'part_B_final/train_data/images/IMG_558.tiff', 'part_B_final/train_data/images/IMG_559.tiff', 'part_B_final/train_data/images/IMG_560.tiff', 'part_B_final/train_data/images/IMG_561.tiff', 'part_B_final/train_data/images/IMG_562.tiff', 'part_B_final/train_data/images/IMG_563.tiff', 'part_B_final/train_data/images/IMG_564.tiff', 'part_B_final/train_data/images/IMG_565.tiff', 'part_B_final/train_data/images/IMG_566.tiff', 'part_B_final/train_data/images/IMG_567.tiff', 'part_B_final/train_data/images/IMG_568.tiff', 'part_B_final/train_data/images/IMG_569.tiff', 'part_B_final/train_data/images/IMG_570.tiff', 'part_B_final/train_data/images/IMG_571.tiff', 'part_B_final/train_data/images/IMG_572.tiff', 'part_B_final/train_data/images/IMG_573.tiff', 'part_B_final/train_data/images/IMG_574.tiff', 'part_B_final/train_data/images/IMG_575.tiff', 'part_B_final/train_data/images/IMG_576.tiff', 'part_B_final/train_data/images/IMG_577.tiff', 'part_B_final/train_data/images/IMG_578.tiff', 'part_B_final/train_data/images/IMG_579.tiff', 'part_B_final/train_data/images/IMG_580.tiff', 'part_B_final/train_data/images/IMG_581.tiff', 'part_B_final/train_data/images/IMG_582.tiff', 'part_B_final/train_data/images/IMG_583.tiff', 'part_B_final/train_data/images/IMG_584.tiff', 'part_B_final/train_data/images/IMG_585.tiff', 'part_B_final/train_data/images/IMG_586.tiff', 'part_B_final/train_data/images/IMG_587.tiff', 'part_B_final/train_data/images/IMG_588.tiff', 'part_B_final/train_data/images/IMG_589.tiff', 'part_B_final/train_data/images/IMG_590.tiff', 'part_B_final/train_data/images/IMG_591.tiff', 'part_B_final/train_data/images/IMG_592.tiff', 'part_B_final/train_data/images/IMG_593.tiff', 'part_B_final/train_data/images/IMG_594.tiff', 'part_B_final/train_data/images/IMG_595.tiff', 'part_B_final/train_data/images/IMG_596.tiff', 'part_B_final/train_data/images/IMG_597.tiff', 'part_B_final/train_data/images/IMG_598.tiff', 'part_B_final/train_data/images/IMG_599.tiff', 'part_B_final/train_data/images/IMG_600.tiff', 'part_B_final/train_data/images/IMG_601.tiff', 'part_B_final/train_data/images/IMG_602.tiff', 'part_B_final/train_data/images/IMG_603.tiff', 'part_B_final/train_data/images/IMG_604.tiff', 'part_B_final/train_data/images/IMG_605.tiff', 'part_B_final/train_data/images/IMG_606.tiff', 'part_B_final/train_data/images/IMG_607.tiff', 'part_B_final/train_data/images/IMG_608.tiff', 'part_B_final/train_data/images/IMG_609.tiff', 'part_B_final/train_data/images/IMG_610.tiff', 'part_B_final/train_data/images/IMG_611.tiff', 'part_B_final/train_data/images/IMG_612.tiff', 'part_B_final/train_data/images/IMG_613.tiff', 'part_B_final/train_data/images/IMG_614.tiff', 'part_B_final/train_data/images/IMG_615.tiff', 'part_B_final/train_data/images/IMG_616.tiff', 'part_B_final/train_data/images/IMG_617.tiff', 'part_B_final/train_data/images/IMG_618.tiff', 'part_B_final/train_data/images/IMG_619.tiff', 'part_B_final/train_data/images/IMG_620.tiff', 'part_B_final/train_data/images/IMG_621.tiff', 'part_B_final/train_data/images/IMG_622.tiff', 'part_B_final/train_data/images/IMG_623.tiff', 'part_B_final/train_data/images/IMG_624.tiff', 'part_B_final/train_data/images/IMG_625.tiff', 'part_B_final/train_data/images/IMG_626.tiff', 'part_B_final/train_data/images/IMG_627.tiff', 'part_B_final/train_data/images/IMG_628.tiff', 'part_B_final/train_data/images/IMG_629.tiff', 'part_B_final/train_data/images/IMG_630.tiff', 'part_B_final/train_data/images/IMG_631.tiff', 'part_B_final/train_data/images/IMG_632.tiff', 'part_B_final/train_data/images/IMG_633.tiff', 'part_B_final/train_data/images/IMG_634.tiff', 'part_B_final/train_data/images/IMG_635.tiff', 'part_B_final/train_data/images/IMG_636.tiff', 'part_B_final/train_data/images/IMG_637.tiff', 'part_B_final/train_data/images/IMG_638.tiff', 'part_B_final/train_data/images/IMG_639.tiff', 'part_B_final/train_data/images/IMG_640.tiff', 'part_B_final/train_data/images/IMG_641.tiff', 'part_B_final/train_data/images/IMG_642.tiff', 'part_B_final/train_data/images/IMG_643.tiff', 'part_B_final/train_data/images/IMG_644.tiff', 'part_B_final/train_data/images/IMG_645.tiff', 'part_B_final/train_data/images/IMG_646.tiff', 'part_B_final/train_data/images/IMG_647.tiff', 'part_B_final/train_data/images/IMG_648.tiff', 'part_B_final/train_data/images/IMG_649.tiff', 'part_B_final/train_data/images/IMG_650.tiff', 'part_B_final/train_data/images/IMG_651.tiff', 'part_B_final/train_data/images/IMG_652.tiff', 'part_B_final/train_data/images/IMG_653.tiff', 'part_B_final/train_data/images/IMG_654.tiff', 'part_B_final/train_data/images/IMG_655.tiff', 'part_B_final/train_data/images/IMG_656.tiff', 'part_B_final/train_data/images/IMG_657.tiff', 'part_B_final/train_data/images/IMG_658.tiff', 'part_B_final/train_data/images/IMG_659.tiff', 'part_B_final/train_data/images/IMG_660.tiff', 'part_B_final/train_data/images/IMG_661.tiff', 'part_B_final/train_data/images/IMG_662.tiff', 'part_B_final/train_data/images/IMG_663.tiff', 'part_B_final/train_data/images/IMG_664.tiff', 'part_B_final/train_data/images/IMG_665.tiff', 'part_B_final/train_data/images/IMG_666.tiff', 'part_B_final/train_data/images/IMG_667.tiff', 'part_B_final/train_data/images/IMG_668.tiff', 'part_B_final/train_data/images/IMG_669.tiff', 'part_B_final/train_data/images/IMG_670.tiff', 'part_B_final/train_data/images/IMG_671.tiff', 'part_B_final/train_data/images/IMG_672.tiff', 'part_B_final/train_data/images/IMG_673.tiff', 'part_B_final/train_data/images/IMG_674.tiff', 'part_B_final/train_data/images/IMG_675.tiff', 'part_B_final/train_data/images/IMG_676.tiff', 'part_B_final/train_data/images/IMG_677.tiff', 'part_B_final/train_data/images/IMG_678.tiff', 'part_B_final/train_data/images/IMG_679.tiff', 'part_B_final/train_data/images/IMG_680.tiff', 'part_B_final/train_data/images/IMG_681.tiff', 'part_B_final/train_data/images/IMG_682.tiff', 'part_B_final/train_data/images/IMG_683.tiff', 'part_B_final/train_data/images/IMG_684.tiff', 'part_B_final/train_data/images/IMG_685.tiff', 'part_B_final/train_data/images/IMG_686.tiff', 'part_B_final/train_data/images/IMG_687.tiff', 'part_B_final/train_data/images/IMG_688.tiff', 'part_B_final/train_data/images/IMG_689.tiff', 'part_B_final/train_data/images/IMG_690.tiff', 'part_B_final/train_data/images/IMG_691.tiff', 'part_B_final/train_data/images/IMG_692.tiff', 'part_B_final/train_data/images/IMG_693.tiff', 'part_B_final/train_data/images/IMG_694.tiff', 'part_B_final/train_data/images/IMG_695.tiff', 'part_B_final/train_data/images/IMG_696.tiff', 'part_B_final/train_data/images/IMG_697.tiff', 'part_B_final/train_data/images/IMG_698.tiff', 'part_B_final/train_data/images/IMG_699.tiff', 'part_B_final/train_data/images/IMG_700.tiff', 'part_B_final/train_data/images/IMG_701.tiff', 'part_B_final/train_data/images/IMG_702.tiff', 'part_B_final/train_data/images/IMG_703.tiff', 'part_B_final/train_data/images/IMG_704.tiff', 'part_B_final/train_data/images/IMG_705.tiff', 'part_B_final/train_data/images/IMG_706.tiff', 'part_B_final/train_data/images/IMG_707.tiff', 'part_B_final/train_data/images/IMG_708.tiff', 'part_B_final/train_data/images/IMG_709.tiff', 'part_B_final/train_data/images/IMG_710.tiff', 'part_B_final/train_data/images/IMG_711.tiff', 'part_B_final/train_data/images/IMG_712.tiff', 'part_B_final/train_data/images/IMG_713.tiff', 'part_B_final/train_data/images/IMG_714.tiff', 'part_B_final/train_data/images/IMG_715.tiff', 'part_B_final/train_data/images/IMG_716.tiff', 'part_B_final/train_data/images/IMG_717.tiff', 'part_B_final/train_data/images/IMG_718.tiff', 'part_B_final/train_data/images/IMG_719.tiff', 'part_B_final/train_data/images/IMG_720.tiff', 'part_B_final/train_data/images/IMG_721.tiff', 'part_B_final/train_data/images/IMG_722.tiff', 'part_B_final/train_data/images/IMG_723.tiff', 'part_B_final/train_data/images/IMG_724.tiff', 'part_B_final/train_data/images/IMG_725.tiff', 'part_B_final/train_data/images/IMG_726.tiff', 'part_B_final/train_data/images/IMG_727.tiff', 'part_B_final/train_data/images/IMG_728.tiff', 'part_B_final/train_data/images/IMG_729.tiff', 'part_B_final/train_data/images/IMG_730.tiff', 'part_B_final/train_data/images/IMG_731.tiff', 'part_B_final/train_data/images/IMG_732.tiff', 'part_B_final/train_data/images/IMG_733.tiff', 'part_B_final/train_data/images/IMG_734.tiff', 'part_B_final/train_data/images/IMG_735.tiff', 'part_B_final/train_data/images/IMG_736.tiff', 'part_B_final/train_data/images/IMG_737.tiff', 'part_B_final/train_data/images/IMG_738.tiff', 'part_B_final/train_data/images/IMG_739.tiff', 'part_B_final/train_data/images/IMG_740.tiff', 'part_B_final/train_data/images/IMG_741.tiff', 'part_B_final/train_data/images/IMG_742.tiff', 'part_B_final/train_data/images/IMG_743.tiff', 'part_B_final/train_data/images/IMG_744.tiff', 'part_B_final/train_data/images/IMG_745.tiff', 'part_B_final/train_data/images/IMG_746.tiff', 'part_B_final/train_data/images/IMG_747.tiff', 'part_B_final/train_data/images/IMG_748.tiff', 'part_B_final/train_data/images/IMG_749.tiff', 'part_B_final/train_data/images/IMG_750.tiff', 'part_B_final/train_data/images/IMG_751.tiff', 'part_B_final/train_data/images/IMG_752.tiff', 'part_B_final/train_data/images/IMG_753.tiff', 'part_B_final/train_data/images/IMG_754.tiff', 'part_B_final/train_data/images/IMG_755.tiff', 'part_B_final/train_data/images/IMG_756.tiff', 'part_B_final/train_data/images/IMG_757.tiff', 'part_B_final/train_data/images/IMG_758.tiff', 'part_B_final/train_data/images/IMG_759.tiff', 'part_B_final/train_data/images/IMG_760.tiff', 'part_B_final/train_data/images/IMG_761.tiff', 'part_B_final/train_data/images/IMG_762.tiff', 'part_B_final/train_data/images/IMG_763.tiff', 'part_B_final/train_data/images/IMG_764.tiff', 'part_B_final/train_data/images/IMG_765.tiff', 'part_B_final/train_data/images/IMG_766.tiff', 'part_B_final/train_data/images/IMG_767.tiff', 'part_B_final/train_data/images/IMG_768.tiff', 'part_B_final/train_data/images/IMG_769.tiff', 'part_B_final/train_data/images/IMG_770.tiff', 'part_B_final/train_data/images/IMG_771.tiff', 'part_B_final/train_data/images/IMG_772.tiff', 'part_B_final/train_data/images/IMG_773.tiff', 'part_B_final/train_data/images/IMG_774.tiff', 'part_B_final/train_data/images/IMG_775.tiff', 'part_B_final/train_data/images/IMG_776.tiff', 'part_B_final/train_data/images/IMG_777.tiff', 'part_B_final/train_data/images/IMG_778.tiff', 'part_B_final/train_data/images/IMG_779.tiff', 'part_B_final/train_data/images/IMG_780.tiff', 'part_B_final/train_data/images/IMG_781.tiff', 'part_B_final/train_data/images/IMG_782.tiff', 'part_B_final/train_data/images/IMG_783.tiff', 'part_B_final/train_data/images/IMG_784.tiff', 'part_B_final/train_data/images/IMG_785.tiff', 'part_B_final/train_data/images/IMG_786.tiff', 'part_B_final/train_data/images/IMG_787.tiff', 'part_B_final/train_data/images/IMG_788.tiff', 'part_B_final/train_data/images/IMG_789.tiff', 'part_B_final/train_data/images/IMG_790.tiff', 'part_B_final/train_data/images/IMG_791.tiff', 'part_B_final/train_data/images/IMG_792.tiff', 'part_B_final/train_data/images/IMG_793.tiff', 'part_B_final/train_data/images/IMG_794.tiff', 'part_B_final/train_data/images/IMG_795.tiff', 'part_B_final/train_data/images/IMG_796.tiff', 'part_B_final/train_data/images/IMG_797.tiff', 'part_B_final/train_data/images/IMG_798.tiff', 'part_B_final/train_data/images/IMG_799.tiff', 'part_B_final/train_data/images/IMG_800.tiff', 'part_B_final/train_data/images/IMG_801.tiff', 'part_B_final/train_data/images/IMG_802.tiff', 'part_B_final/train_data/images/IMG_803.tiff', 'part_B_final/train_data/images/IMG_804.tiff', 'part_B_final/train_data/images/IMG_805.tiff', 'part_B_final/train_data/images/IMG_806.tiff', 'part_B_final/train_data/images/IMG_807.tiff', 'part_B_final/train_data/images/IMG_808.tiff', 'part_B_final/train_data/images/IMG_809.tiff', 'part_B_final/train_data/images/IMG_810.tiff', 'part_B_final/train_data/images/IMG_811.tiff', 'part_B_final/train_data/images/IMG_812.tiff', 'part_B_final/train_data/images/IMG_813.tiff', 'part_B_final/train_data/images/IMG_814.tiff', 'part_B_final/train_data/images/IMG_815.tiff', 'part_B_final/train_data/images/IMG_816.tiff', 'part_B_final/train_data/images/IMG_817.tiff', 'part_B_final/train_data/images/IMG_818.tiff', 'part_B_final/train_data/images/IMG_819.tiff', 'part_B_final/train_data/images/IMG_820.tiff', 'part_B_final/train_data/images/IMG_821.tiff', 'part_B_final/train_data/images/IMG_822.tiff', 'part_B_final/train_data/images/IMG_823.tiff', 'part_B_final/train_data/images/IMG_824.tiff', 'part_B_final/train_data/images/IMG_825.tiff', 'part_B_final/train_data/images/IMG_826.tiff', 'part_B_final/train_data/images/IMG_827.tiff', 'part_B_final/train_data/images/IMG_828.tiff', 'part_B_final/train_data/images/IMG_829.tiff', 'part_B_final/train_data/images/IMG_830.tiff', 'part_B_final/train_data/images/IMG_831.tiff', 'part_B_final/train_data/images/IMG_832.tiff', 'part_B_final/train_data/images/IMG_833.tiff', 'part_B_final/train_data/images/IMG_834.tiff', 'part_B_final/train_data/images/IMG_835.tiff', 'part_B_final/train_data/images/IMG_836.tiff', 'part_B_final/train_data/images/IMG_837.tiff', 'part_B_final/train_data/images/IMG_838.tiff', 'part_B_final/train_data/images/IMG_839.tiff', 'part_B_final/train_data/images/IMG_840.tiff', 'part_B_final/train_data/images/IMG_841.tiff', 'part_B_final/train_data/images/IMG_842.tiff', 'part_B_final/train_data/images/IMG_843.tiff', 'part_B_final/train_data/images/IMG_844.tiff', 'part_B_final/train_data/images/IMG_845.tiff', 'part_B_final/train_data/images/IMG_846.tiff', 'part_B_final/train_data/images/IMG_847.tiff', 'part_B_final/train_data/images/IMG_848.tiff', 'part_B_final/train_data/images/IMG_849.tiff', 'part_B_final/train_data/images/IMG_850.tiff', 'part_B_final/train_data/images/IMG_851.tiff', 'part_B_final/train_data/images/IMG_852.tiff', 'part_B_final/train_data/images/IMG_853.tiff', 'part_B_final/train_data/images/IMG_854.tiff', 'part_B_final/train_data/images/IMG_855.tiff', 'part_B_final/train_data/images/IMG_856.tiff', 'part_B_final/train_data/images/IMG_857.tiff', 'part_B_final/train_data/images/IMG_858.tiff', 'part_B_final/train_data/images/IMG_859.tiff', 'part_B_final/train_data/images/IMG_860.tiff', 'part_B_final/train_data/images/IMG_861.tiff', 'part_B_final/train_data/images/IMG_862.tiff', 'part_B_final/train_data/images/IMG_863.tiff', 'part_B_final/train_data/images/IMG_864.tiff', 'part_B_final/train_data/images/IMG_865.tiff', 'part_B_final/train_data/images/IMG_866.tiff', 'part_B_final/train_data/images/IMG_867.tiff', 'part_B_final/train_data/images/IMG_868.tiff', 'part_B_final/train_data/images/IMG_869.tiff', 'part_B_final/train_data/images/IMG_870.tiff', 'part_B_final/train_data/images/IMG_871.tiff', 'part_B_final/train_data/images/IMG_872.tiff', 'part_B_final/train_data/images/IMG_873.tiff', 'part_B_final/train_data/images/IMG_874.tiff', 'part_B_final/train_data/images/IMG_875.tiff', 'part_B_final/train_data/images/IMG_876.tiff', 'part_B_final/train_data/images/IMG_877.tiff', 'part_B_final/train_data/images/IMG_878.tiff', 'part_B_final/train_data/images/IMG_879.tiff', 'part_B_final/train_data/images/IMG_880.tiff', 'part_B_final/train_data/images/IMG_881.tiff', 'part_B_final/train_data/images/IMG_882.tiff', 'part_B_final/train_data/images/IMG_883.tiff', 'part_B_final/train_data/images/IMG_884.tiff', 'part_B_final/train_data/images/IMG_885.tiff', 'part_B_final/train_data/images/IMG_886.tiff', 'part_B_final/train_data/images/IMG_887.tiff', 'part_B_final/train_data/images/IMG_888.tiff', 'part_B_final/train_data/images/IMG_889.tiff', 'part_B_final/train_data/images/IMG_890.tiff', 'part_B_final/train_data/images/IMG_891.tiff', 'part_B_final/train_data/images/IMG_892.tiff', 'part_B_final/train_data/images/IMG_893.tiff', 'part_B_final/train_data/images/IMG_894.tiff', 'part_B_final/train_data/images/IMG_895.tiff', 'part_B_final/train_data/images/IMG_896.tiff', 'part_B_final/train_data/images/IMG_897.tiff', 'part_B_final/train_data/images/IMG_898.tiff', 'part_B_final/train_data/images/IMG_899.tiff', 'part_B_final/train_data/images/IMG_900.tiff', 'part_B_final/train_data/images/IMG_901.tiff', 'part_B_final/train_data/images/IMG_902.tiff', 'part_B_final/train_data/images/IMG_903.tiff', 'part_B_final/train_data/images/IMG_904.tiff', 'part_B_final/train_data/images/IMG_905.tiff', 'part_B_final/train_data/images/IMG_906.tiff', 'part_B_final/train_data/images/IMG_907.tiff', 'part_B_final/train_data/images/IMG_908.tiff', 'part_B_final/train_data/images/IMG_909.tiff', 'part_B_final/train_data/images/IMG_910.tiff', 'part_B_final/train_data/images/IMG_911.tiff', 'part_B_final/train_data/images/IMG_912.tiff', 'part_B_final/train_data/images/IMG_913.tiff', 'part_B_final/train_data/images/IMG_914.tiff', 'part_B_final/train_data/images/IMG_915.tiff', 'part_B_final/train_data/images/IMG_916.tiff', 'part_B_final/train_data/images/IMG_917.tiff', 'part_B_final/train_data/images/IMG_918.tiff', 'part_B_final/train_data/images/IMG_919.tiff', 'part_B_final/train_data/images/IMG_920.tiff', 'part_B_final/train_data/images/IMG_921.tiff', 'part_B_final/train_data/images/IMG_922.tiff', 'part_B_final/train_data/images/IMG_923.tiff', 'part_B_final/train_data/images/IMG_924.tiff', 'part_B_final/train_data/images/IMG_925.tiff', 'part_B_final/train_data/images/IMG_926.tiff', 'part_B_final/train_data/images/IMG_927.tiff', 'part_B_final/train_data/images/IMG_928.tiff', 'part_B_final/train_data/images/IMG_929.tiff', 'part_B_final/train_data/images/IMG_930.tiff', 'part_B_final/train_data/images/IMG_931.tiff', 'part_B_final/train_data/images/IMG_932.tiff', 'part_B_final/train_data/images/IMG_933.tiff', 'part_B_final/train_data/images/IMG_934.tiff', 'part_B_final/train_data/images/IMG_935.tiff', 'part_B_final/train_data/images/IMG_936.tiff', 'part_B_final/train_data/images/IMG_937.tiff', 'part_B_final/train_data/images/IMG_938.tiff', 'part_B_final/train_data/images/IMG_939.tiff', 'part_B_final/train_data/images/IMG_940.tiff', 'part_B_final/train_data/images/IMG_941.tiff', 'part_B_final/train_data/images/IMG_942.tiff', 'part_B_final/train_data/images/IMG_943.tiff', 'part_B_final/train_data/images/IMG_944.tiff', 'part_B_final/train_data/images/IMG_945.tiff', 'part_B_final/train_data/images/IMG_946.tiff', 'part_B_final/train_data/images/IMG_947.tiff', 'part_B_final/train_data/images/IMG_948.tiff', 'part_B_final/train_data/images/IMG_949.tiff', 'part_B_final/train_data/images/IMG_950.tiff', 'part_B_final/train_data/images/IMG_951.tiff', 'part_B_final/train_data/images/IMG_952.tiff', 'part_B_final/train_data/images/IMG_953.tiff', 'part_B_final/train_data/images/IMG_954.tiff', 'part_B_final/train_data/images/IMG_955.tiff', 'part_B_final/train_data/images/IMG_956.tiff', 'part_B_final/train_data/images/IMG_957.tiff', 'part_B_final/train_data/images/IMG_958.tiff', 'part_B_final/train_data/images/IMG_959.tiff', 'part_B_final/train_data/images/IMG_960.tiff', 'part_B_final/train_data/images/IMG_961.tiff', 'part_B_final/train_data/images/IMG_962.tiff', 'part_B_final/train_data/images/IMG_963.tiff', 'part_B_final/train_data/images/IMG_964.tiff', 'part_B_final/train_data/images/IMG_965.tiff', 'part_B_final/train_data/images/IMG_966.tiff', 'part_B_final/train_data/images/IMG_967.tiff', 'part_B_final/train_data/images/IMG_968.tiff', 'part_B_final/train_data/images/IMG_969.tiff', 'part_B_final/train_data/images/IMG_970.tiff', 'part_B_final/train_data/images/IMG_971.tiff', 'part_B_final/train_data/images/IMG_972.tiff', 'part_B_final/train_data/images/IMG_973.tiff', 'part_B_final/train_data/images/IMG_974.tiff', 'part_B_final/train_data/images/IMG_975.tiff', 'part_B_final/train_data/images/IMG_976.tiff', 'part_B_final/train_data/images/IMG_977.tiff', 'part_B_final/train_data/images/IMG_978.tiff', 'part_B_final/train_data/images/IMG_979.tiff', 'part_B_final/train_data/images/IMG_980.tiff', 'part_B_final/train_data/images/IMG_981.tiff', 'part_B_final/train_data/images/IMG_982.tiff', 'part_B_final/train_data/images/IMG_983.tiff', 'part_B_final/train_data/images/IMG_984.tiff', 'part_B_final/train_data/images/IMG_985.tiff', 'part_B_final/train_data/images/IMG_986.tiff', 'part_B_final/train_data/images/IMG_987.tiff', 'part_B_final/train_data/images/IMG_988.tiff', 'part_B_final/train_data/images/IMG_989.tiff', 'part_B_final/train_data/images/IMG_990.tiff', 'part_B_final/train_data/images/IMG_991.tiff', 'part_B_final/train_data/images/IMG_992.tiff', 'part_B_final/train_data/images/IMG_993.tiff', 'part_B_final/train_data/images/IMG_994.tiff', 'part_B_final/train_data/images/IMG_995.tiff', 'part_B_final/train_data/images/IMG_996.tiff', 'part_B_final/train_data/images/IMG_997.tiff', 'part_B_final/train_data/images/IMG_998.tiff', 'part_B_final/train_data/images/IMG_999.tiff', 'part_B_final/train_data/images/IMG_1000.tiff', 'part_B_final/train_data/images/IMG_1001.tiff', 'part_B_final/train_data/images/IMG_1002.tiff', 'part_B_final/train_data/images/IMG_1003.tiff', 'part_B_final/train_data/images/IMG_1004.tiff', 'part_B_final/train_data/images/IMG_1005.tiff', 'part_B_final/train_data/images/IMG_1006.tiff', 'part_B_final/train_data/images/IMG_1007.tiff', 'part_B_final/train_data/images/IMG_1008.tiff', 'part_B_final/train_data/images/IMG_1009.tiff', 'part_B_final/train_data/images/IMG_1010.tiff', 'part_B_final/train_data/images/IMG_1011.tiff', 'part_B_final/train_data/images/IMG_1012.tiff', 'part_B_final/train_data/images/IMG_1013.tiff', 'part_B_final/train_data/images/IMG_1014.tiff', 'part_B_final/train_data/images/IMG_1015.tiff', 'part_B_final/train_data/images/IMG_1016.tiff', 'part_B_final/train_data/images/IMG_1017.tiff', 'part_B_final/train_data/images/IMG_1018.tiff', 'part_B_final/train_data/images/IMG_1019.tiff', 'part_B_final/train_data/images/IMG_1020.tiff', 'part_B_final/train_data/images/IMG_1021.tiff', 'part_B_final/train_data/images/IMG_1022.tiff', 'part_B_final/train_data/images/IMG_1023.tiff', 'part_B_final/train_data/images/IMG_1024.tiff', 'part_B_final/train_data/images/IMG_1025.tiff', 'part_B_final/train_data/images/IMG_1026.tiff', 'part_B_final/train_data/images/IMG_1027.tiff', 'part_B_final/train_data/images/IMG_1028.tiff', 'part_B_final/train_data/images/IMG_1029.tiff', 'part_B_final/train_data/images/IMG_1030.tiff', 'part_B_final/train_data/images/IMG_1031.tiff', 'part_B_final/train_data/images/IMG_1032.tiff', 'part_B_final/train_data/images/IMG_1033.tiff', 'part_B_final/train_data/images/IMG_1034.tiff', 'part_B_final/train_data/images/IMG_1035.tiff', 'part_B_final/train_data/images/IMG_1036.tiff', 'part_B_final/train_data/images/IMG_1037.tiff', 'part_B_final/train_data/images/IMG_1038.tiff', 'part_B_final/train_data/images/IMG_1039.tiff', 'part_B_final/train_data/images/IMG_1040.tiff', 'part_B_final/train_data/images/IMG_1041.tiff', 'part_B_final/train_data/images/IMG_1042.tiff', 'part_B_final/train_data/images/IMG_1043.tiff', 'part_B_final/train_data/images/IMG_1044.tiff', 'part_B_final/train_data/images/IMG_1045.tiff', 'part_B_final/train_data/images/IMG_1046.tiff', 'part_B_final/train_data/images/IMG_1047.tiff', 'part_B_final/train_data/images/IMG_1048.tiff', 'part_B_final/train_data/images/IMG_1049.tiff', 'part_B_final/train_data/images/IMG_1050.tiff', 'part_B_final/train_data/images/IMG_1051.tiff', 'part_B_final/train_data/images/IMG_1052.tiff', 'part_B_final/train_data/images/IMG_1053.tiff', 'part_B_final/train_data/images/IMG_1054.tiff', 'part_B_final/train_data/images/IMG_1055.tiff', 'part_B_final/train_data/images/IMG_1056.tiff', 'part_B_final/train_data/images/IMG_1057.tiff', 'part_B_final/train_data/images/IMG_1058.tiff', 'part_B_final/train_data/images/IMG_1059.tiff', 'part_B_final/train_data/images/IMG_1060.tiff', 'part_B_final/train_data/images/IMG_1061.tiff', 'part_B_final/train_data/images/IMG_1062.tiff', 'part_B_final/train_data/images/IMG_1063.tiff', 'part_B_final/train_data/images/IMG_1064.tiff', 'part_B_final/train_data/images/IMG_1065.tiff', 'part_B_final/train_data/images/IMG_1066.tiff', 'part_B_final/train_data/images/IMG_1067.tiff', 'part_B_final/train_data/images/IMG_1068.tiff', 'part_B_final/train_data/images/IMG_1069.tiff', 'part_B_final/train_data/images/IMG_1070.tiff', 'part_B_final/train_data/images/IMG_1071.tiff', 'part_B_final/train_data/images/IMG_1072.tiff', 'part_B_final/train_data/images/IMG_1073.tiff', 'part_B_final/train_data/images/IMG_1074.tiff', 'part_B_final/train_data/images/IMG_1075.tiff', 'part_B_final/train_data/images/IMG_1076.tiff', 'part_B_final/train_data/images/IMG_1077.tiff', 'part_B_final/train_data/images/IMG_1078.tiff', 'part_B_final/train_data/images/IMG_1079.tiff', 'part_B_final/train_data/images/IMG_1080.tiff', 'part_B_final/train_data/images/IMG_1081.tiff', 'part_B_final/train_data/images/IMG_1082.tiff', 'part_B_final/train_data/images/IMG_1083.tiff', 'part_B_final/train_data/images/IMG_1084.tiff', 'part_B_final/train_data/images/IMG_1085.tiff', 'part_B_final/train_data/images/IMG_1086.tiff', 'part_B_final/train_data/images/IMG_1087.tiff', 'part_B_final/train_data/images/IMG_1088.tiff', 'part_B_final/train_data/images/IMG_1089.tiff', 'part_B_final/train_data/images/IMG_1090.tiff', 'part_B_final/train_data/images/IMG_1091.tiff', 'part_B_final/train_data/images/IMG_1092.tiff', 'part_B_final/train_data/images/IMG_1093.tiff', 'part_B_final/train_data/images/IMG_1094.tiff', 'part_B_final/train_data/images/IMG_1095.tiff', 'part_B_final/train_data/images/IMG_1096.tiff', 'part_B_final/train_data/images/IMG_1097.tiff', 'part_B_final/train_data/images/IMG_1098.tiff', 'part_B_final/train_data/images/IMG_1099.tiff', 'part_B_final/train_data/images/IMG_1100.tiff', 'part_B_final/train_data/images/IMG_1101.tiff', 'part_B_final/train_data/images/IMG_1102.tiff', 'part_B_final/train_data/images/IMG_1103.tiff', 'part_B_final/train_data/images/IMG_1104.tiff', 'part_B_final/train_data/images/IMG_1105.tiff', 'part_B_final/train_data/images/IMG_1106.tiff', 'part_B_final/train_data/images/IMG_1107.tiff', 'part_B_final/train_data/images/IMG_1108.tiff', 'part_B_final/train_data/images/IMG_1109.tiff', 'part_B_final/train_data/images/IMG_1110.tiff', 'part_B_final/train_data/images/IMG_1111.tiff', 'part_B_final/train_data/images/IMG_1112.tiff', 'part_B_final/train_data/images/IMG_1113.tiff', 'part_B_final/train_data/images/IMG_1114.tiff', 'part_B_final/train_data/images/IMG_1115.tiff', 'part_B_final/train_data/images/IMG_1116.tiff', 'part_B_final/train_data/images/IMG_1117.tiff', 'part_B_final/train_data/images/IMG_1118.tiff', 'part_B_final/train_data/images/IMG_1119.tiff', 'part_B_final/train_data/images/IMG_1120.tiff', 'part_B_final/train_data/images/IMG_1121.tiff', 'part_B_final/train_data/images/IMG_1122.tiff', 'part_B_final/train_data/images/IMG_1123.tiff', 'part_B_final/train_data/images/IMG_1124.tiff', 'part_B_final/train_data/images/IMG_1125.tiff', 'part_B_final/train_data/images/IMG_1126.tiff', 'part_B_final/train_data/images/IMG_1127.tiff', 'part_B_final/train_data/images/IMG_1128.tiff', 'part_B_final/train_data/images/IMG_1129.tiff', 'part_B_final/train_data/images/IMG_1130.tiff', 'part_B_final/train_data/images/IMG_1131.tiff', 'part_B_final/train_data/images/IMG_1132.tiff', 'part_B_final/train_data/images/IMG_1133.tiff', 'part_B_final/train_data/images/IMG_1134.tiff', 'part_B_final/train_data/images/IMG_1135.tiff', 'part_B_final/train_data/images/IMG_1136.tiff', 'part_B_final/train_data/images/IMG_1137.tiff', 'part_B_final/train_data/images/IMG_1138.tiff', 'part_B_final/train_data/images/IMG_1139.tiff', 'part_B_final/train_data/images/IMG_1140.tiff', 'part_B_final/train_data/images/IMG_1141.tiff', 'part_B_final/train_data/images/IMG_1142.tiff', 'part_B_final/train_data/images/IMG_1143.tiff', 'part_B_final/train_data/images/IMG_1144.tiff', 'part_B_final/train_data/images/IMG_1145.tiff', 'part_B_final/train_data/images/IMG_1146.tiff', 'part_B_final/train_data/images/IMG_1147.tiff', 'part_B_final/train_data/images/IMG_1148.tiff', 'part_B_final/train_data/images/IMG_1149.tiff', 'part_B_final/train_data/images/IMG_1150.tiff', 'part_B_final/train_data/images/IMG_1151.tiff', 'part_B_final/train_data/images/IMG_1152.tiff', 'part_B_final/train_data/images/IMG_1153.tiff', 'part_B_final/train_data/images/IMG_1154.tiff', 'part_B_final/train_data/images/IMG_1155.tiff', 'part_B_final/train_data/images/IMG_1156.tiff', 'part_B_final/train_data/images/IMG_1157.tiff', 'part_B_final/train_data/images/IMG_1158.tiff', 'part_B_final/train_data/images/IMG_1159.tiff', 'part_B_final/train_data/images/IMG_1160.tiff', 'part_B_final/train_data/images/IMG_1161.tiff', 'part_B_final/train_data/images/IMG_1162.tiff', 'part_B_final/train_data/images/IMG_1163.tiff', 'part_B_final/train_data/images/IMG_1164.tiff', 'part_B_final/train_data/images/IMG_1165.tiff', 'part_B_final/train_data/images/IMG_1166.tiff', 'part_B_final/train_data/images/IMG_1167.tiff', 'part_B_final/train_data/images/IMG_1168.tiff', 'part_B_final/train_data/images/IMG_1169.tiff', 'part_B_final/train_data/images/IMG_1170.tiff', 'part_B_final/train_data/images/IMG_1171.tiff', 'part_B_final/train_data/images/IMG_1172.tiff', 'part_B_final/train_data/images/IMG_1173.tiff', 'part_B_final/train_data/images/IMG_1174.tiff', 'part_B_final/train_data/images/IMG_1175.tiff', 'part_B_final/train_data/images/IMG_1176.tiff', 'part_B_final/train_data/images/IMG_1177.tiff', 'part_B_final/train_data/images/IMG_1178.tiff', 'part_B_final/train_data/images/IMG_1179.tiff', 'part_B_final/train_data/images/IMG_1180.tiff', 'part_B_final/train_data/images/IMG_1181.tiff', 'part_B_final/train_data/images/IMG_1182.tiff', 'part_B_final/train_data/images/IMG_1183.tiff', 'part_B_final/train_data/images/IMG_1184.tiff', 'part_B_final/train_data/images/IMG_1185.tiff', 'part_B_final/train_data/images/IMG_1186.tiff', 'part_B_final/train_data/images/IMG_1187.tiff', 'part_B_final/train_data/images/IMG_1188.tiff', 'part_B_final/train_data/images/IMG_1189.tiff', 'part_B_final/train_data/images/IMG_1190.tiff', 'part_B_final/train_data/images/IMG_1191.tiff', 'part_B_final/train_data/images/IMG_1192.tiff', 'part_B_final/train_data/images/IMG_1193.tiff', 'part_B_final/train_data/images/IMG_1194.tiff', 'part_B_final/train_data/images/IMG_1195.tiff', 'part_B_final/train_data/images/IMG_1196.tiff', 'part_B_final/train_data/images/IMG_1197.tiff', 'part_B_final/train_data/images/IMG_1198.tiff', 'part_B_final/train_data/images/IMG_1199.tiff', 'part_B_final/train_data/images/IMG_1200.tiff', 'part_B_final/train_data/images/IMG_1201.tiff', 'part_B_final/train_data/images/IMG_1202.tiff', 'part_B_final/train_data/images/IMG_1203.tiff', 'part_B_final/train_data/images/IMG_1204.tiff', 'part_B_final/train_data/images/IMG_1205.tiff', 'part_B_final/train_data/images/IMG_1206.tiff', 'part_B_final/train_data/images/IMG_1207.tiff', 'part_B_final/train_data/images/IMG_1208.tiff', 'part_B_final/train_data/images/IMG_1209.tiff', 'part_B_final/train_data/images/IMG_1210.tiff', 'part_B_final/train_data/images/IMG_1211.tiff', 'part_B_final/train_data/images/IMG_1212.tiff', 'part_B_final/train_data/images/IMG_1213.tiff', 'part_B_final/train_data/images/IMG_1214.tiff', 'part_B_final/train_data/images/IMG_1215.tiff', 'part_B_final/train_data/images/IMG_1216.tiff', 'part_B_final/train_data/images/IMG_1217.tiff', 'part_B_final/train_data/images/IMG_1218.tiff', 'part_B_final/train_data/images/IMG_1219.tiff', 'part_B_final/train_data/images/IMG_1220.tiff', 'part_B_final/train_data/images/IMG_1221.tiff', 'part_B_final/train_data/images/IMG_1222.tiff', 'part_B_final/train_data/images/IMG_1223.tiff', 'part_B_final/train_data/images/IMG_1224.tiff', 'part_B_final/train_data/images/IMG_1225.tiff', 'part_B_final/train_data/images/IMG_1226.tiff', 'part_B_final/train_data/images/IMG_1227.tiff', 'part_B_final/train_data/images/IMG_1228.tiff', 'part_B_final/train_data/images/IMG_1229.tiff', 'part_B_final/train_data/images/IMG_1230.tiff', 'part_B_final/train_data/images/IMG_1231.tiff', 'part_B_final/train_data/images/IMG_1232.tiff', 'part_B_final/train_data/images/IMG_1233.tiff', 'part_B_final/train_data/images/IMG_1234.tiff', 'part_B_final/train_data/images/IMG_1235.tiff', 'part_B_final/train_data/images/IMG_1236.tiff', 'part_B_final/train_data/images/IMG_1237.tiff', 'part_B_final/train_data/images/IMG_1238.tiff', 'part_B_final/train_data/images/IMG_1239.tiff', 'part_B_final/train_data/images/IMG_1240.tiff', 'part_B_final/train_data/images/IMG_1241.tiff', 'part_B_final/train_data/images/IMG_1242.tiff', 'part_B_final/train_data/images/IMG_1243.tiff', 'part_B_final/train_data/images/IMG_1244.tiff', 'part_B_final/train_data/images/IMG_1245.tiff', 'part_B_final/train_data/images/IMG_1246.tiff', 'part_B_final/train_data/images/IMG_1247.tiff', 'part_B_final/train_data/images/IMG_1248.tiff', 'part_B_final/train_data/images/IMG_1249.tiff', 'part_B_final/train_data/images/IMG_1250.tiff', 'part_B_final/train_data/images/IMG_1251.tiff', 'part_B_final/train_data/images/IMG_1252.tiff', 'part_B_final/train_data/images/IMG_1253.tiff', 'part_B_final/train_data/images/IMG_1254.tiff', 'part_B_final/train_data/images/IMG_1255.tiff', 'part_B_final/train_data/images/IMG_1256.tiff', 'part_B_final/train_data/images/IMG_1257.tiff', 'part_B_final/train_data/images/IMG_1258.tiff', 'part_B_final/train_data/images/IMG_1259.tiff', 'part_B_final/train_data/images/IMG_1260.tiff', 'part_B_final/train_data/images/IMG_1261.tiff', 'part_B_final/train_data/images/IMG_1262.tiff', 'part_B_final/train_data/images/IMG_1263.tiff', 'part_B_final/train_data/images/IMG_1264.tiff', 'part_B_final/train_data/images/IMG_1265.tiff', 'part_B_final/train_data/images/IMG_1266.tiff', 'part_B_final/train_data/images/IMG_1267.tiff', 'part_B_final/train_data/images/IMG_1268.tiff', 'part_B_final/train_data/images/IMG_1269.tiff', 'part_B_final/train_data/images/IMG_1270.tiff', 'part_B_final/train_data/images/IMG_1271.tiff', 'part_B_final/train_data/images/IMG_1272.tiff', 'part_B_final/train_data/images/IMG_1273.tiff', 'part_B_final/train_data/images/IMG_1274.tiff', 'part_B_final/train_data/images/IMG_1275.tiff', 'part_B_final/train_data/images/IMG_1276.tiff', 'part_B_final/train_data/images/IMG_1277.tiff', 'part_B_final/train_data/images/IMG_1278.tiff', 'part_B_final/train_data/images/IMG_1279.tiff', 'part_B_final/train_data/images/IMG_1280.tiff', 'part_B_final/train_data/images/IMG_1281.tiff', 'part_B_final/train_data/images/IMG_1282.tiff', 'part_B_final/train_data/images/IMG_1283.tiff', 'part_B_final/train_data/images/IMG_1284.tiff', 'part_B_final/train_data/images/IMG_1285.tiff', 'part_B_final/train_data/images/IMG_1286.tiff', 'part_B_final/train_data/images/IMG_1287.tiff', 'part_B_final/train_data/images/IMG_1288.tiff', 'part_B_final/train_data/images/IMG_1289.tiff', 'part_B_final/train_data/images/IMG_1290.tiff', 'part_B_final/train_data/images/IMG_1291.tiff', 'part_B_final/train_data/images/IMG_1292.tiff', 'part_B_final/train_data/images/IMG_1293.tiff', 'part_B_final/train_data/images/IMG_1294.tiff', 'part_B_final/train_data/images/IMG_1295.tiff', 'part_B_final/train_data/images/IMG_1296.tiff', 'part_B_final/train_data/images/IMG_1297.tiff', 'part_B_final/train_data/images/IMG_1298.tiff', 'part_B_final/train_data/images/IMG_1299.tiff', 'part_B_final/train_data/images/IMG_1300.tiff', 'part_B_final/train_data/images/IMG_1301.tiff', 'part_B_final/train_data/images/IMG_1302.tiff', 'part_B_final/train_data/images/IMG_1303.tiff', 'part_B_final/train_data/images/IMG_1304.tiff', 'part_B_final/train_data/images/IMG_1305.tiff', 'part_B_final/train_data/images/IMG_1306.tiff', 'part_B_final/train_data/images/IMG_1307.tiff', 'part_B_final/train_data/images/IMG_1308.tiff', 'part_B_final/train_data/images/IMG_1309.tiff', 'part_B_final/train_data/images/IMG_1310.tiff', 'part_B_final/train_data/images/IMG_1311.tiff', 'part_B_final/train_data/images/IMG_1312.tiff', 'part_B_final/train_data/images/IMG_1313.tiff', 'part_B_final/train_data/images/IMG_1314.tiff', 'part_B_final/train_data/images/IMG_1315.tiff', 'part_B_final/train_data/images/IMG_1316.tiff', 'part_B_final/train_data/images/IMG_1317.tiff', 'part_B_final/train_data/images/IMG_1318.tiff', 'part_B_final/train_data/images/IMG_1319.tiff', 'part_B_final/train_data/images/IMG_1320.tiff', 'part_B_final/train_data/images/IMG_1321.tiff', 'part_B_final/train_data/images/IMG_1322.tiff', 'part_B_final/train_data/images/IMG_1323.tiff', 'part_B_final/train_data/images/IMG_1324.tiff', 'part_B_final/train_data/images/IMG_1325.tiff', 'part_B_final/train_data/images/IMG_1326.tiff', 'part_B_final/train_data/images/IMG_1327.tiff', 'part_B_final/train_data/images/IMG_1328.tiff', 'part_B_final/train_data/images/IMG_1329.tiff', 'part_B_final/train_data/images/IMG_1330.tiff', 'part_B_final/train_data/images/IMG_1331.tiff', 'part_B_final/train_data/images/IMG_1332.tiff', 'part_B_final/train_data/images/IMG_1333.tiff', 'part_B_final/train_data/images/IMG_1334.tiff', 'part_B_final/train_data/images/IMG_1335.tiff', 'part_B_final/train_data/images/IMG_1336.tiff', 'part_B_final/train_data/images/IMG_1337.tiff', 'part_B_final/train_data/images/IMG_1338.tiff', 'part_B_final/train_data/images/IMG_1339.tiff', 'part_B_final/train_data/images/IMG_1340.tiff', 'part_B_final/train_data/images/IMG_1341.tiff', 'part_B_final/train_data/images/IMG_1342.tiff', 'part_B_final/train_data/images/IMG_1343.tiff', 'part_B_final/train_data/images/IMG_1344.tiff', 'part_B_final/train_data/images/IMG_1345.tiff', 'part_B_final/train_data/images/IMG_1346.tiff', 'part_B_final/train_data/images/IMG_1347.tiff', 'part_B_final/train_data/images/IMG_1348.tiff', 'part_B_final/train_data/images/IMG_1349.tiff', 'part_B_final/train_data/images/IMG_1350.tiff', 'part_B_final/train_data/images/IMG_1351.tiff', 'part_B_final/train_data/images/IMG_1352.tiff', 'part_B_final/train_data/images/IMG_1353.tiff', 'part_B_final/train_data/images/IMG_1354.tiff', 'part_B_final/train_data/images/IMG_1355.tiff', 'part_B_final/train_data/images/IMG_1356.tiff', 'part_B_final/train_data/images/IMG_1357.tiff', 'part_B_final/train_data/images/IMG_1358.tiff', 'part_B_final/train_data/images/IMG_1359.tiff', 'part_B_final/train_data/images/IMG_1360.tiff', 'part_B_final/train_data/images/IMG_1361.tiff', 'part_B_final/train_data/images/IMG_1362.tiff', 'part_B_final/train_data/images/IMG_1363.tiff', 'part_B_final/train_data/images/IMG_1364.tiff', 'part_B_final/train_data/images/IMG_1365.tiff', 'part_B_final/train_data/images/IMG_1366.tiff', 'part_B_final/train_data/images/IMG_1367.tiff', 'part_B_final/train_data/images/IMG_1368.tiff', 'part_B_final/train_data/images/IMG_1369.tiff', 'part_B_final/train_data/images/IMG_1370.tiff', 'part_B_final/train_data/images/IMG_1371.tiff', 'part_B_final/train_data/images/IMG_1372.tiff', 'part_B_final/train_data/images/IMG_1373.tiff', 'part_B_final/train_data/images/IMG_1374.tiff', 'part_B_final/train_data/images/IMG_1375.tiff', 'part_B_final/train_data/images/IMG_1376.tiff', 'part_B_final/train_data/images/IMG_1377.tiff', 'part_B_final/train_data/images/IMG_1378.tiff', 'part_B_final/train_data/images/IMG_1379.tiff', 'part_B_final/train_data/images/IMG_1380.tiff', 'part_B_final/train_data/images/IMG_1381.tiff', 'part_B_final/train_data/images/IMG_1382.tiff', 'part_B_final/train_data/images/IMG_1383.tiff', 'part_B_final/train_data/images/IMG_1384.tiff', 'part_B_final/train_data/images/IMG_1385.tiff', 'part_B_final/train_data/images/IMG_1386.tiff', 'part_B_final/train_data/images/IMG_1387.tiff', 'part_B_final/train_data/images/IMG_1388.tiff', 'part_B_final/train_data/images/IMG_1389.tiff', 'part_B_final/train_data/images/IMG_1390.tiff', 'part_B_final/train_data/images/IMG_1391.tiff', 'part_B_final/train_data/images/IMG_1392.tiff', 'part_B_final/train_data/images/IMG_1393.tiff', 'part_B_final/train_data/images/IMG_1394.tiff', 'part_B_final/train_data/images/IMG_1395.tiff', 'part_B_final/train_data/images/IMG_1396.tiff', 'part_B_final/train_data/images/IMG_1397.tiff', 'part_B_final/train_data/images/IMG_1398.tiff', 'part_B_final/train_data/images/IMG_1399.tiff', 'part_B_final/train_data/images/IMG_1400.tiff', 'part_B_final/train_data/images/IMG_1401.tiff', 'part_B_final/train_data/images/IMG_1402.tiff', 'part_B_final/train_data/images/IMG_1403.tiff', 'part_B_final/train_data/images/IMG_1404.tiff', 'part_B_final/train_data/images/IMG_1405.tiff', 'part_B_final/train_data/images/IMG_1406.tiff', 'part_B_final/train_data/images/IMG_1407.tiff', 'part_B_final/train_data/images/IMG_1408.tiff', 'part_B_final/train_data/images/IMG_1409.tiff', 'part_B_final/train_data/images/IMG_1410.tiff', 'part_B_final/train_data/images/IMG_1411.tiff', 'part_B_final/train_data/images/IMG_1412.tiff', 'part_B_final/train_data/images/IMG_1413.tiff', 'part_B_final/train_data/images/IMG_1414.tiff', 'part_B_final/train_data/images/IMG_1415.tiff', 'part_B_final/train_data/images/IMG_1416.tiff', 'part_B_final/train_data/images/IMG_1417.tiff', 'part_B_final/train_data/images/IMG_1418.tiff', 'part_B_final/train_data/images/IMG_1419.tiff', 'part_B_final/train_data/images/IMG_1420.tiff', 'part_B_final/train_data/images/IMG_1421.tiff', 'part_B_final/train_data/images/IMG_1422.tiff', 'part_B_final/train_data/images/IMG_1423.tiff', 'part_B_final/train_data/images/IMG_1424.tiff', 'part_B_final/train_data/images/IMG_1425.tiff', 'part_B_final/train_data/images/IMG_1426.tiff', 'part_B_final/train_data/images/IMG_1427.tiff', 'part_B_final/train_data/images/IMG_1428.tiff', 'part_B_final/train_data/images/IMG_1429.tiff', 'part_B_final/train_data/images/IMG_1430.tiff', 'part_B_final/train_data/images/IMG_1431.tiff', 'part_B_final/train_data/images/IMG_1432.tiff', 'part_B_final/train_data/images/IMG_1433.tiff', 'part_B_final/train_data/images/IMG_1434.tiff', 'part_B_final/train_data/images/IMG_1435.tiff', 'part_B_final/train_data/images/IMG_1436.tiff', 'part_B_final/train_data/images/IMG_1437.tiff', 'part_B_final/train_data/images/IMG_1438.tiff', 'part_B_final/train_data/images/IMG_1439.tiff', 'part_B_final/train_data/images/IMG_1440.tiff', 'part_B_final/train_data/images/IMG_1441.tiff', 'part_B_final/train_data/images/IMG_1442.tiff', 'part_B_final/train_data/images/IMG_1443.tiff', 'part_B_final/train_data/images/IMG_1444.tiff', 'part_B_final/train_data/images/IMG_1445.tiff', 'part_B_final/train_data/images/IMG_1446.tiff', 'part_B_final/train_data/images/IMG_1447.tiff', 'part_B_final/train_data/images/IMG_1448.tiff', 'part_B_final/train_data/images/IMG_1449.tiff', 'part_B_final/train_data/images/IMG_1450.tiff', 'part_B_final/train_data/images/IMG_1451.tiff', 'part_B_final/train_data/images/IMG_1452.tiff', 'part_B_final/train_data/images/IMG_1453.tiff', 'part_B_final/train_data/images/IMG_1454.tiff', 'part_B_final/train_data/images/IMG_1455.tiff', 'part_B_final/train_data/images/IMG_1456.tiff', 'part_B_final/train_data/images/IMG_1457.tiff', 'part_B_final/train_data/images/IMG_1458.tiff', 'part_B_final/train_data/images/IMG_1459.tiff', 'part_B_final/train_data/images/IMG_1460.tiff', 'part_B_final/train_data/images/IMG_1461.tiff', 'part_B_final/train_data/images/IMG_1462.tiff', 'part_B_final/train_data/images/IMG_1463.tiff', 'part_B_final/train_data/images/IMG_1464.tiff', 'part_B_final/train_data/images/IMG_1465.tiff', 'part_B_final/train_data/images/IMG_1466.tiff', 'part_B_final/train_data/images/IMG_1467.tiff', 'part_B_final/train_data/images/IMG_1468.tiff', 'part_B_final/train_data/images/IMG_1469.tiff', 'part_B_final/train_data/images/IMG_1470.tiff', 'part_B_final/train_data/images/IMG_1471.tiff', 'part_B_final/train_data/images/IMG_1472.tiff', 'part_B_final/train_data/images/IMG_1473.tiff', 'part_B_final/train_data/images/IMG_1474.tiff', 'part_B_final/train_data/images/IMG_1475.tiff', 'part_B_final/train_data/images/IMG_1476.tiff', 'part_B_final/train_data/images/IMG_1477.tiff', 'part_B_final/train_data/images/IMG_1478.tiff', 'part_B_final/train_data/images/IMG_1479.tiff', 'part_B_final/train_data/images/IMG_1480.tiff', 'part_B_final/train_data/images/IMG_1481.tiff', 'part_B_final/train_data/images/IMG_1482.tiff', 'part_B_final/train_data/images/IMG_1483.tiff', 'part_B_final/train_data/images/IMG_1484.tiff', 'part_B_final/train_data/images/IMG_1485.tiff', 'part_B_final/train_data/images/IMG_1486.tiff', 'part_B_final/train_data/images/IMG_1487.tiff', 'part_B_final/train_data/images/IMG_1488.tiff', 'part_B_final/train_data/images/IMG_1489.tiff', 'part_B_final/train_data/images/IMG_1490.tiff', 'part_B_final/train_data/images/IMG_1491.tiff', 'part_B_final/train_data/images/IMG_1492.tiff', 'part_B_final/train_data/images/IMG_1493.tiff', 'part_B_final/train_data/images/IMG_1494.tiff', 'part_B_final/train_data/images/IMG_1495.tiff', 'part_B_final/train_data/images/IMG_1496.tiff', 'part_B_final/train_data/images/IMG_1497.tiff', 'part_B_final/train_data/images/IMG_1498.tiff', 'part_B_final/train_data/images/IMG_1499.tiff', 'part_B_final/train_data/images/IMG_1500.tiff', 'part_B_final/train_data/images/IMG_1501.tiff', 'part_B_final/train_data/images/IMG_1502.tiff', 'part_B_final/train_data/images/IMG_1503.tiff', 'part_B_final/train_data/images/IMG_1504.tiff', 'part_B_final/train_data/images/IMG_1505.tiff', 'part_B_final/train_data/images/IMG_1506.tiff', 'part_B_final/train_data/images/IMG_1507.tiff', 'part_B_final/train_data/images/IMG_1508.tiff', 'part_B_final/train_data/images/IMG_1509.tiff', 'part_B_final/train_data/images/IMG_1510.tiff', 'part_B_final/train_data/images/IMG_1511.tiff', 'part_B_final/train_data/images/IMG_1512.tiff', 'part_B_final/train_data/images/IMG_1513.tiff', 'part_B_final/train_data/images/IMG_1514.tiff', 'part_B_final/train_data/images/IMG_1515.tiff', 'part_B_final/train_data/images/IMG_1516.tiff', 'part_B_final/train_data/images/IMG_1517.tiff', 'part_B_final/train_data/images/IMG_1518.tiff', 'part_B_final/train_data/images/IMG_1519.tiff', 'part_B_final/train_data/images/IMG_1520.tiff', 'part_B_final/train_data/images/IMG_1521.tiff', 'part_B_final/train_data/images/IMG_1522.tiff', 'part_B_final/train_data/images/IMG_1523.tiff', 'part_B_final/train_data/images/IMG_1524.tiff', 'part_B_final/train_data/images/IMG_1525.tiff', 'part_B_final/train_data/images/IMG_1526.tiff', 'part_B_final/train_data/images/IMG_1527.tiff', 'part_B_final/train_data/images/IMG_1528.tiff', 'part_B_final/train_data/images/IMG_1529.tiff', 'part_B_final/train_data/images/IMG_1530.tiff', 'part_B_final/train_data/images/IMG_1531.tiff', 'part_B_final/train_data/images/IMG_1532.tiff', 'part_B_final/train_data/images/IMG_1533.tiff', 'part_B_final/train_data/images/IMG_1534.tiff', 'part_B_final/train_data/images/IMG_1535.tiff', 'part_B_final/train_data/images/IMG_1536.tiff', 'part_B_final/train_data/images/IMG_1537.tiff', 'part_B_final/train_data/images/IMG_1538.tiff', 'part_B_final/train_data/images/IMG_1539.tiff', 'part_B_final/train_data/images/IMG_1540.tiff', 'part_B_final/train_data/images/IMG_1541.tiff', 'part_B_final/train_data/images/IMG_1542.tiff', 'part_B_final/train_data/images/IMG_1543.tiff', 'part_B_final/train_data/images/IMG_1544.tiff', 'part_B_final/train_data/images/IMG_1545.tiff', 'part_B_final/train_data/images/IMG_1546.tiff', 'part_B_final/train_data/images/IMG_1547.tiff', 'part_B_final/train_data/images/IMG_1548.tiff', 'part_B_final/train_data/images/IMG_1549.tiff', 'part_B_final/train_data/images/IMG_1550.tiff', 'part_B_final/train_data/images/IMG_1551.tiff', 'part_B_final/train_data/images/IMG_1552.tiff', 'part_B_final/train_data/images/IMG_1553.tiff', 'part_B_final/train_data/images/IMG_1554.tiff', 'part_B_final/train_data/images/IMG_1555.tiff', 'part_B_final/train_data/images/IMG_1556.tiff', 'part_B_final/train_data/images/IMG_1557.tiff', 'part_B_final/train_data/images/IMG_1558.tiff', 'part_B_final/train_data/images/IMG_1559.tiff', 'part_B_final/train_data/images/IMG_1560.tiff', 'part_B_final/train_data/images/IMG_1561.tiff', 'part_B_final/train_data/images/IMG_1562.tiff', 'part_B_final/train_data/images/IMG_1563.tiff', 'part_B_final/train_data/images/IMG_1564.tiff', 'part_B_final/train_data/images/IMG_1565.tiff', 'part_B_final/train_data/images/IMG_1566.tiff', 'part_B_final/train_data/images/IMG_1567.tiff', 'part_B_final/train_data/images/IMG_1568.tiff', 'part_B_final/train_data/images/IMG_1569.tiff', 'part_B_final/train_data/images/IMG_1570.tiff', 'part_B_final/train_data/images/IMG_1571.tiff', 'part_B_final/train_data/images/IMG_1572.tiff', 'part_B_final/train_data/images/IMG_1573.tiff', 'part_B_final/train_data/images/IMG_1574.tiff', 'part_B_final/train_data/images/IMG_1575.tiff', 'part_B_final/train_data/images/IMG_1576.tiff', 'part_B_final/train_data/images/IMG_1577.tiff', 'part_B_final/train_data/images/IMG_1578.tiff', 'part_B_final/train_data/images/IMG_1579.tiff', 'part_B_final/train_data/images/IMG_1580.tiff', 'part_B_final/train_data/images/IMG_1581.tiff']\n"
          ],
          "name": "stdout"
        }
      ]
    },
    {
      "cell_type": "code",
      "metadata": {
        "id": "F-her9OiLwhI",
        "colab_type": "code",
        "colab": {}
      },
      "source": [
        "import sys\n",
        "import os\n",
        "\n",
        "import warnings\n",
        "\n",
        "\n",
        "\n",
        "\n",
        "import torch\n",
        "import torch.nn as nn\n",
        "from torch.autograd import Variable\n",
        "from torchvision import datasets, transforms\n",
        "\n",
        "import numpy as np\n",
        "import argparse\n",
        "import json\n",
        "import cv2\n",
        "import dataset\n",
        "import time"
      ],
      "execution_count": 0,
      "outputs": []
    },
    {
      "cell_type": "code",
      "metadata": {
        "id": "KG3H6NAcLO5Y",
        "colab_type": "code",
        "colab": {}
      },
      "source": [
        "import torch.nn as nn\n",
        "import torch\n",
        "from torch.nn import functional as F\n",
        "from torchvision import models\n",
        "\n",
        "class ContextualModule(nn.Module):\n",
        "    def __init__(self, features, out_features=512, sizes=(1, 2, 3, 6)):\n",
        "        super(ContextualModule, self).__init__()\n",
        "        self.scales = []\n",
        "        self.scales = nn.ModuleList([self._make_scale(features, size) for size in sizes])\n",
        "        self.bottleneck = nn.Conv2d(features * 2, out_features, kernel_size=1)\n",
        "        self.relu = nn.ReLU()\n",
        "        self.weight_net = nn.Conv2d(features,features,kernel_size=1)\n",
        "\n",
        "    def __make_weight(self,feature,scale_feature):\n",
        "        weight_feature = feature - scale_feature\n",
        "        return F.sigmoid(self.weight_net(weight_feature))\n",
        "\n",
        "    def _make_scale(self, features, size):\n",
        "        prior = nn.AdaptiveAvgPool2d(output_size=(size, size))\n",
        "        conv = nn.Conv2d(features, features, kernel_size=1, bias=False)\n",
        "        return nn.Sequential(prior, conv)\n",
        "\n",
        "    def forward(self, feats):\n",
        "        h, w = feats.size(2), feats.size(3)\n",
        "        multi_scales = [F.upsample(input=stage(feats), size=(h, w), mode='bilinear') for stage in self.scales]\n",
        "        weights = [self.__make_weight(feats,scale_feature) for scale_feature in multi_scales]\n",
        "        overall_features = [(multi_scales[0]*weights[0]+multi_scales[1]*weights[1]+multi_scales[2]*weights[2]+multi_scales[3]*weights[3])/(weights[0]+weights[1]+weights[2]+weights[3])]+ [feats]\n",
        "        bottle = self.bottleneck(torch.cat(overall_features, 1))\n",
        "        return self.relu(bottle)\n",
        "\n",
        "class CANNet(nn.Module):\n",
        "    def __init__(self, load_weights=False):\n",
        "        super(CANNet, self).__init__()\n",
        "        self.seen = 0\n",
        "        self.context = ContextualModule(512, 512)\n",
        "        self.frontend_feat = [64, 64, 'M', 128, 128, 'M', 256, 256, 256, 'M', 512, 512, 512]\n",
        "        self.backend_feat  = [512, 512, 512,256,128,64]\n",
        "        self.frontend = make_layers(self.frontend_feat)\n",
        "        self.backend = make_layers(self.backend_feat,in_channels = 512,batch_norm=True, dilation = True)\n",
        "        self.output_layer = nn.Conv2d(64, 1, kernel_size=1)\n",
        "        if not load_weights:\n",
        "            mod = models.vgg16(pretrained = True)\n",
        "            self._initialize_weights()\n",
        "            for i in xrange(len(self.frontend.state_dict().items())):\n",
        "                self.frontend.state_dict().items()[i][1].data[:] = mod.state_dict().items()[i][1].data[:]\n",
        "\n",
        "    def forward(self,x):\n",
        "        x = self.frontend(x)\n",
        "        x = self.context(x)\n",
        "        x = self.backend(x)\n",
        "        x = self.output_layer(x)\n",
        "        return x\n",
        "\n",
        "    def _initialize_weights(self):\n",
        "        for m in self.modules():\n",
        "            if isinstance(m, nn.Conv2d):\n",
        "                nn.init.normal_(m.weight, std=0.01)\n",
        "                if m.bias is not None:\n",
        "                    nn.init.constant_(m.bias, 0)\n",
        "            elif isinstance(m, nn.BatchNorm2d):\n",
        "                nn.init.constant_(m.weight, 1)\n",
        "                nn.init.constant_(m.bias, 0)\n",
        "\n",
        "def make_layers(cfg, in_channels = 3,batch_norm=False,dilation = False):\n",
        "    if dilation:\n",
        "        d_rate = 2\n",
        "    else:\n",
        "        d_rate = 1\n",
        "    layers = []\n",
        "    for v in cfg:\n",
        "        if v == 'M':\n",
        "            layers += [nn.MaxPool2d(kernel_size=2, stride=2)]\n",
        "        else:\n",
        "            conv2d = nn.Conv2d(in_channels, v, kernel_size=3, padding=d_rate,dilation = d_rate)\n",
        "            if batch_norm:\n",
        "                layers += [conv2d, nn.BatchNorm2d(v), nn.ReLU(inplace=True)]\n",
        "            else:\n",
        "                layers += [conv2d, nn.ReLU(inplace=True)]\n",
        "            in_channels = v\n",
        "    return nn.Sequential(*layers)"
      ],
      "execution_count": 0,
      "outputs": []
    },
    {
      "cell_type": "code",
      "metadata": {
        "id": "sfAW_KQiLRl1",
        "colab_type": "code",
        "colab": {}
      },
      "source": [
        "model = CANNet()"
      ],
      "execution_count": 0,
      "outputs": []
    },
    {
      "cell_type": "code",
      "metadata": {
        "id": "YpoV9jEnMmyN",
        "colab_type": "code",
        "colab": {
          "base_uri": "https://localhost:8080/",
          "height": 34
        },
        "outputId": "d262d706-481e-4929-a99c-4229cf2baf41"
      },
      "source": [
        "\n",
        "checkpoint = torch.load('ALL_WEIGHTS/checkpoint_low_separate.tar')\n",
        "\n",
        "model.load_state_dict(checkpoint['state_dict'])"
      ],
      "execution_count": 15,
      "outputs": [
        {
          "output_type": "execute_result",
          "data": {
            "text/plain": [
              "<All keys matched successfully>"
            ]
          },
          "metadata": {
            "tags": []
          },
          "execution_count": 15
        }
      ]
    },
    {
      "cell_type": "code",
      "metadata": {
        "id": "6vBkUioeMwOD",
        "colab_type": "code",
        "colab": {}
      },
      "source": [
        "\n",
        "\n",
        "import h5py\n",
        "import PIL.Image as Image\n",
        "import numpy as np\n",
        "import os\n",
        "import glob\n",
        "import scipy\n",
        "from image import *\n",
        "from model import CANNet\n",
        "import torch\n",
        "from torch.autograd import Variable\n",
        "\n",
        "from sklearn.metrics import mean_squared_error,mean_absolute_error\n",
        "\n",
        "from torchvision import transforms"
      ],
      "execution_count": 0,
      "outputs": []
    },
    {
      "cell_type": "code",
      "metadata": {
        "id": "TxlcWiX2MzkL",
        "colab_type": "code",
        "colab": {}
      },
      "source": [
        "transform=transforms.Compose([\n",
        "                       transforms.ToTensor(),transforms.Normalize(mean=[0.485, 0.456, 0.406],\n",
        "                                     std=[0.229, 0.224, 0.225]),\n",
        "                   ])"
      ],
      "execution_count": 0,
      "outputs": []
    },
    {
      "cell_type": "code",
      "metadata": {
        "id": "XjSq5MqdM2P4",
        "colab_type": "code",
        "colab": {}
      },
      "source": [
        "model.eval()\n",
        "\n",
        "names = []\n",
        "gt = []"
      ],
      "execution_count": 0,
      "outputs": []
    },
    {
      "cell_type": "code",
      "metadata": {
        "id": "n-b365zXM88l",
        "colab_type": "code",
        "colab": {}
      },
      "source": [
        "#Compute gt for the images\n",
        "for i in xrange(len(lower_training)):\n",
        "    img = transform(Image.open(lower_training[i]).convert('RGB')).cuda()\n",
        "    img = img.unsqueeze(0)\n",
        "    h,w = img.shape[2:4]\n",
        "    h_d = h/2\n",
        "    w_d = w/2\n",
        "    pure_name = os.path.splitext(os.path.basename(lower_training[i]))[0]\n",
        "    gt_file = h5py.File(lower_training[i].replace('.tiff','.h5').replace('images','ground_truth'),'r')\n",
        "    groundtruth = np.asarray(gt_file['density'])\n",
        "    #pred_sum = density_1.sum()+density_2.sum()+density_3.sum()+density_4.sum()\n",
        "    names.append(pure_name)\n",
        "    #round or int give same values\n",
        "    gt.append(round(np.sum(groundtruth)))"
      ],
      "execution_count": 0,
      "outputs": []
    },
    {
      "cell_type": "code",
      "metadata": {
        "id": "UhrCdowqNLkH",
        "colab_type": "code",
        "colab": {}
      },
      "source": [
        "arrgt = np.asarray(gt)\n",
        "arrnames = np.asarray(names)"
      ],
      "execution_count": 0,
      "outputs": []
    },
    {
      "cell_type": "code",
      "metadata": {
        "id": "o5YjPhXlNNvP",
        "colab_type": "code",
        "colab": {
          "base_uri": "https://localhost:8080/",
          "height": 51
        },
        "outputId": "a4f5ef04-e318-4d8c-b7ed-cfe38fd4b2ed"
      },
      "source": [
        "print(arrgt.shape)\n",
        "print(arrnames.shape)"
      ],
      "execution_count": 22,
      "outputs": [
        {
          "output_type": "stream",
          "text": [
            "(1581,)\n",
            "(1581,)\n"
          ],
          "name": "stdout"
        }
      ]
    },
    {
      "cell_type": "code",
      "metadata": {
        "id": "Uly8Z9LqNR4K",
        "colab_type": "code",
        "colab": {
          "base_uri": "https://localhost:8080/",
          "height": 51
        },
        "outputId": "989062ad-0527-4e92-87c3-10daf80302d1"
      },
      "source": [
        "print(arrgt)\n",
        "print(arrnames)"
      ],
      "execution_count": 23,
      "outputs": [
        {
          "output_type": "stream",
          "text": [
            "[0. 0. 0. ... 0. 8. 0.]\n",
            "['IMG_1' 'IMG_2' 'IMG_3' ... 'IMG_1579' 'IMG_1580' 'IMG_1581']\n"
          ],
          "name": "stdout"
        }
      ]
    },
    {
      "cell_type": "code",
      "metadata": {
        "id": "W08YcWPcNUNK",
        "colab_type": "code",
        "colab": {}
      },
      "source": [
        "\n",
        "class featureExtractor(nn.Module):\n",
        "    def __init__(self):\n",
        "        super(featureExtractor, self).__init__()\n",
        "        self.context = model.context\n",
        "        self.frontend = model.frontend\n",
        "\n",
        "    def forward(self,x):\n",
        "        x = self.frontend(x)\n",
        "        x = self.context(x)\n",
        "        return x\n",
        "\n",
        "\n",
        "\n",
        "net_conv1 = featureExtractor()\n"
      ],
      "execution_count": 0,
      "outputs": []
    },
    {
      "cell_type": "code",
      "metadata": {
        "id": "hl64ajNENXyz",
        "colab_type": "code",
        "colab": {}
      },
      "source": [
        "net_conv1 = net_conv1.cuda()"
      ],
      "execution_count": 0,
      "outputs": []
    },
    {
      "cell_type": "code",
      "metadata": {
        "id": "Sxj5ndBMQdS0",
        "colab_type": "code",
        "colab": {}
      },
      "source": [
        "features_savepath = 'BEST_TRAIN_LOw/' \n",
        "if not os.path.exists(features_savepath):\n",
        "    os.makedirs(features_savepath)"
      ],
      "execution_count": 0,
      "outputs": []
    },
    {
      "cell_type": "code",
      "metadata": {
        "id": "IN4jcQB5NcDp",
        "colab_type": "code",
        "colab": {}
      },
      "source": [
        "np.save(features_savepath +'/ground_truth_counts_train_low.npy', arrgt)\n",
        "np.save(features_savepath +'/ground_truth_names_train_low.npy', arrnames)"
      ],
      "execution_count": 0,
      "outputs": []
    },
    {
      "cell_type": "code",
      "metadata": {
        "id": "ZST8gsnPNme7",
        "colab_type": "code",
        "colab": {
          "base_uri": "https://localhost:8080/",
          "height": 139
        },
        "outputId": "82954329-9fe6-4183-8b9d-5a84f57841fb"
      },
      "source": [
        "x =[]\n",
        "y = []\n",
        "for i in xrange(len(lower_training)):\n",
        "    img = transform(Image.open(lower_training[i]).convert('RGB')).cuda()\n",
        "    img = img.unsqueeze(0)\n",
        "    h,w = img.shape[2:4]\n",
        "    density= net_conv1(img).data.cpu().numpy()\n",
        "    act = np.squeeze(density)\n",
        "    pure_name = os.path.splitext(os.path.basename(lower_training[i]))[0]\n",
        "    x.append(act)\n",
        "    y.append(pure_name)\n",
        "\n",
        "    #density = np.squeeze(3)\n",
        "    \n",
        "\n"
      ],
      "execution_count": 29,
      "outputs": [
        {
          "output_type": "stream",
          "text": [
            "/usr/local/lib/python2.7/dist-packages/torch/nn/functional.py:2416: UserWarning: nn.functional.upsample is deprecated. Use nn.functional.interpolate instead.\n",
            "  warnings.warn(\"nn.functional.upsample is deprecated. Use nn.functional.interpolate instead.\")\n",
            "/usr/local/lib/python2.7/dist-packages/torch/nn/functional.py:2506: UserWarning: Default upsampling behavior when mode=bilinear is changed to align_corners=False since 0.4.0. Please specify align_corners=True if the old behavior is desired. See the documentation of nn.Upsample for details.\n",
            "  \"See the documentation of nn.Upsample for details.\".format(mode))\n",
            "/usr/local/lib/python2.7/dist-packages/torch/nn/functional.py:1351: UserWarning: nn.functional.sigmoid is deprecated. Use torch.sigmoid instead.\n",
            "  warnings.warn(\"nn.functional.sigmoid is deprecated. Use torch.sigmoid instead.\")\n"
          ],
          "name": "stderr"
        }
      ]
    },
    {
      "cell_type": "code",
      "metadata": {
        "id": "hYqCS84uNyjm",
        "colab_type": "code",
        "colab": {}
      },
      "source": [
        "s= 0\n",
        "a = 0\n",
        "all_feats =[]"
      ],
      "execution_count": 0,
      "outputs": []
    },
    {
      "cell_type": "code",
      "metadata": {
        "id": "BcObCmBHN0ey",
        "colab_type": "code",
        "colab": {}
      },
      "source": [
        "for i in range(low_train):\n",
        "  feats = []\n",
        "  for j in range(512):\n",
        "    s = 0\n",
        "    for k in range (42):\n",
        "      for l in range(42):\n",
        "        s = s + x[i][j][k][l]\n",
        "    a = s/1764\n",
        "    feats.append(a)\n",
        "  all_feats.append(feats)"
      ],
      "execution_count": 0,
      "outputs": []
    },
    {
      "cell_type": "code",
      "metadata": {
        "id": "NA2F_IgRN4zq",
        "colab_type": "code",
        "colab": {}
      },
      "source": [
        "f = np.array(all_feats)"
      ],
      "execution_count": 0,
      "outputs": []
    },
    {
      "cell_type": "code",
      "metadata": {
        "id": "t-xzP4sWQ5LM",
        "colab_type": "code",
        "colab": {}
      },
      "source": [
        "features = 'BEST_TRAIN_LOw/FEATURES/' \n",
        "if not os.path.exists(features):\n",
        "    os.makedirs(features)"
      ],
      "execution_count": 0,
      "outputs": []
    },
    {
      "cell_type": "code",
      "metadata": {
        "id": "0LUTzW6_N92e",
        "colab_type": "code",
        "colab": {}
      },
      "source": [
        "for i in range(low_train):\n",
        "  x=np.array(f[i])\n",
        "  np.save(features+'/IMG_'+str(i+1)+'.npy',x)"
      ],
      "execution_count": 0,
      "outputs": []
    }
  ]
}