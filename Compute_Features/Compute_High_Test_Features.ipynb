{
  "nbformat": 4,
  "nbformat_minor": 0,
  "metadata": {
    "colab": {
      "name": "Compute_High_Test_Features.ipynb",
      "provenance": []
    },
    "kernelspec": {
      "name": "python2",
      "display_name": "Python 2"
    },
    "accelerator": "GPU"
  },
  "cells": [
    {
      "cell_type": "code",
      "metadata": {
        "id": "QMvREJJJA_1-",
        "colab_type": "code",
        "colab": {}
      },
      "source": [
        "high_test = 54"
      ],
      "execution_count": 0,
      "outputs": []
    },
    {
      "cell_type": "code",
      "metadata": {
        "id": "XyKWEb9gtB5E",
        "colab_type": "code",
        "colab": {}
      },
      "source": [
        "high_testing = ['part_B_final/test_data_high/images/IMG_50.tiff', 'part_B_final/test_data_mids/images/IMG_89.tiff', 'part_B_final/test_data_high/images/IMG_43.tiff', 'part_B_final/test_data_high/images/IMG_16.tiff', 'part_B_final/test_data_high/images/IMG_7.tiff', 'part_B_final/test_data_high/images/IMG_21.tiff', 'part_B_final/test_data_high/images/IMG_10.tiff', 'part_B_final/test_data_high/images/IMG_12.tiff', 'part_B_final/test_data_mids/images/IMG_70.tiff', 'part_B_final/test_data_high/images/IMG_42.tiff', 'part_B_final/test_data_high/images/IMG_39.tiff', 'part_B_final/test_data_mids/images/IMG_95.tiff', 'part_B_final/test_data_high/images/IMG_9.tiff', 'part_B_final/test_data_high/images/IMG_31.tiff', 'part_B_final/test_data_high/images/IMG_48.tiff', 'part_B_final/test_data_high/images/IMG_40.tiff', 'part_B_final/test_data_mids/images/IMG_101.tiff', 'part_B_final/test_data_high/images/IMG_2.tiff', 'part_B_final/test_data_high/images/IMG_35.tiff', 'part_B_final/test_data_high/images/IMG_52.tiff', 'part_B_final/test_data_high/images/IMG_30.tiff', 'part_B_final/test_data_mids/images/IMG_118.tiff', 'part_B_final/test_data_mids/images/IMG_113.tiff', 'part_B_final/test_data_high/images/IMG_24.tiff', 'part_B_final/test_data_high/images/IMG_23.tiff', 'part_B_final/test_data_high/images/IMG_41.tiff', 'part_B_final/test_data_high/images/IMG_13.tiff', 'part_B_final/test_data_high/images/IMG_32.tiff', 'part_B_final/test_data_high/images/IMG_4.tiff', 'part_B_final/test_data_mids/images/IMG_91.tiff', 'part_B_final/test_data_high/images/IMG_51.tiff', 'part_B_final/test_data_mids/images/IMG_109.tiff', 'part_B_final/test_data_high/images/IMG_18.tiff', 'part_B_final/test_data_high/images/IMG_45.tiff', 'part_B_final/test_data_high/images/IMG_33.tiff', 'part_B_final/test_data_high/images/IMG_49.tiff', 'part_B_final/test_data_high/images/IMG_17.tiff', 'part_B_final/test_data_mids/images/IMG_102.tiff', 'part_B_final/test_data_high/images/IMG_47.tiff', 'part_B_final/test_data_high/images/IMG_1.tiff', 'part_B_final/test_data_high/images/IMG_8.tiff', 'part_B_final/test_data_high/images/IMG_19.tiff', 'part_B_final/test_data_high/images/IMG_15.tiff', 'part_B_final/test_data_high/images/IMG_46.tiff', 'part_B_final/test_data_high/images/IMG_22.tiff', 'part_B_final/test_data_high/images/IMG_14.tiff', 'part_B_final/test_data_high/images/IMG_5.tiff', 'part_B_final/test_data_high/images/IMG_25.tiff', 'part_B_final/test_data_high/images/IMG_44.tiff', 'part_B_final/test_data_high/images/IMG_26.tiff', 'part_B_final/test_data_high/images/IMG_29.tiff', 'part_B_final/test_data_mids/images/IMG_93.tiff', 'part_B_final/test_data_high/images/IMG_27.tiff', 'part_B_final/test_data_mids/images/IMG_97.tiff']"
      ],
      "execution_count": 0,
      "outputs": []
    },
    {
      "cell_type": "code",
      "metadata": {
        "id": "mWkWDG-0tKc2",
        "colab_type": "code",
        "outputId": "8fa7a314-a395-45e2-d6c3-d100680bb311",
        "colab": {
          "base_uri": "https://localhost:8080/",
          "height": 34
        }
      },
      "source": [
        "print(len(high_testing))"
      ],
      "execution_count": 39,
      "outputs": [
        {
          "output_type": "stream",
          "text": [
            "54\n"
          ],
          "name": "stdout"
        }
      ]
    },
    {
      "cell_type": "code",
      "metadata": {
        "id": "vxwZqVJICMLh",
        "colab_type": "code",
        "colab": {}
      },
      "source": [
        "import sys\n",
        "import os\n",
        "\n",
        "import warnings\n",
        "\n",
        "\n",
        "\n",
        "\n",
        "import torch\n",
        "import torch.nn as nn\n",
        "from torch.autograd import Variable\n",
        "from torchvision import datasets, transforms\n",
        "\n",
        "import numpy as np\n",
        "import argparse\n",
        "import json\n",
        "import cv2\n",
        "import dataset\n",
        "import time"
      ],
      "execution_count": 0,
      "outputs": []
    },
    {
      "cell_type": "code",
      "metadata": {
        "id": "4Rt3uUfUCOKd",
        "colab_type": "code",
        "colab": {}
      },
      "source": [
        "import torch.nn as nn\n",
        "import torch\n",
        "from torch.nn import functional as F\n",
        "from torchvision import models\n",
        "\n",
        "class ContextualModule(nn.Module):\n",
        "    def __init__(self, features, out_features=512, sizes=(1, 2, 3, 6)):\n",
        "        super(ContextualModule, self).__init__()\n",
        "        self.scales = []\n",
        "        self.scales = nn.ModuleList([self._make_scale(features, size) for size in sizes])\n",
        "        self.bottleneck = nn.Conv2d(features * 2, out_features, kernel_size=1)\n",
        "        self.relu = nn.ReLU()\n",
        "        self.weight_net = nn.Conv2d(features,features,kernel_size=1)\n",
        "\n",
        "    def __make_weight(self,feature,scale_feature):\n",
        "        weight_feature = feature - scale_feature\n",
        "        return F.sigmoid(self.weight_net(weight_feature))\n",
        "\n",
        "    def _make_scale(self, features, size):\n",
        "        prior = nn.AdaptiveAvgPool2d(output_size=(size, size))\n",
        "        conv = nn.Conv2d(features, features, kernel_size=1, bias=False)\n",
        "        return nn.Sequential(prior, conv)\n",
        "\n",
        "    def forward(self, feats):\n",
        "        h, w = feats.size(2), feats.size(3)\n",
        "        multi_scales = [F.upsample(input=stage(feats), size=(h, w), mode='bilinear') for stage in self.scales]\n",
        "        weights = [self.__make_weight(feats,scale_feature) for scale_feature in multi_scales]\n",
        "        overall_features = [(multi_scales[0]*weights[0]+multi_scales[1]*weights[1]+multi_scales[2]*weights[2]+multi_scales[3]*weights[3])/(weights[0]+weights[1]+weights[2]+weights[3])]+ [feats]\n",
        "        bottle = self.bottleneck(torch.cat(overall_features, 1))\n",
        "        return self.relu(bottle)\n",
        "\n",
        "class CANNet(nn.Module):\n",
        "    def __init__(self, load_weights=False):\n",
        "        super(CANNet, self).__init__()\n",
        "        self.seen = 0\n",
        "        self.context = ContextualModule(512, 512)\n",
        "        self.frontend_feat = [64, 64, 'M', 128, 128, 'M', 256, 256, 256, 'M', 512, 512, 512]\n",
        "        self.backend_feat  = [512, 512, 512,256,128,64]\n",
        "        self.frontend = make_layers(self.frontend_feat)\n",
        "        self.backend = make_layers(self.backend_feat,in_channels = 512,batch_norm=True, dilation = True)\n",
        "        self.output_layer = nn.Conv2d(64, 1, kernel_size=1)\n",
        "        if not load_weights:\n",
        "            mod = models.vgg16(pretrained = True)\n",
        "            self._initialize_weights()\n",
        "            for i in xrange(len(self.frontend.state_dict().items())):\n",
        "                self.frontend.state_dict().items()[i][1].data[:] = mod.state_dict().items()[i][1].data[:]\n",
        "\n",
        "    def forward(self,x):\n",
        "        x = self.frontend(x)\n",
        "        x = self.context(x)\n",
        "        return x\n",
        "        x = self.backend(x)\n",
        "        x = self.output_layer(x)\n",
        "        return x\n",
        "\n",
        "    def _initialize_weights(self):\n",
        "        for m in self.modules():\n",
        "            if isinstance(m, nn.Conv2d):\n",
        "                nn.init.normal_(m.weight, std=0.01)\n",
        "                if m.bias is not None:\n",
        "                    nn.init.constant_(m.bias, 0)\n",
        "            elif isinstance(m, nn.BatchNorm2d):\n",
        "                nn.init.constant_(m.weight, 1)\n",
        "                nn.init.constant_(m.bias, 0)\n",
        "\n",
        "def make_layers(cfg, in_channels = 3,batch_norm=False,dilation = False):\n",
        "    if dilation:\n",
        "        d_rate = 2\n",
        "    else:\n",
        "        d_rate = 1\n",
        "    layers = []\n",
        "    for v in cfg:\n",
        "        if v == 'M':\n",
        "            layers += [nn.MaxPool2d(kernel_size=2, stride=2)]\n",
        "        else:\n",
        "            conv2d = nn.Conv2d(in_channels, v, kernel_size=3, padding=d_rate,dilation = d_rate)\n",
        "            if batch_norm:\n",
        "                layers += [conv2d, nn.BatchNorm2d(v), nn.ReLU(inplace=True)]\n",
        "            else:\n",
        "                layers += [conv2d, nn.ReLU(inplace=True)]\n",
        "            in_channels = v\n",
        "    return nn.Sequential(*layers)"
      ],
      "execution_count": 0,
      "outputs": []
    },
    {
      "cell_type": "code",
      "metadata": {
        "id": "nTuCL2XTCO3O",
        "colab_type": "code",
        "colab": {}
      },
      "source": [
        "model = CANNet()"
      ],
      "execution_count": 0,
      "outputs": []
    },
    {
      "cell_type": "code",
      "metadata": {
        "id": "Wovh-SwYCUzQ",
        "colab_type": "code",
        "colab": {}
      },
      "source": [
        "model = model.cuda()"
      ],
      "execution_count": 0,
      "outputs": []
    },
    {
      "cell_type": "code",
      "metadata": {
        "id": "q78I7tvzCYDq",
        "colab_type": "code",
        "outputId": "2cd6bf47-1dee-4cfa-b1f9-a58a15be7872",
        "colab": {
          "base_uri": "https://localhost:8080/",
          "height": 34
        }
      },
      "source": [
        "checkpoint = torch.load('ALL_WEIGHTS/checkpoint_high_separate.tar')\n",
        "\n",
        "model.load_state_dict(checkpoint['state_dict'])"
      ],
      "execution_count": 44,
      "outputs": [
        {
          "output_type": "execute_result",
          "data": {
            "text/plain": [
              "<All keys matched successfully>"
            ]
          },
          "metadata": {
            "tags": []
          },
          "execution_count": 44
        }
      ]
    },
    {
      "cell_type": "code",
      "metadata": {
        "id": "NodRpRNtCexj",
        "colab_type": "code",
        "colab": {}
      },
      "source": [
        "\n",
        "\n",
        "import h5py\n",
        "import PIL.Image as Image\n",
        "import numpy as np\n",
        "import os\n",
        "import glob\n",
        "import scipy\n",
        "from image import *\n",
        "from model import CANNet\n",
        "import torch\n",
        "from torch.autograd import Variable\n",
        "\n",
        "from sklearn.metrics import mean_squared_error,mean_absolute_error\n",
        "\n",
        "from torchvision import transforms"
      ],
      "execution_count": 0,
      "outputs": []
    },
    {
      "cell_type": "code",
      "metadata": {
        "id": "rDUpZXK1Cgq0",
        "colab_type": "code",
        "colab": {}
      },
      "source": [
        "transform=transforms.Compose([\n",
        "                       transforms.ToTensor(),transforms.Normalize(mean=[0.485, 0.456, 0.406],\n",
        "                                     std=[0.229, 0.224, 0.225]),\n",
        "                   ])"
      ],
      "execution_count": 0,
      "outputs": []
    },
    {
      "cell_type": "code",
      "metadata": {
        "id": "cAYiXM5jDMKh",
        "colab_type": "code",
        "colab": {}
      },
      "source": [
        "names =[]\n",
        "for i in range(high_test):\n",
        "  names.append('IMG_'+str(i+1))"
      ],
      "execution_count": 0,
      "outputs": []
    },
    {
      "cell_type": "code",
      "metadata": {
        "id": "gZD5uFHbCkn_",
        "colab_type": "code",
        "colab": {}
      },
      "source": [
        "model.eval()\n",
        "\n",
        "\n",
        "gt = []"
      ],
      "execution_count": 0,
      "outputs": []
    },
    {
      "cell_type": "code",
      "metadata": {
        "id": "5zbW0i4UCmd0",
        "colab_type": "code",
        "colab": {}
      },
      "source": [
        "for i in xrange(len(high_testing)):\n",
        "    gt_file = h5py.File(high_testing[i].replace('.tiff','.h5').replace('images','ground_truth'),'r')\n",
        "    groundtruth = np.asarray(gt_file['density'])\n",
        "    gt.append(round(np.sum(groundtruth)))"
      ],
      "execution_count": 0,
      "outputs": []
    },
    {
      "cell_type": "code",
      "metadata": {
        "id": "Hh1YCwGyEO44",
        "colab_type": "code",
        "colab": {}
      },
      "source": [
        "arrgt = np.asarray(gt)\n",
        "arrnames = np.asarray(names)"
      ],
      "execution_count": 0,
      "outputs": []
    },
    {
      "cell_type": "code",
      "metadata": {
        "id": "sUre9qUjEQxD",
        "colab_type": "code",
        "outputId": "010f2ff1-e48f-44f0-8081-22e22ea82d1c",
        "colab": {
          "base_uri": "https://localhost:8080/",
          "height": 51
        }
      },
      "source": [
        "print(arrgt.shape)\n",
        "print(arrnames.shape)"
      ],
      "execution_count": 53,
      "outputs": [
        {
          "output_type": "stream",
          "text": [
            "(54,)\n",
            "(54,)\n"
          ],
          "name": "stdout"
        }
      ]
    },
    {
      "cell_type": "code",
      "metadata": {
        "id": "iBgFRi30ESTZ",
        "colab_type": "code",
        "outputId": "0ef987c0-5d09-4151-de52-0b1a04c2128d",
        "colab": {
          "base_uri": "https://localhost:8080/",
          "height": 187
        }
      },
      "source": [
        "print(arrgt)\n",
        "print(arrnames)"
      ],
      "execution_count": 54,
      "outputs": [
        {
          "output_type": "stream",
          "text": [
            "[67. 32. 67. 57. 49. 70. 50. 45. 33. 95. 57. 40. 42. 53. 70. 44. 39. 45.\n",
            " 52. 79. 46. 35. 36. 41. 43. 47. 55. 47. 44. 37. 63. 39. 50. 98. 47. 61.\n",
            " 48. 40. 72. 46. 54. 44. 59. 62. 45. 53. 43. 41. 65. 46. 43. 40. 41. 33.]\n",
            "['IMG_1' 'IMG_2' 'IMG_3' 'IMG_4' 'IMG_5' 'IMG_6' 'IMG_7' 'IMG_8' 'IMG_9'\n",
            " 'IMG_10' 'IMG_11' 'IMG_12' 'IMG_13' 'IMG_14' 'IMG_15' 'IMG_16' 'IMG_17'\n",
            " 'IMG_18' 'IMG_19' 'IMG_20' 'IMG_21' 'IMG_22' 'IMG_23' 'IMG_24' 'IMG_25'\n",
            " 'IMG_26' 'IMG_27' 'IMG_28' 'IMG_29' 'IMG_30' 'IMG_31' 'IMG_32' 'IMG_33'\n",
            " 'IMG_34' 'IMG_35' 'IMG_36' 'IMG_37' 'IMG_38' 'IMG_39' 'IMG_40' 'IMG_41'\n",
            " 'IMG_42' 'IMG_43' 'IMG_44' 'IMG_45' 'IMG_46' 'IMG_47' 'IMG_48' 'IMG_49'\n",
            " 'IMG_50' 'IMG_51' 'IMG_52' 'IMG_53' 'IMG_54']\n"
          ],
          "name": "stdout"
        }
      ]
    },
    {
      "cell_type": "code",
      "metadata": {
        "id": "7G5aPdNwutOi",
        "colab_type": "code",
        "colab": {}
      },
      "source": [
        "features_savepath = 'BEST_TEST_HIGH/' \n",
        "if not os.path.exists(features_savepath):\n",
        "    os.makedirs(features_savepath)"
      ],
      "execution_count": 0,
      "outputs": []
    },
    {
      "cell_type": "code",
      "metadata": {
        "id": "vcmIIB4WEUCd",
        "colab_type": "code",
        "colab": {}
      },
      "source": [
        "np.save(features_savepath +'/ground_truth_counts_test_high.npy', arrgt)\n",
        "np.save(features_savepath +'/ground_truth_names_test_high.npy', arrnames)"
      ],
      "execution_count": 0,
      "outputs": []
    },
    {
      "cell_type": "code",
      "metadata": {
        "id": "LSCpBScREfjQ",
        "colab_type": "code",
        "colab": {}
      },
      "source": [
        "\n",
        "class featureExtractor(nn.Module):\n",
        "    def __init__(self):\n",
        "        super(featureExtractor, self).__init__()\n",
        "        self.context = model.context\n",
        "        self.frontend = model.frontend\n",
        "\n",
        "    def forward(self,x):\n",
        "        x = self.frontend(x)\n",
        "        x = self.context(x)\n",
        "        return x\n",
        "\n",
        "\n",
        "\n",
        "net_conv1 = featureExtractor()\n"
      ],
      "execution_count": 0,
      "outputs": []
    },
    {
      "cell_type": "code",
      "metadata": {
        "id": "Di5ZfILVEke6",
        "colab_type": "code",
        "colab": {}
      },
      "source": [
        "net_conv1 = net_conv1.cuda()"
      ],
      "execution_count": 0,
      "outputs": []
    },
    {
      "cell_type": "code",
      "metadata": {
        "id": "63aMwhiAEmRb",
        "colab_type": "code",
        "colab": {}
      },
      "source": [
        "x =[]\n"
      ],
      "execution_count": 0,
      "outputs": []
    },
    {
      "cell_type": "code",
      "metadata": {
        "id": "ebIzb4lOEn4C",
        "colab_type": "code",
        "colab": {}
      },
      "source": [
        "for i in xrange(len(high_testing)):\n",
        "    img = transform(Image.open(high_testing[i]).convert('RGB')).cuda()\n",
        "    img = img.unsqueeze(0)\n",
        "    h,w = img.shape[2:4]\n",
        "    density= net_conv1(img).data.cpu().numpy()\n",
        "    act = np.squeeze(density)\n",
        "    pure_name = os.path.splitext(os.path.basename(high_testing[i]))[0]\n",
        "    x.append(act)\n",
        "    \n",
        "\n",
        "    #density = np.squeeze(3)\n",
        "    \n",
        "\n"
      ],
      "execution_count": 0,
      "outputs": []
    },
    {
      "cell_type": "code",
      "metadata": {
        "id": "VqSE041rEw_d",
        "colab_type": "code",
        "outputId": "ab5bf379-275a-4f8c-c688-4fc4a5697b1f",
        "colab": {
          "base_uri": "https://localhost:8080/",
          "height": 34
        }
      },
      "source": [
        "print(len(x))"
      ],
      "execution_count": 61,
      "outputs": [
        {
          "output_type": "stream",
          "text": [
            "54\n"
          ],
          "name": "stdout"
        }
      ]
    },
    {
      "cell_type": "code",
      "metadata": {
        "id": "v2s_31xaE0rW",
        "colab_type": "code",
        "colab": {}
      },
      "source": [
        "all_feats = []"
      ],
      "execution_count": 0,
      "outputs": []
    },
    {
      "cell_type": "code",
      "metadata": {
        "id": "yun-qxghvF72",
        "colab_type": "code",
        "colab": {}
      },
      "source": [
        ""
      ],
      "execution_count": 0,
      "outputs": []
    },
    {
      "cell_type": "code",
      "metadata": {
        "id": "SvxU9UWzE88K",
        "colab_type": "code",
        "colab": {}
      },
      "source": [
        "for i in range(high_test):\n",
        "  feats = []\n",
        "  for j in range(512):\n",
        "    s = 0\n",
        "    for k in range (42):\n",
        "      for l in range(42):\n",
        "        s = s + x[i][j][k][l]\n",
        "    a = s/1764\n",
        "    feats.append(a)\n",
        "  all_feats.append(feats)"
      ],
      "execution_count": 0,
      "outputs": []
    },
    {
      "cell_type": "code",
      "metadata": {
        "id": "xqZrsDU0FBcO",
        "colab_type": "code",
        "colab": {}
      },
      "source": [
        "f = np.array(all_feats)"
      ],
      "execution_count": 0,
      "outputs": []
    },
    {
      "cell_type": "code",
      "metadata": {
        "id": "eiv8PrR3FDL3",
        "colab_type": "code",
        "colab": {}
      },
      "source": [
        "print(f.shape)"
      ],
      "execution_count": 0,
      "outputs": []
    },
    {
      "cell_type": "code",
      "metadata": {
        "id": "0FOohBTHFFc4",
        "colab_type": "code",
        "colab": {}
      },
      "source": [
        "features = 'BEST_TEST_HIGH/FEATURES/' \n",
        "if not os.path.exists(features):\n",
        "    os.makedirs(features)"
      ],
      "execution_count": 0,
      "outputs": []
    },
    {
      "cell_type": "code",
      "metadata": {
        "id": "wXXMvD4zFH-U",
        "colab_type": "code",
        "colab": {}
      },
      "source": [
        "for i in range(high_test):\n",
        "  x=np.array(f[i])\n",
        "  np.save(features+'/IMG_'+str(i+1)+'.npy',x)"
      ],
      "execution_count": 0,
      "outputs": []
    },
    {
      "cell_type": "code",
      "metadata": {
        "id": "jIALnieNB_lU",
        "colab_type": "code",
        "colab": {}
      },
      "source": [
        ""
      ],
      "execution_count": 0,
      "outputs": []
    }
  ]
}